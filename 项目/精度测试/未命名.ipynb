{
 "cells": [
  {
   "cell_type": "code",
   "execution_count": 1,
   "id": "1987b2e1",
   "metadata": {},
   "outputs": [],
   "source": [
    "import torch\n",
    "import netron"
   ]
  },
  {
   "cell_type": "code",
   "execution_count": 10,
   "id": "cddb57b6",
   "metadata": {},
   "outputs": [],
   "source": [
    "model_path = 'pth/test_conv_pool.onnx'"
   ]
  },
  {
   "cell_type": "code",
   "execution_count": 11,
   "id": "13b9ecd1",
   "metadata": {},
   "outputs": [
    {
     "name": "stdout",
     "output_type": "stream",
     "text": [
      "Serving 'pth/test_conv_pool.onnx' at http://localhost:19696\n"
     ]
    },
    {
     "data": {
      "text/plain": [
       "('localhost', 19696)"
      ]
     },
     "execution_count": 11,
     "metadata": {},
     "output_type": "execute_result"
    }
   ],
   "source": [
    "netron.start(model_path)"
   ]
  },
  {
   "cell_type": "code",
   "execution_count": null,
   "id": "a89e6353",
   "metadata": {},
   "outputs": [],
   "source": []
  }
 ],
 "metadata": {
  "kernelspec": {
   "display_name": "Python 3 (ipykernel)",
   "language": "python",
   "name": "python3"
  },
  "language_info": {
   "codemirror_mode": {
    "name": "ipython",
    "version": 3
   },
   "file_extension": ".py",
   "mimetype": "text/x-python",
   "name": "python",
   "nbconvert_exporter": "python",
   "pygments_lexer": "ipython3",
   "version": "3.7.0"
  }
 },
 "nbformat": 4,
 "nbformat_minor": 5
}

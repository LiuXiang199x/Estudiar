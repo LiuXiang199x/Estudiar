{
 "cells": [
  {
   "cell_type": "code",
   "execution_count": 1,
   "id": "5e3fa74f",
   "metadata": {},
   "outputs": [],
   "source": [
    "import torch\n",
    "import torch.nn as nn\n",
    "import torch.nn.functional as F"
   ]
  },
  {
   "cell_type": "code",
   "execution_count": 25,
   "id": "b0ce5db1",
   "metadata": {},
   "outputs": [
    {
     "name": "stdout",
     "output_type": "stream",
     "text": [
      "tensor([[2, 3]])\n",
      "torch.Size([1, 2])\n",
      "tensor([[[2],\n",
      "         [3]]])\n",
      "tensor([[2, 3]])\n",
      "tensor(5)\n",
      "tensor(-0.5677)\n"
     ]
    }
   ],
   "source": [
    "inputs = torch.randn(1, 4, 481, 481)\n",
    "\n",
    "a = torch.tensor([[2,3]])\n",
    "b = torch.randn(10,10)\n",
    "print(a)\n",
    "print(a.size())\n",
    "print(torch.unsqueeze(a, 2))\n",
    "print(a)\n",
    "print(a[:][:,0][0] + a[:][:,1][0])\n",
    "print(b[a[:][:,0][0]][a[:][:,1][0]])"
   ]
  },
  {
   "cell_type": "code",
   "execution_count": 34,
   "id": "29381d73",
   "metadata": {},
   "outputs": [],
   "source": [
    "def crop_map(inputs, x, crop_size):\n",
    "    \n",
    "    map_tmp = torch.zeros(1, 4, crop_size+crop_size//2, crop_size+crop_size//2)\n",
    "    map_c1 = torch.ones(crop_size+crop_size//2,crop_size+crop_size//2)\n",
    "    map_tmp[0][0] = map_c1\n",
    "    \n",
    "    x_pos = x[:][:,0][0]\n",
    "    y_pos = x[:][:,0][1]\n",
    "    \n",
    "    print(map_tmp.size())\n",
    "    print(map_tmp)"
   ]
  },
  {
   "cell_type": "code",
   "execution_count": 35,
   "id": "e8796946",
   "metadata": {},
   "outputs": [
    {
     "name": "stdout",
     "output_type": "stream",
     "text": [
      "torch.Size([1, 4, 6, 6])\n",
      "tensor([[[[1., 1., 1., 1., 1., 1.],\n",
      "          [1., 1., 1., 1., 1., 1.],\n",
      "          [1., 1., 1., 1., 1., 1.],\n",
      "          [1., 1., 1., 1., 1., 1.],\n",
      "          [1., 1., 1., 1., 1., 1.],\n",
      "          [1., 1., 1., 1., 1., 1.]],\n",
      "\n",
      "         [[0., 0., 0., 0., 0., 0.],\n",
      "          [0., 0., 0., 0., 0., 0.],\n",
      "          [0., 0., 0., 0., 0., 0.],\n",
      "          [0., 0., 0., 0., 0., 0.],\n",
      "          [0., 0., 0., 0., 0., 0.],\n",
      "          [0., 0., 0., 0., 0., 0.]],\n",
      "\n",
      "         [[0., 0., 0., 0., 0., 0.],\n",
      "          [0., 0., 0., 0., 0., 0.],\n",
      "          [0., 0., 0., 0., 0., 0.],\n",
      "          [0., 0., 0., 0., 0., 0.],\n",
      "          [0., 0., 0., 0., 0., 0.],\n",
      "          [0., 0., 0., 0., 0., 0.]],\n",
      "\n",
      "         [[0., 0., 0., 0., 0., 0.],\n",
      "          [0., 0., 0., 0., 0., 0.],\n",
      "          [0., 0., 0., 0., 0., 0.],\n",
      "          [0., 0., 0., 0., 0., 0.],\n",
      "          [0., 0., 0., 0., 0., 0.],\n",
      "          [0., 0., 0., 0., 0., 0.]]]])\n"
     ]
    }
   ],
   "source": [
    "crop_map(1,2,4)"
   ]
  },
  {
   "cell_type": "code",
   "execution_count": null,
   "id": "b43652e0",
   "metadata": {},
   "outputs": [],
   "source": []
  }
 ],
 "metadata": {
  "kernelspec": {
   "display_name": "Python 3 (ipykernel)",
   "language": "python",
   "name": "python3"
  },
  "language_info": {
   "codemirror_mode": {
    "name": "ipython",
    "version": 3
   },
   "file_extension": ".py",
   "mimetype": "text/x-python",
   "name": "python",
   "nbconvert_exporter": "python",
   "pygments_lexer": "ipython3",
   "version": "3.7.0"
  }
 },
 "nbformat": 4,
 "nbformat_minor": 5
}

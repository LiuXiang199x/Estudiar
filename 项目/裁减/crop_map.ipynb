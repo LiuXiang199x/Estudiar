{
 "cells": [
  {
   "cell_type": "code",
   "execution_count": 175,
   "id": "8c4e1e55",
   "metadata": {},
   "outputs": [],
   "source": [
    "import torch\n",
    "import torch.nn as nn\n",
    "import torch.nn.functional as F"
   ]
  },
  {
   "cell_type": "code",
   "execution_count": 176,
   "id": "ce7d0d15",
   "metadata": {},
   "outputs": [
    {
     "name": "stdout",
     "output_type": "stream",
     "text": [
      "tensor([[3, 3]])\n"
     ]
    }
   ],
   "source": [
    "inputs = torch.randn(1, 4, 481, 481)\n",
    "inputs[0][3][3][3] = 1\n",
    "x = torch.nonzero(inputs[0][3]==1)\n",
    "print(x)"
   ]
  },
  {
   "cell_type": "code",
   "execution_count": 245,
   "id": "2d153352",
   "metadata": {},
   "outputs": [],
   "source": [
    "def crop_map(h, crop_size):\n",
    "    \n",
    "    bs, ch, H, W = h.size()\n",
    "    print(h.size())\n",
    "    \n",
    "    map_tmp = torch.zeros(1, 4, H+crop_size, W+crop_size)\n",
    "    map_c1 = torch.ones(H+crop_size, W+crop_size)\n",
    "    map_tmp[0][0] = map_c1\n",
    "   \n",
    "    for i in range(ch):\n",
    "        map_tmp[0][i][crop_size//2:crop_size//2+H, crop_size//2:crop_size//2+W] = h[0][i]\n",
    "    \n",
    "    x_pos = torch.nonzero(map_tmp[0][3]==1)[:][:,0][0]\n",
    "    y_pos = torch.nonzero(map_tmp[0][3]==1)[:][:,1][0]\n",
    "    \n",
    "    # print(map_tmp)\n",
    "    print(\"x_pos:{}, y_pos:{}\".format(x_pos,y_pos))\n",
    "    # print(map_tmp.size())\n",
    "    # print(torch.nonzero(map_tmp[0][3]==1))\n",
    "    \n",
    "    output = torch.randn(1, 4, crop_size, crop_size)\n",
    "    \n",
    "    for i in range(ch):\n",
    "        if crop_size%2 == 0:\n",
    "            output[0][i] = map_tmp[0][i][x_pos-crop_size//2:x_pos+crop_size//2, y_pos-crop_size//2:y_pos+crop_size//2]\n",
    "        else:\n",
    "            output[0][i] = map_tmp[0][i][x_pos-crop_size//2:x_pos+crop_size//2+1, y_pos-crop_size//2:y_pos+crop_size//2+1]\n",
    "            \n",
    "    return output"
   ]
  },
  {
   "cell_type": "code",
   "execution_count": 246,
   "id": "fb5e2e90",
   "metadata": {},
   "outputs": [
    {
     "name": "stdout",
     "output_type": "stream",
     "text": [
      "tensor([[0, 0]])\n",
      "tensor([[[[-0.7154, -0.3670,  0.8691, -0.2729,  0.3097, -0.2978],\n",
      "          [-0.1253,  0.7683,  1.0625,  0.2669, -0.2179,  1.3899],\n",
      "          [ 0.5671,  0.8810, -1.2941, -0.3305,  0.3114,  1.2983],\n",
      "          [ 1.4531,  1.5239,  0.1792, -0.2327,  0.7347,  1.9757],\n",
      "          [-0.0061, -1.3712, -0.4391,  0.6739, -0.8784, -0.1111],\n",
      "          [ 0.1925,  2.3151, -0.5750, -0.0865, -0.2423, -0.3013]],\n",
      "\n",
      "         [[ 0.3497, -0.0495, -0.9680, -0.2053, -1.5837,  1.4702],\n",
      "          [ 0.6802, -1.5234,  0.8923,  0.5752,  0.8133, -0.4218],\n",
      "          [ 1.2165, -0.3655, -0.1146,  0.7018,  1.7333, -1.4449],\n",
      "          [ 0.7185,  0.5683, -0.2870,  0.0444, -0.6588, -1.1765],\n",
      "          [-0.2449,  0.8808,  1.2814, -0.5984,  0.1579, -1.0759],\n",
      "          [ 0.7661, -0.0743,  1.2667,  0.0809, -0.0230, -1.4319]],\n",
      "\n",
      "         [[-0.3948,  1.0179, -0.9059,  0.1587, -0.2959,  0.3237],\n",
      "          [-0.9392,  0.4071, -1.0105,  0.0394, -1.0898,  0.2789],\n",
      "          [-1.1603,  1.1993,  1.7097,  0.4043, -1.8033, -1.5102],\n",
      "          [ 0.7135, -0.0971, -0.3921, -0.3016, -0.8852,  0.4751],\n",
      "          [ 1.4007,  0.6312, -0.1611, -2.3617, -0.5507, -0.2108],\n",
      "          [-1.6040, -0.2617,  1.1164,  1.0330,  1.1458, -0.1094]],\n",
      "\n",
      "         [[ 1.0000, -0.4293, -0.7381,  0.1924,  0.9027,  1.9524],\n",
      "          [ 0.2747, -0.3740, -0.9038, -0.1618, -0.7331,  1.1231],\n",
      "          [ 1.3882,  0.9482,  1.8497, -0.3858, -1.8005, -0.3607],\n",
      "          [-0.2369, -0.5368,  0.3556, -0.2434,  1.2066,  1.5556],\n",
      "          [ 0.7581, -0.9836,  2.2684, -0.0032, -1.5482,  1.1671],\n",
      "          [ 1.1673,  0.9868, -1.7625, -2.1087,  0.7946, -1.0119]]]])\n",
      "torch.Size([1, 4, 6, 6])\n",
      "x_pos:1, y_pos:1\n"
     ]
    },
    {
     "data": {
      "text/plain": [
       "tensor([[[[ 1.0000,  1.0000],\n",
       "          [ 1.0000, -0.7154]],\n",
       "\n",
       "         [[ 0.0000,  0.0000],\n",
       "          [ 0.0000,  0.3497]],\n",
       "\n",
       "         [[ 0.0000,  0.0000],\n",
       "          [ 0.0000, -0.3948]],\n",
       "\n",
       "         [[ 0.0000,  0.0000],\n",
       "          [ 0.0000,  1.0000]]]])"
      ]
     },
     "execution_count": 246,
     "metadata": {},
     "output_type": "execute_result"
    }
   ],
   "source": [
    "inputs2 = torch.randn(1, 4, 6, 6)\n",
    "\n",
    "inputs2[0][3][0][0] = 1\n",
    "x = torch.nonzero(inputs2[0][3]==1)\n",
    "print(x)\n",
    "print(inputs2)\n",
    "# print(inputs2)\n",
    "crop_map(inputs2, 2)"
   ]
  },
  {
   "cell_type": "code",
   "execution_count": 244,
   "id": "f1037f20",
   "metadata": {},
   "outputs": [
    {
     "name": "stdout",
     "output_type": "stream",
     "text": [
      "tensor([[2, 3]])\n",
      "torch.Size([1, 2])\n",
      "tensor([[[2],\n",
      "         [3]]])\n",
      "tensor([[2, 3]])\n",
      "tensor(5)\n",
      "tensor(-0.8993)\n"
     ]
    }
   ],
   "source": [
    "a = torch.tensor([[2,3]])\n",
    "b = torch.randn(10,10)\n",
    "print(a)\n",
    "print(a.size())\n",
    "print(torch.unsqueeze(a, 2))\n",
    "print(a)\n",
    "print(a[:][:,0][0] + a[:][:,1][0])\n",
    "print(b[a[:][:,0][0]][a[:][:,1][0]])"
   ]
  },
  {
   "cell_type": "code",
   "execution_count": 95,
   "id": "58a9c9ca",
   "metadata": {},
   "outputs": [
    {
     "name": "stdout",
     "output_type": "stream",
     "text": [
      "tensor(-1.0409)\n",
      "tensor([[-0.2100,  0.5048,  0.1150, -1.3764, -0.0068],\n",
      "        [-0.1414,  0.7513,  0.5066, -0.5157, -1.1068],\n",
      "        [-1.2784,  1.2264, -0.4960,  2.4908,  0.5956],\n",
      "        [-0.8810,  0.1898,  1.3371, -1.0409, -1.0964],\n",
      "        [ 0.9607, -0.9174, -0.6322,  0.3216,  0.6967]])\n",
      "---------\n",
      "tensor([[-0.4960,  2.4908,  0.5956],\n",
      "        [ 1.3371, -1.0409, -1.0964],\n",
      "        [-0.6322,  0.3216,  0.6967]])\n"
     ]
    }
   ],
   "source": [
    "a = torch.randn((5,5))\n",
    "print(a[3][3])\n",
    "print(a)\n",
    "print(\"---\"*3)\n",
    "print(a[3-1:3+2, 3-1:3+2])"
   ]
  },
  {
   "cell_type": "code",
   "execution_count": 125,
   "id": "39f0d497",
   "metadata": {},
   "outputs": [
    {
     "name": "stdout",
     "output_type": "stream",
     "text": [
      "tensor(1)\n",
      "1\n"
     ]
    }
   ],
   "source": [
    "a = torch.tensor([1,2,3])\n",
    "print(a[0])\n",
    "print(a[0].numpy())"
   ]
  },
  {
   "cell_type": "code",
   "execution_count": null,
   "id": "f1f22e4a",
   "metadata": {},
   "outputs": [],
   "source": []
  }
 ],
 "metadata": {
  "kernelspec": {
   "display_name": "Python 3 (ipykernel)",
   "language": "python",
   "name": "python3"
  },
  "language_info": {
   "codemirror_mode": {
    "name": "ipython",
    "version": 3
   },
   "file_extension": ".py",
   "mimetype": "text/x-python",
   "name": "python",
   "nbconvert_exporter": "python",
   "pygments_lexer": "ipython3",
   "version": "3.7.0"
  }
 },
 "nbformat": 4,
 "nbformat_minor": 5
}

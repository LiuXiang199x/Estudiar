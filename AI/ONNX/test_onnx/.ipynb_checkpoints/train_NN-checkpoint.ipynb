{
 "cells": [
  {
   "cell_type": "code",
   "execution_count": 1,
   "id": "14da53cc",
   "metadata": {},
   "outputs": [],
   "source": [
    "import torch\n",
    "import torchvision\n",
    "import onnx\n",
    "import torch.nn as nn\n",
    "import torch.nn.functional as F"
   ]
  },
  {
   "cell_type": "code",
   "execution_count": 2,
   "id": "0947fbaf",
   "metadata": {},
   "outputs": [
    {
     "data": {
      "text/plain": [
       "<torch._C.Generator at 0x7f353e067530>"
      ]
     },
     "execution_count": 2,
     "metadata": {},
     "output_type": "execute_result"
    }
   ],
   "source": [
    "torch.manual_seed(1)"
   ]
  },
  {
   "cell_type": "code",
   "execution_count": 3,
   "id": "a723b011",
   "metadata": {},
   "outputs": [
    {
     "name": "stdout",
     "output_type": "stream",
     "text": [
      "Net(\n",
      "  (conv1): Conv2d(1, 6, kernel_size=(5, 5), stride=(1, 1))\n",
      "  (conv2): Conv2d(6, 16, kernel_size=(5, 5), stride=(1, 1))\n",
      "  (fc1): Linear(in_features=400, out_features=120, bias=True)\n",
      "  (fc2): Linear(in_features=120, out_features=84, bias=True)\n",
      "  (fc3): Linear(in_features=84, out_features=10, bias=True)\n",
      ")\n"
     ]
    }
   ],
   "source": [
    "class Net(nn.Module):\n",
    "    def __init__(self):\n",
    "        super(Net, self).__init__()\n",
    "        self.conv1 = nn.Conv2d(1, 6, 5)\n",
    "        self.conv2 = nn.Conv2d(6, 16, 5)\n",
    "        \n",
    "        self.fc1 = nn.Linear(16*5*5, 120)\n",
    "        self.fc2 = nn.Linear(120, 84)\n",
    "        self.fc3 = nn.Linear(84, 10)\n",
    "        \n",
    "    def forward(self, x):\n",
    "        x = F.max_pool2d(F.relu(self.conv1(x)), (2,2))\n",
    "        x = F.max_pool2d(F.relu(self.conv2(x)), 2)\n",
    "        x = x.view(-1, self.num_flat_features(x))\n",
    "        x = F.relu(self.fc1(x))\n",
    "        x = F.relu(self.fc2(x))\n",
    "        x = self.fc3(x)\n",
    "        return x\n",
    "    \n",
    "    def num_flat_features(self, x):\n",
    "        size = x.size()[1:]  # all dimensions except the batch dimension(批大小维度)\n",
    "        num_features = 1\n",
    "        for s in size:\n",
    "            num_features *= s\n",
    "        return num_features\n",
    "\n",
    "\n",
    "net = Net()\n",
    "print(net)"
   ]
  },
  {
   "cell_type": "code",
   "execution_count": 28,
   "id": "2e3039b7",
   "metadata": {},
   "outputs": [
    {
     "name": "stdout",
     "output_type": "stream",
     "text": [
      "Net(\n",
      "  (conv1): Conv2d(1, 6, kernel_size=(5, 5), stride=(1, 1))\n",
      "  (net): Sequential(\n",
      "    (0): Conv2d(1, 6, kernel_size=(5, 5), stride=(1, 1))\n",
      "    (1): BatchNorm2d(6, eps=1e-05, momentum=0.1, affine=True, track_running_stats=True)\n",
      "    (2): ReLU()\n",
      "    (3): MaxPool2d(kernel_size=(2, 2), stride=(2, 2), padding=0, dilation=1, ceil_mode=False)\n",
      "    (4): Conv2d(6, 16, kernel_size=(5, 5), stride=(1, 1))\n",
      "    (5): BatchNorm2d(16, eps=1e-05, momentum=0.1, affine=True, track_running_stats=True)\n",
      "    (6): ReLU()\n",
      "    (7): MaxPool2d(kernel_size=2, stride=2, padding=0, dilation=1, ceil_mode=False)\n",
      "  )\n",
      "  (fc1): Linear(in_features=400, out_features=120, bias=True)\n",
      "  (fc2): Linear(in_features=120, out_features=84, bias=True)\n",
      "  (fc3): Linear(in_features=84, out_features=10, bias=True)\n",
      ")\n"
     ]
    }
   ],
   "source": [
    "########### 测试BatchNorm是否会的对onnx保存产生影响 ############\n",
    "########### 结论是：不会 ################\n",
    "class Net(nn.Module):\n",
    "    def __init__(self):\n",
    "        super(Net, self).__init__()\n",
    "        self.conv1 = nn.Conv2d(1, 6, 5)\n",
    "        \n",
    "        self.net = nn.Sequential(\n",
    "            nn.Conv2d(1, 6, 5),\n",
    "            nn.BatchNorm2d(6),\n",
    "            nn.ReLU(),\n",
    "            nn.MaxPool2d((2,2)),\n",
    "            \n",
    "            nn.Conv2d(6, 16, 5),\n",
    "            nn.BatchNorm2d(16),\n",
    "            nn.ReLU(),\n",
    "            nn.MaxPool2d(2)\n",
    "        )\n",
    "        self.fc1 = nn.Linear(16*5*5, 120)\n",
    "        self.fc2 = nn.Linear(120, 84)\n",
    "        self.fc3 = nn.Linear(84, 10)\n",
    "        \n",
    "    def forward(self, x):\n",
    "        x = self.net(x)\n",
    "        x = x.view(-1, self.num_flat_features(x))\n",
    "        x = F.relu(self.fc1(x))\n",
    "        x = F.relu(self.fc2(x))\n",
    "        x = self.fc3(x)\n",
    "        return x\n",
    "    \n",
    "    def num_flat_features(self, x):\n",
    "        size = x.size()[1:]  # all dimensions except the batch dimension(批大小维度)\n",
    "        num_features = 1\n",
    "        for s in size:\n",
    "            num_features *= s\n",
    "        return num_features\n",
    "\n",
    "\n",
    "net = Net()\n",
    "print(net)"
   ]
  },
  {
   "cell_type": "code",
   "execution_count": 29,
   "id": "1e094da5",
   "metadata": {},
   "outputs": [
    {
     "name": "stdout",
     "output_type": "stream",
     "text": [
      "16\n",
      "<class 'torch.nn.parameter.Parameter'>\n",
      "第0个参数形状为torch.Size([6, 1, 5, 5])\n",
      "第1个参数形状为torch.Size([6])\n",
      "第2个参数形状为torch.Size([6, 1, 5, 5])\n",
      "第3个参数形状为torch.Size([6])\n",
      "第4个参数形状为torch.Size([6])\n",
      "第5个参数形状为torch.Size([6])\n",
      "第6个参数形状为torch.Size([16, 6, 5, 5])\n",
      "第7个参数形状为torch.Size([16])\n",
      "第8个参数形状为torch.Size([16])\n",
      "第9个参数形状为torch.Size([16])\n"
     ]
    }
   ],
   "source": [
    "params = list(net.parameters())\n",
    "print(len(params))\n",
    "print(type(params[0]))\n",
    "for i in range(10):\n",
    "    print(\"第{}个参数形状为{}\".format(i,params[i].size()))"
   ]
  },
  {
   "cell_type": "code",
   "execution_count": 30,
   "id": "ed84c7c1",
   "metadata": {},
   "outputs": [
    {
     "name": "stdout",
     "output_type": "stream",
     "text": [
      "tensor([[[[ 0.7545, -0.1652, -0.0101,  ..., -0.3952, -0.0747, -0.6524],\n",
      "          [-0.4214,  0.6513, -0.0150,  ...,  2.2846,  0.1421,  0.6184],\n",
      "          [ 1.3124,  0.8288,  1.8921,  ..., -0.1697, -0.9722,  0.0097],\n",
      "          ...,\n",
      "          [ 1.3404,  0.9747, -1.1471,  ...,  1.6026, -0.1317, -0.8197],\n",
      "          [-0.1690, -0.8690, -1.7093,  ..., -1.6374, -0.0334, -1.0774],\n",
      "          [ 2.0206,  0.9985,  1.1270,  ...,  1.2899, -0.3576, -0.8132]]]])\n",
      "conv1输出的形状： torch.Size([1, 6, 28, 28])\n",
      "输出层形状 torch.Size([1, 10])\n",
      "输出层结果： tensor([[-0.1154, -0.1398,  0.1725, -0.0283, -0.0735, -0.2360,  0.1503, -0.1956,\n",
      "         -0.0787,  0.2216]], grad_fn=<AddmmBackward>)\n"
     ]
    }
   ],
   "source": [
    "input = torch.randn(1, 1, 32, 32)\n",
    "print(input)\n",
    "print('conv1输出的形状：',net.conv1(input).size()) # conv1输出的形状\n",
    "\n",
    "out = net(input)\n",
    "print('输出层形状',out.size())\n",
    "print('输出层结果：',out)"
   ]
  },
  {
   "cell_type": "code",
   "execution_count": 31,
   "id": "e1742520",
   "metadata": {},
   "outputs": [
    {
     "name": "stdout",
     "output_type": "stream",
     "text": [
      "target: tensor([[ 0.3406,  0.6965, -1.0862, -1.0394,  0.1721,  1.2643, -0.6560, -0.4747,\n",
      "          1.8006,  1.3724]])\n",
      "loss: tensor(1.1409, grad_fn=<MseLossBackward>)\n",
      "\n",
      "反向跟踪loss,使用它的.grad_fn属性,你会看到向下面这样的一个计算图:\n",
      "input -> conv2d -> relu -> maxpool2d -> conv2d -> relu -> maxpool2d -> view -> linear -> relu -> linear -> relu -> linear -> MSELoss -> loss\n",
      "<MseLossBackward object at 0x7f353c0f0390>\n",
      "<AddmmBackward object at 0x7f353c101978>\n",
      "<AccumulateGrad object at 0x7f353c0f0390>\n"
     ]
    }
   ],
   "source": [
    "output = net(input)\n",
    "target = torch.randn(10)  # a dummy target, for example\n",
    "target = target.view(1, -1)  # make it the same shape as output\n",
    "criterion = nn.MSELoss() \n",
    "print(\"target:\", target)\n",
    "\n",
    "loss = criterion(output, target)\n",
    "print('loss:',loss)\n",
    "print('''\n",
    "反向跟踪loss,使用它的.grad_fn属性,你会看到向下面这样的一个计算图:\n",
    "input -> conv2d -> relu -> maxpool2d -> conv2d -> relu -> maxpool2d -> view -> linear -> relu -> linear -> relu -> linear -> MSELoss -> loss''')\n",
    "print(loss.grad_fn)  # MSELoss\n",
    "print(loss.grad_fn.next_functions[0][0])  # Linear\n",
    "print(loss.grad_fn.next_functions[0][0].next_functions[0][0]) # ReLU"
   ]
  },
  {
   "cell_type": "code",
   "execution_count": 32,
   "id": "5f40b241",
   "metadata": {},
   "outputs": [],
   "source": [
    "# 优化器\n",
    "optimizer = torch.optim.SGD(net.parameters(),lr=0.1)"
   ]
  },
  {
   "cell_type": "code",
   "execution_count": 33,
   "id": "fd00d92e",
   "metadata": {},
   "outputs": [
    {
     "name": "stdout",
     "output_type": "stream",
     "text": [
      "tensor(1.1409, grad_fn=<MseLossBackward>)\n",
      "tensor(0.6371, grad_fn=<MseLossBackward>)\n",
      "tensor(0.0670, grad_fn=<MseLossBackward>)\n",
      "tensor(0.0210, grad_fn=<MseLossBackward>)\n",
      "tensor(0.0683, grad_fn=<MseLossBackward>)\n",
      "tensor(0.1396, grad_fn=<MseLossBackward>)\n",
      "tensor(0.4719, grad_fn=<MseLossBackward>)\n",
      "tensor(0.0028, grad_fn=<MseLossBackward>)\n",
      "tensor(0.0025, grad_fn=<MseLossBackward>)\n",
      "tensor(0.0064, grad_fn=<MseLossBackward>)\n",
      "tensor(0.0142, grad_fn=<MseLossBackward>)\n",
      "tensor(0.0419, grad_fn=<MseLossBackward>)\n",
      "tensor(0.0655, grad_fn=<MseLossBackward>)\n",
      "tensor(0.1972, grad_fn=<MseLossBackward>)\n",
      "tensor(0.0609, grad_fn=<MseLossBackward>)\n",
      "tensor(0.1740, grad_fn=<MseLossBackward>)\n",
      "tensor(0.0595, grad_fn=<MseLossBackward>)\n",
      "tensor(0.1634, grad_fn=<MseLossBackward>)\n",
      "tensor(0.0552, grad_fn=<MseLossBackward>)\n",
      "tensor(0.1478, grad_fn=<MseLossBackward>)\n",
      "tensor(0.0556, grad_fn=<MseLossBackward>)\n",
      "tensor(0.1443, grad_fn=<MseLossBackward>)\n",
      "tensor(0.0512, grad_fn=<MseLossBackward>)\n",
      "tensor(0.1295, grad_fn=<MseLossBackward>)\n",
      "tensor(0.0511, grad_fn=<MseLossBackward>)\n",
      "tensor(0.1265, grad_fn=<MseLossBackward>)\n",
      "tensor(0.0487, grad_fn=<MseLossBackward>)\n",
      "tensor(0.1181, grad_fn=<MseLossBackward>)\n",
      "tensor(0.0474, grad_fn=<MseLossBackward>)\n",
      "tensor(0.1124, grad_fn=<MseLossBackward>)\n",
      "tensor(0.0457, grad_fn=<MseLossBackward>)\n",
      "tensor(0.1061, grad_fn=<MseLossBackward>)\n",
      "tensor(0.0446, grad_fn=<MseLossBackward>)\n",
      "tensor(0.1022, grad_fn=<MseLossBackward>)\n",
      "tensor(0.0431, grad_fn=<MseLossBackward>)\n",
      "tensor(0.0980, grad_fn=<MseLossBackward>)\n",
      "tensor(0.0434, grad_fn=<MseLossBackward>)\n",
      "tensor(0.0955, grad_fn=<MseLossBackward>)\n",
      "tensor(0.0401, grad_fn=<MseLossBackward>)\n",
      "tensor(0.0864, grad_fn=<MseLossBackward>)\n",
      "tensor(0.0390, grad_fn=<MseLossBackward>)\n",
      "tensor(0.0831, grad_fn=<MseLossBackward>)\n",
      "tensor(0.0383, grad_fn=<MseLossBackward>)\n",
      "tensor(0.0803, grad_fn=<MseLossBackward>)\n",
      "tensor(0.0369, grad_fn=<MseLossBackward>)\n",
      "tensor(0.0760, grad_fn=<MseLossBackward>)\n",
      "tensor(0.0355, grad_fn=<MseLossBackward>)\n",
      "tensor(0.0716, grad_fn=<MseLossBackward>)\n",
      "tensor(0.0342, grad_fn=<MseLossBackward>)\n",
      "tensor(0.0681, grad_fn=<MseLossBackward>)\n",
      "tensor(0.0333, grad_fn=<MseLossBackward>)\n",
      "tensor(0.0656, grad_fn=<MseLossBackward>)\n",
      "tensor(0.0323, grad_fn=<MseLossBackward>)\n",
      "tensor(0.0627, grad_fn=<MseLossBackward>)\n",
      "tensor(0.0312, grad_fn=<MseLossBackward>)\n",
      "tensor(0.0595, grad_fn=<MseLossBackward>)\n",
      "tensor(0.0303, grad_fn=<MseLossBackward>)\n",
      "tensor(0.0575, grad_fn=<MseLossBackward>)\n",
      "tensor(0.0297, grad_fn=<MseLossBackward>)\n",
      "tensor(0.0554, grad_fn=<MseLossBackward>)\n",
      "tensor(0.0284, grad_fn=<MseLossBackward>)\n",
      "tensor(0.0522, grad_fn=<MseLossBackward>)\n",
      "tensor(0.0275, grad_fn=<MseLossBackward>)\n",
      "tensor(0.0498, grad_fn=<MseLossBackward>)\n",
      "tensor(0.0265, grad_fn=<MseLossBackward>)\n",
      "tensor(0.0475, grad_fn=<MseLossBackward>)\n",
      "tensor(0.0256, grad_fn=<MseLossBackward>)\n",
      "tensor(0.0452, grad_fn=<MseLossBackward>)\n",
      "tensor(0.0247, grad_fn=<MseLossBackward>)\n",
      "tensor(0.0432, grad_fn=<MseLossBackward>)\n",
      "tensor(0.0239, grad_fn=<MseLossBackward>)\n",
      "tensor(0.0414, grad_fn=<MseLossBackward>)\n",
      "tensor(0.0233, grad_fn=<MseLossBackward>)\n",
      "tensor(0.0398, grad_fn=<MseLossBackward>)\n",
      "tensor(0.0224, grad_fn=<MseLossBackward>)\n",
      "tensor(0.0379, grad_fn=<MseLossBackward>)\n",
      "tensor(0.0216, grad_fn=<MseLossBackward>)\n",
      "tensor(0.0359, grad_fn=<MseLossBackward>)\n",
      "tensor(0.0208, grad_fn=<MseLossBackward>)\n",
      "tensor(0.0342, grad_fn=<MseLossBackward>)\n",
      "tensor(0.0201, grad_fn=<MseLossBackward>)\n",
      "tensor(0.0327, grad_fn=<MseLossBackward>)\n",
      "tensor(0.0194, grad_fn=<MseLossBackward>)\n",
      "tensor(0.0314, grad_fn=<MseLossBackward>)\n",
      "tensor(0.0188, grad_fn=<MseLossBackward>)\n",
      "tensor(0.0301, grad_fn=<MseLossBackward>)\n",
      "tensor(0.0182, grad_fn=<MseLossBackward>)\n",
      "tensor(0.0289, grad_fn=<MseLossBackward>)\n",
      "tensor(0.0176, grad_fn=<MseLossBackward>)\n",
      "tensor(0.0275, grad_fn=<MseLossBackward>)\n",
      "tensor(0.0169, grad_fn=<MseLossBackward>)\n",
      "tensor(0.0263, grad_fn=<MseLossBackward>)\n",
      "tensor(0.0163, grad_fn=<MseLossBackward>)\n",
      "tensor(0.0250, grad_fn=<MseLossBackward>)\n",
      "tensor(0.0157, grad_fn=<MseLossBackward>)\n",
      "tensor(0.0240, grad_fn=<MseLossBackward>)\n",
      "tensor(0.0152, grad_fn=<MseLossBackward>)\n",
      "tensor(0.0230, grad_fn=<MseLossBackward>)\n",
      "tensor(0.0147, grad_fn=<MseLossBackward>)\n",
      "tensor(0.0221, grad_fn=<MseLossBackward>)\n"
     ]
    }
   ],
   "source": [
    "for epoch in range(100):\n",
    "    optimizer.zero_grad()\n",
    "    output = net(input)\n",
    "    loss = criterion(output, target)\n",
    "    print(loss)\n",
    "    loss.backward()\n",
    "    optimizer.step()"
   ]
  },
  {
   "cell_type": "code",
   "execution_count": 34,
   "id": "e93cfd66",
   "metadata": {},
   "outputs": [],
   "source": [
    "torch.save(net, 'net.pth')  # 保存整个网络\n",
    "torch.save(net.state_dict(), 'net_params.pth')   # 只保存网络中的参数 (速度快, 占内存少)"
   ]
  },
  {
   "cell_type": "code",
   "execution_count": 35,
   "id": "7a82bde6",
   "metadata": {},
   "outputs": [
    {
     "name": "stdout",
     "output_type": "stream",
     "text": [
      "tensor([[ 0.1206,  0.2151, -0.1010, -0.0846,  0.0959,  0.1254, -0.0207, -0.1024,\n",
      "          0.2443,  0.3066]], grad_fn=<AddmmBackward>)\n"
     ]
    }
   ],
   "source": [
    "input2 = torch.ones(1,1,32,32)\n",
    "print(net(input2))"
   ]
  },
  {
   "cell_type": "code",
   "execution_count": null,
   "id": "4e6ccd33",
   "metadata": {},
   "outputs": [],
   "source": []
  }
 ],
 "metadata": {
  "kernelspec": {
   "display_name": "Python 3 (ipykernel)",
   "language": "python",
   "name": "python3"
  },
  "language_info": {
   "codemirror_mode": {
    "name": "ipython",
    "version": 3
   },
   "file_extension": ".py",
   "mimetype": "text/x-python",
   "name": "python",
   "nbconvert_exporter": "python",
   "pygments_lexer": "ipython3",
   "version": "3.7.0"
  }
 },
 "nbformat": 4,
 "nbformat_minor": 5
}

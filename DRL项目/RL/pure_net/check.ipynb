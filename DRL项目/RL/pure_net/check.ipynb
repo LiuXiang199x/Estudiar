{
 "cells": [
  {
   "cell_type": "code",
   "execution_count": 4,
   "id": "954126ce",
   "metadata": {},
   "outputs": [
    {
     "name": "stdout",
     "output_type": "stream",
     "text": [
      "1.2.0\n",
      "1.6.0\n",
      "1.6.0\n",
      "torch.Size([1, 8, 240, 240])\n",
      "torch.Size([8, 240, 240])\n"
     ]
    }
   ],
   "source": [
    "import torch\n",
    "import torch.nn as nn\n",
    "import torch.nn.functional as F\n",
    "import time\n",
    "import gym\n",
    "import numpy as np\n",
    "import onnx\n",
    "import onnxruntime\n",
    "from gym import wrappers\n",
    "import os\n",
    "from typing import Any, Dict, List, Optional\n",
    "import glob\n",
    "# from base.rl.ppo import PPO\n",
    "\n",
    "pthfile = 'pth/ckpt.550.pth'\n",
    "onnxpath = 'onnx/ckpt.550.onnx'\n",
    "print(torch.__version__)\n",
    "print(onnx.__version__)\n",
    "print(onnxruntime.__version__)\n",
    "\n",
    "inputs = torch.randn(1, 8, 240, 240)\n",
    "\n",
    "map3 = torch.zeros(1, 240, 240)\n",
    "map3[0][20][20] = 1.\n",
    "inputs[0][3] = map3\n",
    "inputs[0][7] = map3\n",
    "x = inputs\n",
    "print(inputs.size())\n",
    "a = torch.squeeze(inputs,0)\n",
    "print(a.size())"
   ]
  },
  {
   "cell_type": "code",
   "execution_count": 5,
   "id": "944c4793",
   "metadata": {},
   "outputs": [],
   "source": [
    "class Flatten(nn.Module):\n",
    "    def __init__(self):\n",
    "        super().__init__()\n",
    "\n",
    "    def forward(self, x):\n",
    "        return x.view(x.shape[0], -1)\n",
    "\n",
    "class Global_Actor(nn.Module):\n",
    "    def __init__(self):\n",
    "        super().__init__()\n",
    "        self.actor = nn.Sequential(  # (8, G, G)\n",
    "            nn.Conv2d(8, 8, 3, padding=1),  # (8, G, G)\n",
    "            nn.BatchNorm2d(8),\n",
    "            nn.ReLU(),\n",
    "            nn.Conv2d(8, 4, 3, padding=1),  # (4, G, G)\n",
    "            nn.BatchNorm2d(4),\n",
    "            nn.ReLU(),\n",
    "            nn.Conv2d(4, 4, 5, padding=2),  # (4, G, G)\n",
    "            nn.BatchNorm2d(4),\n",
    "            nn.ReLU(),\n",
    "            nn.Conv2d(4, 2, 5, padding=2),  # (2, G, G)\n",
    "            nn.BatchNorm2d(2),\n",
    "            nn.ReLU(),\n",
    "            nn.Conv2d(2, 1, 5, padding=2),  # (1, G, G)\n",
    "            Flatten(),  # (G*G, )\n",
    "            nn.Sigmoid(),  # added for non-negative\n",
    "        )\n",
    "        \n",
    "    def forward(self, inputs):\n",
    "        x2 = self.actor(inputs)\n",
    "        return x2"
   ]
  },
  {
   "cell_type": "code",
   "execution_count": 6,
   "id": "2d9404b1",
   "metadata": {},
   "outputs": [
    {
     "name": "stdout",
     "output_type": "stream",
     "text": [
      "torch.Size([1, 8, 240, 240])\n",
      "pth model output: tensor([[0.5135, 0.5228, 0.5124,  ..., 0.5090, 0.5058, 0.5083]],\n",
      "       grad_fn=<SigmoidBackward>)\n",
      "torch.Size([1, 57600])\n",
      "onnx model output: [array([[0.46833122, 0.46837002, 0.46834514, ..., 0.46828204, 0.46827644,\n",
      "        0.46824017]], dtype=float32)]\n",
      "tor_out:  (1, 57600)\n"
     ]
    },
    {
     "name": "stderr",
     "output_type": "stream",
     "text": [
      "2022-01-05 09:21:49.595414265 [W:onnxruntime:, graph.cc:1069 Graph] Initializer 1 appears in graph inputs and will not be treated as constant value/weight. This may prevent some of the graph optimizations, like const folding. Move it out of graph inputs if there is no need to override it, by either re-generating the model with latest exporter/converter or with the tool onnxruntime/tools/python/remove_initializer_from_input.py.\n",
      "2022-01-05 09:21:49.595467624 [W:onnxruntime:, graph.cc:1069 Graph] Initializer 10 appears in graph inputs and will not be treated as constant value/weight. This may prevent some of the graph optimizations, like const folding. Move it out of graph inputs if there is no need to override it, by either re-generating the model with latest exporter/converter or with the tool onnxruntime/tools/python/remove_initializer_from_input.py.\n",
      "2022-01-05 09:21:49.595472623 [W:onnxruntime:, graph.cc:1069 Graph] Initializer 11 appears in graph inputs and will not be treated as constant value/weight. This may prevent some of the graph optimizations, like const folding. Move it out of graph inputs if there is no need to override it, by either re-generating the model with latest exporter/converter or with the tool onnxruntime/tools/python/remove_initializer_from_input.py.\n",
      "2022-01-05 09:21:49.595476419 [W:onnxruntime:, graph.cc:1069 Graph] Initializer 12 appears in graph inputs and will not be treated as constant value/weight. This may prevent some of the graph optimizations, like const folding. Move it out of graph inputs if there is no need to override it, by either re-generating the model with latest exporter/converter or with the tool onnxruntime/tools/python/remove_initializer_from_input.py.\n",
      "2022-01-05 09:21:49.595480144 [W:onnxruntime:, graph.cc:1069 Graph] Initializer 13 appears in graph inputs and will not be treated as constant value/weight. This may prevent some of the graph optimizations, like const folding. Move it out of graph inputs if there is no need to override it, by either re-generating the model with latest exporter/converter or with the tool onnxruntime/tools/python/remove_initializer_from_input.py.\n",
      "2022-01-05 09:21:49.595483821 [W:onnxruntime:, graph.cc:1069 Graph] Initializer 14 appears in graph inputs and will not be treated as constant value/weight. This may prevent some of the graph optimizations, like const folding. Move it out of graph inputs if there is no need to override it, by either re-generating the model with latest exporter/converter or with the tool onnxruntime/tools/python/remove_initializer_from_input.py.\n",
      "2022-01-05 09:21:49.595487645 [W:onnxruntime:, graph.cc:1069 Graph] Initializer 15 appears in graph inputs and will not be treated as constant value/weight. This may prevent some of the graph optimizations, like const folding. Move it out of graph inputs if there is no need to override it, by either re-generating the model with latest exporter/converter or with the tool onnxruntime/tools/python/remove_initializer_from_input.py.\n",
      "2022-01-05 09:21:49.595491331 [W:onnxruntime:, graph.cc:1069 Graph] Initializer 16 appears in graph inputs and will not be treated as constant value/weight. This may prevent some of the graph optimizations, like const folding. Move it out of graph inputs if there is no need to override it, by either re-generating the model with latest exporter/converter or with the tool onnxruntime/tools/python/remove_initializer_from_input.py.\n",
      "2022-01-05 09:21:49.595495010 [W:onnxruntime:, graph.cc:1069 Graph] Initializer 17 appears in graph inputs and will not be treated as constant value/weight. This may prevent some of the graph optimizations, like const folding. Move it out of graph inputs if there is no need to override it, by either re-generating the model with latest exporter/converter or with the tool onnxruntime/tools/python/remove_initializer_from_input.py.\n",
      "2022-01-05 09:21:49.595498710 [W:onnxruntime:, graph.cc:1069 Graph] Initializer 18 appears in graph inputs and will not be treated as constant value/weight. This may prevent some of the graph optimizations, like const folding. Move it out of graph inputs if there is no need to override it, by either re-generating the model with latest exporter/converter or with the tool onnxruntime/tools/python/remove_initializer_from_input.py.\n",
      "2022-01-05 09:21:49.595502291 [W:onnxruntime:, graph.cc:1069 Graph] Initializer 19 appears in graph inputs and will not be treated as constant value/weight. This may prevent some of the graph optimizations, like const folding. Move it out of graph inputs if there is no need to override it, by either re-generating the model with latest exporter/converter or with the tool onnxruntime/tools/python/remove_initializer_from_input.py.\n",
      "2022-01-05 09:21:49.595507593 [W:onnxruntime:, graph.cc:1069 Graph] Initializer 2 appears in graph inputs and will not be treated as constant value/weight. This may prevent some of the graph optimizations, like const folding. Move it out of graph inputs if there is no need to override it, by either re-generating the model with latest exporter/converter or with the tool onnxruntime/tools/python/remove_initializer_from_input.py.\n",
      "2022-01-05 09:21:49.595511390 [W:onnxruntime:, graph.cc:1069 Graph] Initializer 20 appears in graph inputs and will not be treated as constant value/weight. This may prevent some of the graph optimizations, like const folding. Move it out of graph inputs if there is no need to override it, by either re-generating the model with latest exporter/converter or with the tool onnxruntime/tools/python/remove_initializer_from_input.py.\n",
      "2022-01-05 09:21:49.595515343 [W:onnxruntime:, graph.cc:1069 Graph] Initializer 21 appears in graph inputs and will not be treated as constant value/weight. This may prevent some of the graph optimizations, like const folding. Move it out of graph inputs if there is no need to override it, by either re-generating the model with latest exporter/converter or with the tool onnxruntime/tools/python/remove_initializer_from_input.py.\n",
      "2022-01-05 09:21:49.595518995 [W:onnxruntime:, graph.cc:1069 Graph] Initializer 22 appears in graph inputs and will not be treated as constant value/weight. This may prevent some of the graph optimizations, like const folding. Move it out of graph inputs if there is no need to override it, by either re-generating the model with latest exporter/converter or with the tool onnxruntime/tools/python/remove_initializer_from_input.py.\n",
      "2022-01-05 09:21:49.595522664 [W:onnxruntime:, graph.cc:1069 Graph] Initializer 23 appears in graph inputs and will not be treated as constant value/weight. This may prevent some of the graph optimizations, like const folding. Move it out of graph inputs if there is no need to override it, by either re-generating the model with latest exporter/converter or with the tool onnxruntime/tools/python/remove_initializer_from_input.py.\n",
      "2022-01-05 09:21:49.595526343 [W:onnxruntime:, graph.cc:1069 Graph] Initializer 24 appears in graph inputs and will not be treated as constant value/weight. This may prevent some of the graph optimizations, like const folding. Move it out of graph inputs if there is no need to override it, by either re-generating the model with latest exporter/converter or with the tool onnxruntime/tools/python/remove_initializer_from_input.py.\n",
      "2022-01-05 09:21:49.595530004 [W:onnxruntime:, graph.cc:1069 Graph] Initializer 25 appears in graph inputs and will not be treated as constant value/weight. This may prevent some of the graph optimizations, like const folding. Move it out of graph inputs if there is no need to override it, by either re-generating the model with latest exporter/converter or with the tool onnxruntime/tools/python/remove_initializer_from_input.py.\n",
      "2022-01-05 09:21:49.595533616 [W:onnxruntime:, graph.cc:1069 Graph] Initializer 26 appears in graph inputs and will not be treated as constant value/weight. This may prevent some of the graph optimizations, like const folding. Move it out of graph inputs if there is no need to override it, by either re-generating the model with latest exporter/converter or with the tool onnxruntime/tools/python/remove_initializer_from_input.py.\n",
      "2022-01-05 09:21:49.595537197 [W:onnxruntime:, graph.cc:1069 Graph] Initializer 27 appears in graph inputs and will not be treated as constant value/weight. This may prevent some of the graph optimizations, like const folding. Move it out of graph inputs if there is no need to override it, by either re-generating the model with latest exporter/converter or with the tool onnxruntime/tools/python/remove_initializer_from_input.py.\n",
      "2022-01-05 09:21:49.595548423 [W:onnxruntime:, graph.cc:1069 Graph] Initializer 28 appears in graph inputs and will not be treated as constant value/weight. This may prevent some of the graph optimizations, like const folding. Move it out of graph inputs if there is no need to override it, by either re-generating the model with latest exporter/converter or with the tool onnxruntime/tools/python/remove_initializer_from_input.py.\n",
      "2022-01-05 09:21:49.595552308 [W:onnxruntime:, graph.cc:1069 Graph] Initializer 29 appears in graph inputs and will not be treated as constant value/weight. This may prevent some of the graph optimizations, like const folding. Move it out of graph inputs if there is no need to override it, by either re-generating the model with latest exporter/converter or with the tool onnxruntime/tools/python/remove_initializer_from_input.py.\n",
      "2022-01-05 09:21:49.595556012 [W:onnxruntime:, graph.cc:1069 Graph] Initializer 3 appears in graph inputs and will not be treated as constant value/weight. This may prevent some of the graph optimizations, like const folding. Move it out of graph inputs if there is no need to override it, by either re-generating the model with latest exporter/converter or with the tool onnxruntime/tools/python/remove_initializer_from_input.py.\n",
      "2022-01-05 09:21:49.595559610 [W:onnxruntime:, graph.cc:1069 Graph] Initializer 30 appears in graph inputs and will not be treated as constant value/weight. This may prevent some of the graph optimizations, like const folding. Move it out of graph inputs if there is no need to override it, by either re-generating the model with latest exporter/converter or with the tool onnxruntime/tools/python/remove_initializer_from_input.py.\n",
      "2022-01-05 09:21:49.595563315 [W:onnxruntime:, graph.cc:1069 Graph] Initializer 4 appears in graph inputs and will not be treated as constant value/weight. This may prevent some of the graph optimizations, like const folding. Move it out of graph inputs if there is no need to override it, by either re-generating the model with latest exporter/converter or with the tool onnxruntime/tools/python/remove_initializer_from_input.py.\n",
      "2022-01-05 09:21:49.595566955 [W:onnxruntime:, graph.cc:1069 Graph] Initializer 5 appears in graph inputs and will not be treated as constant value/weight. This may prevent some of the graph optimizations, like const folding. Move it out of graph inputs if there is no need to override it, by either re-generating the model with latest exporter/converter or with the tool onnxruntime/tools/python/remove_initializer_from_input.py.\n",
      "2022-01-05 09:21:49.595570569 [W:onnxruntime:, graph.cc:1069 Graph] Initializer 6 appears in graph inputs and will not be treated as constant value/weight. This may prevent some of the graph optimizations, like const folding. Move it out of graph inputs if there is no need to override it, by either re-generating the model with latest exporter/converter or with the tool onnxruntime/tools/python/remove_initializer_from_input.py.\n",
      "2022-01-05 09:21:49.595574183 [W:onnxruntime:, graph.cc:1069 Graph] Initializer 7 appears in graph inputs and will not be treated as constant value/weight. This may prevent some of the graph optimizations, like const folding. Move it out of graph inputs if there is no need to override it, by either re-generating the model with latest exporter/converter or with the tool onnxruntime/tools/python/remove_initializer_from_input.py.\n",
      "2022-01-05 09:21:49.595577880 [W:onnxruntime:, graph.cc:1069 Graph] Initializer 8 appears in graph inputs and will not be treated as constant value/weight. This may prevent some of the graph optimizations, like const folding. Move it out of graph inputs if there is no need to override it, by either re-generating the model with latest exporter/converter or with the tool onnxruntime/tools/python/remove_initializer_from_input.py.\n",
      "2022-01-05 09:21:49.595582604 [W:onnxruntime:, graph.cc:1069 Graph] Initializer 9 appears in graph inputs and will not be treated as constant value/weight. This may prevent some of the graph optimizations, like const folding. Move it out of graph inputs if there is no need to override it, by either re-generating the model with latest exporter/converter or with the tool onnxruntime/tools/python/remove_initializer_from_input.py.\n",
      "2022-01-05 09:21:49.597715263 [W:onnxruntime:, graph.cc:3093 CleanUnusedInitializers] Removing initializer '28'. It is not used by any node and should be removed from the model.\n",
      "2022-01-05 09:21:49.597724496 [W:onnxruntime:, graph.cc:3093 CleanUnusedInitializers] Removing initializer '14'. It is not used by any node and should be removed from the model.\n",
      "2022-01-05 09:21:49.597729935 [W:onnxruntime:, graph.cc:3093 CleanUnusedInitializers] Removing initializer '7'. It is not used by any node and should be removed from the model.\n",
      "2022-01-05 09:21:49.597733589 [W:onnxruntime:, graph.cc:3093 CleanUnusedInitializers] Removing initializer '21'. It is not used by any node and should be removed from the model.\n"
     ]
    }
   ],
   "source": [
    "rl_net = Global_Actor()\n",
    "rl_net.actor.load_state_dict(torch.load(pthfile, map_location='cpu'),strict=False)\n",
    "rl_net.eval()\n",
    "\n",
    "x = inputs\n",
    "print(x.size())\n",
    "torch_out = rl_net(x)\n",
    "print(\"pth model output:\", torch_out)\n",
    "print(torch_out.shape)\n",
    "\n",
    "ort_session = onnxruntime.InferenceSession(onnxpath)\n",
    "\n",
    "# compute ONNX Runtime output prediction\n",
    "ort_outs = ort_session.run(None, {ort_session.get_inputs()[0].name: x.cpu().numpy().astype(np.float32)})\n",
    "\n",
    "# compare ONNX Runtime and PyTorch results\n",
    "\n",
    "print(\"onnx model output:\", ort_outs)\n",
    "print('tor_out: ', torch_out.detach().numpy().shape)\n",
    "\n",
    "#np.testing.assert_allclose(to_numpy(torch_out), ort_outs[0], rtol=1e-03, atol=1e-05)\n",
    "#print(\"Exported model has been tested with ONNXRuntime, and the result looks good!\")"
   ]
  },
  {
   "cell_type": "code",
   "execution_count": null,
   "id": "77545c76",
   "metadata": {},
   "outputs": [],
   "source": []
  },
  {
   "cell_type": "code",
   "execution_count": null,
   "id": "46cb7b24",
   "metadata": {},
   "outputs": [],
   "source": []
  }
 ],
 "metadata": {
  "kernelspec": {
   "display_name": "Python 3 (ipykernel)",
   "language": "python",
   "name": "python3"
  },
  "language_info": {
   "codemirror_mode": {
    "name": "ipython",
    "version": 3
   },
   "file_extension": ".py",
   "mimetype": "text/x-python",
   "name": "python",
   "nbconvert_exporter": "python",
   "pygments_lexer": "ipython3",
   "version": "3.7.0"
  }
 },
 "nbformat": 4,
 "nbformat_minor": 5
}

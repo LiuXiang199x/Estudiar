{
 "cells": [
  {
   "cell_type": "code",
   "execution_count": 1,
   "id": "e00c3ab0",
   "metadata": {},
   "outputs": [],
   "source": [
    "import torch\n",
    "import netron"
   ]
  },
  {
   "cell_type": "code",
   "execution_count": 12,
   "id": "864aad65",
   "metadata": {},
   "outputs": [],
   "source": [
    "model_path = 'onnx/ckpt.20.onnx'"
   ]
  },
  {
   "cell_type": "code",
   "execution_count": 13,
   "id": "9ab0d316",
   "metadata": {},
   "outputs": [
    {
     "name": "stdout",
     "output_type": "stream",
     "text": [
      "Serving 'onnx/ckpt.20.onnx' at http://localhost:24430\n"
     ]
    },
    {
     "data": {
      "text/plain": [
       "('localhost', 24430)"
      ]
     },
     "execution_count": 13,
     "metadata": {},
     "output_type": "execute_result"
    }
   ],
   "source": [
    "netron.start(model_path)"
   ]
  },
  {
   "cell_type": "code",
   "execution_count": null,
   "id": "94cbafc0",
   "metadata": {},
   "outputs": [],
   "source": []
  }
 ],
 "metadata": {
  "kernelspec": {
   "display_name": "Python 3 (ipykernel)",
   "language": "python",
   "name": "python3"
  },
  "language_info": {
   "codemirror_mode": {
    "name": "ipython",
    "version": 3
   },
   "file_extension": ".py",
   "mimetype": "text/x-python",
   "name": "python",
   "nbconvert_exporter": "python",
   "pygments_lexer": "ipython3",
   "version": "3.7.0"
  }
 },
 "nbformat": 4,
 "nbformat_minor": 5
}

{
 "cells": [
  {
   "cell_type": "code",
   "execution_count": 1,
   "id": "74fc5498",
   "metadata": {},
   "outputs": [
    {
     "name": "stdout",
     "output_type": "stream",
     "text": [
      "1.2.0\n",
      "1.6.0\n",
      "1.6.0\n"
     ]
    }
   ],
   "source": [
    "import torch\n",
    "import torch.nn as nn\n",
    "import torch.nn.functional as F\n",
    "import time\n",
    "import gym\n",
    "import numpy\n",
    "import onnx\n",
    "import onnxruntime\n",
    "from gym import wrappers\n",
    "import os\n",
    "from typing import Any, Dict, List, Optional\n",
    "import glob\n",
    "\n",
    "import argparse\n",
    "import os\n",
    "import time\n",
    "#import caffe2.python.onnx.backend as onnx_caffe2\n",
    "\n",
    "# import geffnet\n",
    "# from base.rl.ppo import PPO\n",
    "\n",
    "pthfile = 'pth/net_params.pth'\n",
    "onnxpath = 'onnx/net.onnx'\n",
    "print(torch.__version__)\n",
    "print(onnx.__version__)\n",
    "print(onnxruntime.__version__)"
   ]
  },
  {
   "cell_type": "code",
   "execution_count": 2,
   "id": "f19e6172",
   "metadata": {},
   "outputs": [],
   "source": [
    "class Flatten(nn.Module):\n",
    "    def __init__(self):\n",
    "        super().__init__()\n",
    "\n",
    "    def forward(self, x):\n",
    "        return x.view(x.shape[0], -1)\n",
    "\n",
    "class Global_Actor(nn.Module):\n",
    "    def __init__(self):\n",
    "        super().__init__()\n",
    "        self.actor = nn.Sequential(  # (3, 1200, 1200)\n",
    "            nn.Conv2d(3, 8, 5, padding=2),  # (8, 1200, 1200)\n",
    "            nn.BatchNorm2d(8),\n",
    "            nn.ReLU(),\n",
    "            nn.MaxPool2d(kernel_size=2, stride=2), # (8, 600, 600)\n",
    "            nn.Conv2d(8, 16, 3, padding=1),  # (16, 600, 600)\n",
    "            nn.BatchNorm2d(16),\n",
    "            nn.ReLU(),\n",
    "            nn.MaxPool2d(kernel_size=2, stride=2), # (16, 300, 300)\n",
    "            nn.Conv2d(16, 32, 5, padding=2),  # (32, 300, 300)\n",
    "            nn.BatchNorm2d(32),\n",
    "            nn.ReLU(),\n",
    "            nn.MaxPool2d(kernel_size=2, stride=2), # (64, 150, 150)\n",
    "            nn.Conv2d(32, 64, 3, padding=1),  # (64, 150, 150)\n",
    "            nn.BatchNorm2d(64),\n",
    "            nn.ReLU(),\n",
    "            nn.Conv2d(64, 1, 1, padding=0),  # (1, 150, 150)\n",
    "            Flatten(),  # (G*G, )\n",
    "            # nn.Sigmoid(),  # frontier_mask\n",
    "        )\n",
    "        \n",
    "    def forward(self, inputs):\n",
    "        x2 = self.actor(inputs)\n",
    "        return x2"
   ]
  },
  {
   "cell_type": "code",
   "execution_count": 7,
   "id": "3ab69bee",
   "metadata": {},
   "outputs": [],
   "source": [
    "def test():\n",
    "    M = 1200\n",
    "    batch_size = 1\n",
    "    input_shape = (3, M, M)\n",
    "    \n",
    "    # Initialize model with the pretrained weights\n",
    "    # map_location = 'gpu' if torch.cuda.is_available() else 'cpu'\n",
    "    # loaded_model = torch.load(pthfile, map_location=\"cpu\")\n",
    "    # model.actor.load_state_dict(loaded_model, strict=False)\n",
    "    \n",
    "    model = Global_Actor()\n",
    "    print(model.actor)\n",
    "    model.actor.load_state_dict(torch.load(pthfile))\n",
    "    # set the model to inference mode\n",
    "    model.eval()\n",
    "    \n",
    "    inputs = torch.randn(1, 3, 1200, 1200)\n",
    "    map3 = torch.zeros(1, 1200, 1200)\n",
    "    map3[0][212][200] = 1.\n",
    "    inputs[0][2] = map3\n",
    "    x = inputs\n",
    "    # data type nchw\n",
    "    # x = torch.rand(batch_size, *input_shape)\n",
    "    input_names = [\"input0\"]\n",
    "    output_names = [\"output0\"]\n",
    "    optional_args = dict(keep_initializers_as_inputs=True)  # pytorch 1.3 needs this for export to succeed\n",
    "\n",
    "    try:\n",
    "        torch_out = torch.onnx._export(\n",
    "            model, x, onnxpath, export_params=True, verbose=False,\n",
    "            input_names=input_names, output_names=output_names, **optional_args,\n",
    "            opset_version=10)\n",
    "    except TypeError:\n",
    "        # fallback to no keep_initializers arg for pytorch < 1.3\n",
    "        torch_out = torch.onnx._export(\n",
    "            model, x, onnxpath, export_params=True, verbose=False,\n",
    "            input_names=input_names, output_names=output_names, opset_version=10)\n",
    "    '''\n",
    "    # # Export the model\n",
    "    torch.onnx.export(model, x, \n",
    "                      onnxpath, \n",
    "                      opset_version=10)\n",
    "                      #keep_initializers_as_inputs=True, \n",
    "                      # verbose=True\n",
    "     '''\n",
    "    print(\"=============Successful==========\")"
   ]
  },
  {
   "cell_type": "code",
   "execution_count": 8,
   "id": "c7dfe638",
   "metadata": {},
   "outputs": [
    {
     "name": "stdout",
     "output_type": "stream",
     "text": [
      "Sequential(\n",
      "  (0): Conv2d(3, 8, kernel_size=(5, 5), stride=(1, 1), padding=(2, 2))\n",
      "  (1): BatchNorm2d(8, eps=1e-05, momentum=0.1, affine=True, track_running_stats=True)\n",
      "  (2): ReLU()\n",
      "  (3): MaxPool2d(kernel_size=2, stride=2, padding=0, dilation=1, ceil_mode=False)\n",
      "  (4): Conv2d(8, 16, kernel_size=(3, 3), stride=(1, 1), padding=(1, 1))\n",
      "  (5): BatchNorm2d(16, eps=1e-05, momentum=0.1, affine=True, track_running_stats=True)\n",
      "  (6): ReLU()\n",
      "  (7): MaxPool2d(kernel_size=2, stride=2, padding=0, dilation=1, ceil_mode=False)\n",
      "  (8): Conv2d(16, 32, kernel_size=(5, 5), stride=(1, 1), padding=(2, 2))\n",
      "  (9): BatchNorm2d(32, eps=1e-05, momentum=0.1, affine=True, track_running_stats=True)\n",
      "  (10): ReLU()\n",
      "  (11): MaxPool2d(kernel_size=2, stride=2, padding=0, dilation=1, ceil_mode=False)\n",
      "  (12): Conv2d(32, 64, kernel_size=(3, 3), stride=(1, 1), padding=(1, 1))\n",
      "  (13): BatchNorm2d(64, eps=1e-05, momentum=0.1, affine=True, track_running_stats=True)\n",
      "  (14): ReLU()\n",
      "  (15): Conv2d(64, 1, kernel_size=(1, 1), stride=(1, 1))\n",
      "  (16): Flatten()\n",
      ")\n",
      "=============Successful==========\n"
     ]
    }
   ],
   "source": [
    "test()"
   ]
  },
  {
   "cell_type": "code",
   "execution_count": null,
   "id": "9af9ae84",
   "metadata": {},
   "outputs": [],
   "source": []
  },
  {
   "cell_type": "code",
   "execution_count": null,
   "id": "8672b3c8",
   "metadata": {},
   "outputs": [],
   "source": []
  }
 ],
 "metadata": {
  "kernelspec": {
   "display_name": "Python 3 (ipykernel)",
   "language": "python",
   "name": "python3"
  },
  "language_info": {
   "codemirror_mode": {
    "name": "ipython",
    "version": 3
   },
   "file_extension": ".py",
   "mimetype": "text/x-python",
   "name": "python",
   "nbconvert_exporter": "python",
   "pygments_lexer": "ipython3",
   "version": "3.7.0"
  }
 },
 "nbformat": 4,
 "nbformat_minor": 5
}

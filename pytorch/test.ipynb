{
 "cells": [
  {
   "cell_type": "code",
   "execution_count": 1,
   "id": "58935f85",
   "metadata": {},
   "outputs": [],
   "source": [
    "import torch"
   ]
  },
  {
   "cell_type": "code",
   "execution_count": 18,
   "id": "edc65781",
   "metadata": {},
   "outputs": [
    {
     "name": "stdout",
     "output_type": "stream",
     "text": [
      "tensor([[-2.0876,  1.0094],\n",
      "        [ 1.9512, -0.6437],\n",
      "        [-0.5795,  0.3768],\n",
      "        [-0.0225,  0.3847]])\n",
      "tensor([-2.0876,  1.0094,  1.9512, -0.6437, -0.5795,  0.3768, -0.0225,  0.3847])\n",
      "torch.Size([4, 2])\n",
      "4\n",
      "tensor([[-2.0876,  1.0094,  1.9512, -0.6437, -0.5795,  0.3768, -0.0225,  0.3847]])\n"
     ]
    }
   ],
   "source": [
    "a = torch.randn(4,2)\n",
    "print(a)\n",
    "print(a.view(-1))\n",
    "print(a.size())\n",
    "print(a.size(0))\n",
    "print(a.view(1,-1))"
   ]
  },
  {
   "cell_type": "code",
   "execution_count": null,
   "id": "b9b32ae2",
   "metadata": {},
   "outputs": [],
   "source": []
  }
 ],
 "metadata": {
  "kernelspec": {
   "display_name": "Python 3 (ipykernel)",
   "language": "python",
   "name": "python3"
  },
  "language_info": {
   "codemirror_mode": {
    "name": "ipython",
    "version": 3
   },
   "file_extension": ".py",
   "mimetype": "text/x-python",
   "name": "python",
   "nbconvert_exporter": "python",
   "pygments_lexer": "ipython3",
   "version": "3.7.0"
  }
 },
 "nbformat": 4,
 "nbformat_minor": 5
}

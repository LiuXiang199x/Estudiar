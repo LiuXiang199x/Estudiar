{
 "cells": [
  {
   "cell_type": "code",
   "execution_count": 2,
   "id": "053eed55",
   "metadata": {},
   "outputs": [],
   "source": [
    "import torch\n",
    "import torch.nn as nn"
   ]
  },
  {
   "cell_type": "code",
   "execution_count": 3,
   "id": "da94974a",
   "metadata": {},
   "outputs": [
    {
     "data": {
      "text/plain": [
       "Upsample(size=None, mode=nearest)"
      ]
     },
     "execution_count": 3,
     "metadata": {},
     "output_type": "execute_result"
    }
   ],
   "source": [
    "torch.nn.Upsample(size=None, scale_factor=None, mode='nearest', align_corners=None)\n",
    "# size:一个独立的元组，想要得到的输出尺寸\n",
    "# scale_factor：可以为int和tuple,图像高度/宽度/深度的乘数\n",
    "# mode：上采样算法,nearest, linear, bilinear和trilinear。\n",
    "# align_corners：为True，则输入和输出张量的角像素对齐，从而保留这些像素的值。这只会在mode是linear, bilinear，或trilinear。默认值：false"
   ]
  },
  {
   "cell_type": "code",
   "execution_count": 13,
   "id": "07e1a1f2",
   "metadata": {},
   "outputs": [
    {
     "data": {
      "text/plain": [
       "tensor([[[[1., 2.],\n",
       "          [3., 4.]]]])"
      ]
     },
     "execution_count": 13,
     "metadata": {},
     "output_type": "execute_result"
    }
   ],
   "source": [
    "inputs = torch.arange(1,5).view(1,1,2,2).float()\n",
    "inputs"
   ]
  },
  {
   "cell_type": "code",
   "execution_count": 16,
   "id": "9f4e07d2",
   "metadata": {},
   "outputs": [
    {
     "name": "stdout",
     "output_type": "stream",
     "text": [
      "tensor([[[[1., 1., 2., 2.],\n",
      "          [1., 1., 2., 2.],\n",
      "          [3., 3., 4., 4.],\n",
      "          [3., 3., 4., 4.]]]])\n",
      "tensor([[[[1.0000, 1.2500, 1.7500, 2.0000],\n",
      "          [1.5000, 1.7500, 2.2500, 2.5000],\n",
      "          [2.5000, 2.7500, 3.2500, 3.5000],\n",
      "          [3.0000, 3.2500, 3.7500, 4.0000]]]])\n",
      "tensor([[[[1.0000, 1.0000, 1.3333, 1.6667, 2.0000, 2.0000],\n",
      "          [1.0000, 1.0000, 1.3333, 1.6667, 2.0000, 2.0000],\n",
      "          [1.6667, 1.6667, 2.0000, 2.3333, 2.6667, 2.6667],\n",
      "          [2.3333, 2.3333, 2.6667, 3.0000, 3.3333, 3.3333],\n",
      "          [3.0000, 3.0000, 3.3333, 3.6667, 4.0000, 4.0000],\n",
      "          [3.0000, 3.0000, 3.3333, 3.6667, 4.0000, 4.0000]]]])\n"
     ]
    }
   ],
   "source": [
    "Up = nn.Upsample(scale_factor=2, mode='nearest')\n",
    "print(Up(inputs))\n",
    "UpN = nn.Upsample(scale_factor=2, mode=\"bilinear\")\n",
    "print(UpN(inputs))\n",
    "Up3 = nn.Upsample(scale_factor=3, mode=\"bilinear\")\n",
    "print(Up3(inputs))"
   ]
  },
  {
   "cell_type": "code",
   "execution_count": null,
   "id": "cf638f57",
   "metadata": {},
   "outputs": [],
   "source": []
  }
 ],
 "metadata": {
  "kernelspec": {
   "display_name": "Python 3 (ipykernel)",
   "language": "python",
   "name": "python3"
  },
  "language_info": {
   "codemirror_mode": {
    "name": "ipython",
    "version": 3
   },
   "file_extension": ".py",
   "mimetype": "text/x-python",
   "name": "python",
   "nbconvert_exporter": "python",
   "pygments_lexer": "ipython3",
   "version": "3.7.0"
  }
 },
 "nbformat": 4,
 "nbformat_minor": 5
}

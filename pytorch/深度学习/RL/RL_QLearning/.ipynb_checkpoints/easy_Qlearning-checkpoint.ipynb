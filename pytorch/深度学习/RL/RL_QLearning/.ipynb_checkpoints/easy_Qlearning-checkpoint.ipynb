{
 "cells": [
  {
   "cell_type": "code",
   "execution_count": 1,
   "id": "87652fa5",
   "metadata": {},
   "outputs": [],
   "source": [
    "import numpy as np\n",
    "\n",
    "GAMMA = 0.8\n",
    "\n",
    "Q = np.zeros((6,6))\n",
    "\n",
    "R=np.asarray([[-1,-1,-1,-1,0,-1],\n",
    "\n",
    "   [-1,-1,-1,0,-1,100],\n",
    "\n",
    "   [-1,-1,-1,0,-1,-1],\n",
    "\n",
    "   [-1,0, 0, -1,0,-1],\n",
    "\n",
    "   [0,-1,-1,0,-1,100],\n",
    "\n",
    "   [-1,0,-1,-1,0,100]])"
   ]
  },
  {
   "cell_type": "code",
   "execution_count": 5,
   "id": "b337ec5a",
   "metadata": {},
   "outputs": [],
   "source": [
    "def getMaxQ(state):\n",
    "\n",
    "    return max(Q[state, :])\n",
    "\n",
    "def QLearning(state):\n",
    "\n",
    "    curAction = None\n",
    "\n",
    "    for action in xrange(6):\n",
    "\n",
    "        if(R[state][action] == -1):\n",
    "            Q[state, action]=0\n",
    "\n",
    "        else:\n",
    "            curAction = action\n",
    "            Q[state,action]=R[state][action]+GAMMA * getMaxQ(curAction)\n",
    "\n",
    "    count=0\n",
    "\n",
    "    while count<1000:\n",
    "        for i in xrange(6):\n",
    "            QLearning(i)\n",
    "\n",
    "        count+=1\n",
    "        \n",
    "    print (Q/5)"
   ]
  },
  {
   "cell_type": "code",
   "execution_count": 6,
   "id": "8035dd1a",
   "metadata": {},
   "outputs": [
    {
     "ename": "TypeError",
     "evalue": "QLearning() missing 1 required positional argument: 'state'",
     "output_type": "error",
     "traceback": [
      "\u001b[0;31m---------------------------------------------------------------------------\u001b[0m",
      "\u001b[0;31mTypeError\u001b[0m                                 Traceback (most recent call last)",
      "\u001b[0;32m/tmp/ipykernel_18614/3210487269.py\u001b[0m in \u001b[0;36m<module>\u001b[0;34m\u001b[0m\n\u001b[0;32m----> 1\u001b[0;31m \u001b[0mQLearning\u001b[0m\u001b[0;34m(\u001b[0m\u001b[0;34m)\u001b[0m\u001b[0;34m\u001b[0m\u001b[0m\n\u001b[0m",
      "\u001b[0;31mTypeError\u001b[0m: QLearning() missing 1 required positional argument: 'state'"
     ]
    }
   ],
   "source": [
    "QLearning()"
   ]
  },
  {
   "cell_type": "code",
   "execution_count": null,
   "id": "45596c3a",
   "metadata": {},
   "outputs": [],
   "source": []
  }
 ],
 "metadata": {
  "kernelspec": {
   "display_name": "Python 3 (ipykernel)",
   "language": "python",
   "name": "python3"
  },
  "language_info": {
   "codemirror_mode": {
    "name": "ipython",
    "version": 3
   },
   "file_extension": ".py",
   "mimetype": "text/x-python",
   "name": "python",
   "nbconvert_exporter": "python",
   "pygments_lexer": "ipython3",
   "version": "3.7.0"
  }
 },
 "nbformat": 4,
 "nbformat_minor": 5
}

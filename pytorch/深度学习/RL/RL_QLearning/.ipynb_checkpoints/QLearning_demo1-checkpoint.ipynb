{
 "cells": [
  {
   "cell_type": "code",
   "execution_count": 4,
   "id": "28b4a753",
   "metadata": {},
   "outputs": [],
   "source": [
    "import time\n",
    "import numpy as np\n",
    "import pandas as pd"
   ]
  },
  {
   "cell_type": "code",
   "execution_count": 5,
   "id": "4af76801",
   "metadata": {},
   "outputs": [],
   "source": [
    "np.random.seed(2)"
   ]
  },
  {
   "cell_type": "code",
   "execution_count": 6,
   "id": "68b7c8a3",
   "metadata": {},
   "outputs": [],
   "source": [
    "N_STATES = 6 # 1维世界的宽度\n",
    "ACTIONS = ['left', 'right']    # agent可用的动作\n",
    "EPSILON = 0.9   # 贪婪度  greedy\n",
    "ALPHA = 0.1   # 学习率\n",
    "GAMMA = 0.9   # 奖励递减值\n",
    "MAX_EPISODES = 13  # 最大回合数\n",
    "FRESH_TIME = 0.01   # 移动间隔时间, 想让他走慢点就把时间设置大点"
   ]
  },
  {
   "cell_type": "code",
   "execution_count": 7,
   "id": "58b95dad",
   "metadata": {},
   "outputs": [],
   "source": [
    "def build_q_table(n_states, actions):\n",
    "    table = pd.DataFrame(\n",
    "        np.zeros((n_states, len(actions))),    # q_table全0初始\n",
    "        columns = actions,  # columns 对应的是行为的名称\n",
    "    )\n",
    "    return table"
   ]
  },
  {
   "cell_type": "code",
   "execution_count": 8,
   "id": "de4b47e4",
   "metadata": {},
   "outputs": [],
   "source": [
    "# 在某个state节点选择行为\n",
    "def choose_action(state, q_table):\n",
    "    state_actions = q_table.iloc[state, :]   # 选出这个 state 的所有action值\n",
    "    # 非贪婪 or 这个state还没有探索过\n",
    "    if (np.random.uniform() > EPSILON) or (state_actions.all() == 0):\n",
    "        action_name = np.random.choice(ACTIONS)\n",
    "    else:\n",
    "        action_name = state_actions.argmax()   # 贪婪模型\n",
    "    return action_name"
   ]
  },
  {
   "cell_type": "code",
   "execution_count": 9,
   "id": "c562b168",
   "metadata": {},
   "outputs": [],
   "source": [
    "def get_env_feedback(S, A):\n",
    "    # this is how agent will interact with the environment\n",
    "    if A == 'right':  # move right\n",
    "        if S == N_STATES - 2:   # terminate\n",
    "            S_ = 'terminal'\n",
    "            R = 1\n",
    "        else:\n",
    "            S_ = S + 1\n",
    "            R = 0\n",
    "    else:\n",
    "        R = 0\n",
    "        if S == 0:\n",
    "            S_ = S   # reach the wall\n",
    "        else:\n",
    "            S_ = S - 1\n",
    "    return S_, R"
   ]
  },
  {
   "cell_type": "code",
   "execution_count": 12,
   "id": "b0d6758e",
   "metadata": {},
   "outputs": [],
   "source": [
    "def update_env(S, episode, step_counter):\n",
    "    # this is how environment be updated\n",
    "    env_list = ['-']*(N_STATES-1) + ['T']   # ’-----------T‘ our environment\n",
    "    if S == 'terminal':\n",
    "        interaction = 'Episode %s: total_steps = %s ' % (episode+1, step_counter)\n",
    "        print(\"\\r{}\".format(interaction), end='')\n",
    "        time.sleep(2)\n",
    "        print(\"\\r                                  \", end='')\n",
    "        \n",
    "    else:\n",
    "        env_list[5] = 'o'\n",
    "        interaction = ''.join(env_list)\n",
    "        print(\"\\r{}\".format(interaction), end='')\n",
    "        time.sleep(FRESH_TIME)"
   ]
  },
  {
   "cell_type": "code",
   "execution_count": 17,
   "id": "e6586bfd",
   "metadata": {},
   "outputs": [],
   "source": [
    "def rl():\n",
    "    q_table = build_q_table(N_STATES, ACTIONS)   # 初始化q table\n",
    "    \n",
    "    for episode in range(MAX_EPISODES):\n",
    "        step_counter = 0\n",
    "        S = 0  # 回合初始位置\n",
    "        is_terminated = False  \n",
    "        update_env(S, episode, step_counter)\n",
    "        while not is_terminated:\n",
    "            \n",
    "            A = choose_action(S, q_table)\n",
    "            S_, R = get_env_feedback(S, A)\n",
    "            q_predict = q_table.loc[S, A]\n",
    "            if S_ != 'terminal':\n",
    "                # 实际的(状态-行为)值(回合没有结束)\n",
    "                q_target = R + GAMMA * q_table.iloc[S_, :].max()\n",
    "            else:\n",
    "                q_target = R   # 实际的(状态-行为)值（回合结束）\n",
    "                is_terminated = True\n",
    "            \n",
    "            q_table.loc[S, A] += ALPHA * (q_target - q_predict)  # q_table更新\n",
    "            S = S_  # 探索者移动到下一个state\n",
    "            \n",
    "            update_env(S, episode, step_counter+1)   # 环境更新\n",
    "            \n",
    "            step_counter += 1\n",
    "        return q_table"
   ]
  },
  {
   "cell_type": "code",
   "execution_count": 18,
   "id": "094a88f2",
   "metadata": {},
   "outputs": [
    {
     "name": "stdout",
     "output_type": "stream",
     "text": [
      "                                  \n",
      "Q-table:\n",
      "\n",
      "   left  right\n",
      "0   0.0    0.0\n",
      "1   0.0    0.0\n",
      "2   0.0    0.0\n",
      "3   0.0    0.0\n",
      "4   0.0    0.1\n",
      "5   0.0    0.0\n"
     ]
    }
   ],
   "source": [
    "if __name__ == '__main__':\n",
    "    q_table = rl()\n",
    "    print(\"\\r\\nQ-table:\\n\")\n",
    "    print(q_table)"
   ]
  },
  {
   "cell_type": "code",
   "execution_count": null,
   "id": "da971bfe",
   "metadata": {},
   "outputs": [],
   "source": []
  }
 ],
 "metadata": {
  "kernelspec": {
   "display_name": "Python 3 (ipykernel)",
   "language": "python",
   "name": "python3"
  },
  "language_info": {
   "codemirror_mode": {
    "name": "ipython",
    "version": 3
   },
   "file_extension": ".py",
   "mimetype": "text/x-python",
   "name": "python",
   "nbconvert_exporter": "python",
   "pygments_lexer": "ipython3",
   "version": "3.7.0"
  }
 },
 "nbformat": 4,
 "nbformat_minor": 5
}

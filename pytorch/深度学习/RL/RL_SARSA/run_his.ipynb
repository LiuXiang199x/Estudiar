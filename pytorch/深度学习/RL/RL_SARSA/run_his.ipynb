{
 "cells": [
  {
   "cell_type": "code",
   "execution_count": 1,
   "id": "c84c69df",
   "metadata": {},
   "outputs": [],
   "source": [
    "from maze_env import Maze\n",
    "from RL_brain import SarsaTable\n",
    "import torch"
   ]
  },
  {
   "cell_type": "code",
   "execution_count": 2,
   "id": "3a42c147",
   "metadata": {},
   "outputs": [
    {
     "name": "stdout",
     "output_type": "stream",
     "text": [
      "game over\n"
     ]
    }
   ],
   "source": [
    "def update():\n",
    "    for episode in range(100):\n",
    "        # 初始化环境\n",
    "        observation = env.reset()\n",
    "\n",
    "        # Sarsa 根据 state 观测选择行为\n",
    "        action = RL.choose_action(str(observation))\n",
    "\n",
    "        while True:\n",
    "            # 刷新环境\n",
    "            env.render()\n",
    "\n",
    "            # 在环境中采取行为, 获得下一个 state_ (obervation_), reward, 和是否终止\n",
    "            observation_, reward, done = env.step(action)\n",
    "\n",
    "            # 根据下一个 state (obervation_) 选取下一个 action_\n",
    "            action_ = RL.choose_action(str(observation_))\n",
    "\n",
    "            # 从 (s, a, r, s, a) 中学习, 更新 Q_tabel 的参数 ==> Sarsa\n",
    "            RL.learn(str(observation), action, reward, str(observation_), action_)\n",
    "\n",
    "            # 将下一个当成下一步的 state (observation) and action\n",
    "            observation = observation_\n",
    "            action = action_\n",
    "\n",
    "            # 终止时跳出循环\n",
    "            if done:\n",
    "                break\n",
    "\n",
    "    # 大循环完毕\n",
    "    print('game over')\n",
    "    env.destroy()\n",
    "\n",
    "if __name__ == \"__main__\":\n",
    "    env = Maze()\n",
    "    RL = SarsaTable(actions=list(range(env.n_actions)))\n",
    "\n",
    "    env.after(100, update)\n",
    "    env.mainloop()"
   ]
  },
  {
   "cell_type": "code",
   "execution_count": null,
   "id": "a9eec9c1",
   "metadata": {},
   "outputs": [],
   "source": []
  }
 ],
 "metadata": {
  "kernelspec": {
   "display_name": "Python 3 (ipykernel)",
   "language": "python",
   "name": "python3"
  },
  "language_info": {
   "codemirror_mode": {
    "name": "ipython",
    "version": 3
   },
   "file_extension": ".py",
   "mimetype": "text/x-python",
   "name": "python",
   "nbconvert_exporter": "python",
   "pygments_lexer": "ipython3",
   "version": "3.7.0"
  }
 },
 "nbformat": 4,
 "nbformat_minor": 5
}

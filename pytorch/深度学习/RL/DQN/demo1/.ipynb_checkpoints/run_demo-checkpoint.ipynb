{
 "cells": [
  {
   "cell_type": "code",
   "execution_count": 2,
   "id": "b6ea0c6d",
   "metadata": {},
   "outputs": [],
   "source": [
    "from maze_env import Maze\n",
    "from RL_brain import DQN\n",
    "import time"
   ]
  },
  {
   "cell_type": "code",
   "execution_count": 3,
   "id": "203bb07c",
   "metadata": {},
   "outputs": [],
   "source": [
    "def run_maze():\n",
    "    print(\"====Game Start====\")\n",
    "    step = 0\n",
    "    max_episode = 500\n",
    "    for episode in range(max_episode):\n",
    "        state = env.reset()  # 重置智能体位置\n",
    "        step_every_episode = 0\n",
    "        epsilon = episode / max_episode  # 动态变化随机值\n",
    "        while True:\n",
    "            if episode < 10:\n",
    "                time.sleep(0.1)\n",
    "            if episode > 480:\n",
    "                time.sleep(0.5)\n",
    "            env.render()  # 显示新位置\n",
    "            action = model.choose_action(state, epsilon)  # 根据状态选择行为\n",
    "            # 环境根据行为给出下一个状态，奖励，是否结束。\n",
    "            next_state, reward, terminal = env.step(action)\n",
    "            model.store_transition(state, action, reward, next_state)  # 模型存储经历\n",
    "            # 控制学习起始时间(先积累记忆再学习)和控制学习的频率(积累多少步经验学习一次)\n",
    "            if step > 200 and step % 5 == 0:\n",
    "                model.learn()\n",
    "            # 进入下一步\n",
    "            state = next_state\n",
    "            if terminal:\n",
    "                print(\"episode=\", episode, end=\",\")\n",
    "                print(\"step=\", step_every_episode)\n",
    "                break\n",
    "            step += 1\n",
    "            step_every_episode += 1\n",
    "    # 游戏环境结束\n",
    "    print(\"====Game Over====\")\n",
    "    env.destroy()"
   ]
  },
  {
   "cell_type": "code",
   "execution_count": 6,
   "id": "7c61d33b",
   "metadata": {},
   "outputs": [
    {
     "ename": "AttributeError",
     "evalue": "'_tkinter.tkapp' object has no attribute 'n_states'",
     "output_type": "error",
     "traceback": [
      "\u001b[0;31m---------------------------------------------------------------------------\u001b[0m",
      "\u001b[0;31mAttributeError\u001b[0m                            Traceback (most recent call last)",
      "\u001b[0;32m/tmp/ipykernel_14490/2568451221.py\u001b[0m in \u001b[0;36m<module>\u001b[0;34m\u001b[0m\n\u001b[1;32m      2\u001b[0m     \u001b[0menv\u001b[0m \u001b[0;34m=\u001b[0m \u001b[0mMaze\u001b[0m\u001b[0;34m(\u001b[0m\u001b[0;34m)\u001b[0m  \u001b[0;31m# 环境\u001b[0m\u001b[0;34m\u001b[0m\u001b[0m\n\u001b[1;32m      3\u001b[0m     model = DQN(\n\u001b[0;32m----> 4\u001b[0;31m         \u001b[0mn_states\u001b[0m\u001b[0;34m=\u001b[0m\u001b[0menv\u001b[0m\u001b[0;34m.\u001b[0m\u001b[0mn_states\u001b[0m\u001b[0;34m,\u001b[0m\u001b[0;34m\u001b[0m\u001b[0m\n\u001b[0m\u001b[1;32m      5\u001b[0m         \u001b[0mn_actions\u001b[0m\u001b[0;34m=\u001b[0m\u001b[0menv\u001b[0m\u001b[0;34m.\u001b[0m\u001b[0mn_actions\u001b[0m\u001b[0;34m\u001b[0m\u001b[0m\n\u001b[1;32m      6\u001b[0m     )  # 算法模型\n",
      "\u001b[0;32m~/anaconda3/envs/py37/lib/python3.7/tkinter/__init__.py\u001b[0m in \u001b[0;36m__getattr__\u001b[0;34m(self, attr)\u001b[0m\n\u001b[1;32m   2096\u001b[0m     \u001b[0;32mdef\u001b[0m \u001b[0m__getattr__\u001b[0m\u001b[0;34m(\u001b[0m\u001b[0mself\u001b[0m\u001b[0;34m,\u001b[0m \u001b[0mattr\u001b[0m\u001b[0;34m)\u001b[0m\u001b[0;34m:\u001b[0m\u001b[0;34m\u001b[0m\u001b[0m\n\u001b[1;32m   2097\u001b[0m         \u001b[0;34m\"Delegate attribute access to the interpreter object\"\u001b[0m\u001b[0;34m\u001b[0m\u001b[0m\n\u001b[0;32m-> 2098\u001b[0;31m         \u001b[0;32mreturn\u001b[0m \u001b[0mgetattr\u001b[0m\u001b[0;34m(\u001b[0m\u001b[0mself\u001b[0m\u001b[0;34m.\u001b[0m\u001b[0mtk\u001b[0m\u001b[0;34m,\u001b[0m \u001b[0mattr\u001b[0m\u001b[0;34m)\u001b[0m\u001b[0;34m\u001b[0m\u001b[0m\n\u001b[0m\u001b[1;32m   2099\u001b[0m \u001b[0;34m\u001b[0m\u001b[0m\n\u001b[1;32m   2100\u001b[0m \u001b[0;31m# Ideally, the classes Pack, Place and Grid disappear, the\u001b[0m\u001b[0;34m\u001b[0m\u001b[0;34m\u001b[0m\u001b[0m\n",
      "\u001b[0;31mAttributeError\u001b[0m: '_tkinter.tkapp' object has no attribute 'n_states'"
     ]
    }
   ],
   "source": [
    "if __name__ == \"__main__\":\n",
    "    env = Maze()  # 环境\n",
    "    model = DQN(\n",
    "        n_states=env.n_states,\n",
    "        n_actions=env.n_actions\n",
    "    )  # 算法模型\n",
    "    run_maze()\n",
    "    env.mainloop()\n",
    "    model.plot_cost()  # 误差曲线"
   ]
  },
  {
   "cell_type": "code",
   "execution_count": null,
   "id": "bf8ae92d",
   "metadata": {},
   "outputs": [],
   "source": []
  }
 ],
 "metadata": {
  "kernelspec": {
   "display_name": "Python 3 (ipykernel)",
   "language": "python",
   "name": "python3"
  },
  "language_info": {
   "codemirror_mode": {
    "name": "ipython",
    "version": 3
   },
   "file_extension": ".py",
   "mimetype": "text/x-python",
   "name": "python",
   "nbconvert_exporter": "python",
   "pygments_lexer": "ipython3",
   "version": "3.7.0"
  }
 },
 "nbformat": 4,
 "nbformat_minor": 5
}

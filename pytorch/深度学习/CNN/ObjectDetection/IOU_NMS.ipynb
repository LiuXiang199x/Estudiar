{
 "cells": [
  {
   "cell_type": "code",
   "execution_count": 1,
   "id": "6c0493d2",
   "metadata": {},
   "outputs": [],
   "source": [
    "import numpy as np\n",
    " \n",
    "def nms(boxes, threshold):\n",
    "    # 得到每一个box的左上和右下的坐标值，以及每一个box的概率值\n",
    "    x1 = boxes[:, 0]\n",
    "    y1 = boxes[:, 1]\n",
    "    x2 = boxes[:, 2]\n",
    "    y2 = boxes[:, 3]\n",
    "    scores = boxes[:, 4]\n",
    " \n",
    "    # 计算每一个box的面积\n",
    "    areas = (x2 - x1 + 1) * (y2 - y1 + 1)\n",
    "    # 对每一个box按照score降序排列\n",
    "    \n",
    "    # 最后保留box的集合\n",
    "    keep = []\n",
    "    while order.size > 0:\n",
    "        i = order[0]\n",
    "        keep.append(i)  # 保留该类box中概率值最大的一个\n",
    " \n",
    "        # 相交区域的左上和右下的坐标值\n",
    "        xx1 = np.maximum(x1[i], x1[order[1:]])\n",
    "        yy1 = np.maximum(y1[i], y1[order[1:]])\n",
    "        xx2 = np.minimum(x2[i], x2[order[1:]])\n",
    "        yy2 = np.minimum(y2[i], y2[order[1:]])\n",
    " \n",
    "        # 相交区域的宽和高度，计算相交区域的面积\n",
    "        w = np.maximum(0.0, xx2 - xx1 + 1)\n",
    "        h = np.maximum(0.0, yy2 - yy1 + 1)\n",
    "        inter = w * h\n",
    " \n",
    "        # 计算IoU值\n",
    "        over = inter / (areas[i] + areas[order[1:]] - inter)\n",
    "        # 保留IoU小于阈值的box\n",
    "        index = np.where(over <= threshold)[0]\n",
    "        # np.where(condition)返回索引\n",
    "        order = order[index + 1]\n",
    "    return keep\n"
   ]
  },
  {
   "cell_type": "code",
   "execution_count": null,
   "id": "9fd2c90b",
   "metadata": {},
   "outputs": [],
   "source": []
  }
 ],
 "metadata": {
  "kernelspec": {
   "display_name": "Python 3 (ipykernel)",
   "language": "python",
   "name": "python3"
  },
  "language_info": {
   "codemirror_mode": {
    "name": "ipython",
    "version": 3
   },
   "file_extension": ".py",
   "mimetype": "text/x-python",
   "name": "python",
   "nbconvert_exporter": "python",
   "pygments_lexer": "ipython3",
   "version": "3.7.0"
  }
 },
 "nbformat": 4,
 "nbformat_minor": 5
}

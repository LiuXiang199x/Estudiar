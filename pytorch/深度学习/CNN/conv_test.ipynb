{
 "cells": [
  {
   "cell_type": "code",
   "execution_count": 1,
   "id": "b32e458c",
   "metadata": {},
   "outputs": [],
   "source": [
    "import torch\n",
    "import matplotlib.pyplot as plt"
   ]
  },
  {
   "cell_type": "code",
   "execution_count": 21,
   "id": "c572b580",
   "metadata": {},
   "outputs": [
    {
     "name": "stdout",
     "output_type": "stream",
     "text": [
      "tensor([0.9974, 0.6254, 0.9129, 0.4929, 0.8665, 0.5835])\n",
      "tensor([[[[-0.7323,  0.4778,  0.1586, -1.0060],\n",
      "          [-1.4285, -1.7714,  1.0093,  0.1701],\n",
      "          [-0.6167,  1.7189, -0.6192,  1.0061],\n",
      "          [ 0.1213, -1.2581,  0.3857, -0.1679],\n",
      "          [ 1.8586, -0.5569, -1.0536,  0.8769]]],\n",
      "\n",
      "\n",
      "        [[[ 0.6614,  1.9925, -3.0411,  1.5605],\n",
      "          [-0.9495, -0.8521, -0.6766, -0.9984],\n",
      "          [ 1.7314,  1.8154,  0.1714, -1.5251],\n",
      "          [-0.9329,  1.0765,  0.4173, -0.4244],\n",
      "          [ 0.3058,  0.0315,  0.5399, -0.5559]]],\n",
      "\n",
      "\n",
      "        [[[-0.1602,  0.0855,  1.0576,  1.2778],\n",
      "          [ 2.6152,  0.1833, -0.5814, -0.3569],\n",
      "          [ 0.6734,  2.5192,  0.7969,  0.7487],\n",
      "          [-0.6826, -0.9659,  0.4329,  0.0527],\n",
      "          [-0.8473, -0.7576,  0.8605, -0.7381]]]])\n",
      "<class 'torch.Tensor'>\n",
      "torch.Size([3, 4, 4, 2])\n"
     ]
    }
   ],
   "source": [
    "x = torch.randn(3, 1, 5, 4)   # 标准正太分布\n",
    "\n",
    "print(x)\n",
    "\n",
    "conv1 = torch.nn.Conv2d(1, 4, (2,3))  # kernel_size = int -> (int, int);  kernel_size = tuple()\n",
    "res = conv1(x)\n",
    "print(type(res))\n",
    "print(res.shape)"
   ]
  },
  {
   "cell_type": "code",
   "execution_count": 20,
   "id": "932702f1",
   "metadata": {},
   "outputs": [
    {
     "name": "stdout",
     "output_type": "stream",
     "text": [
      "<class 'torch.Size'>\n",
      "<class 'torch.Size'>\n",
      "3\n",
      "3\n"
     ]
    }
   ],
   "source": [
    "# torch.size() 和 torch.shape() 出来的东西和type都是一样的\n",
    "print(type(x.size()))\n",
    "print(type(x.shape))\n",
    "\n",
    "# 但是如果要调用的话，size（）是用括号（），shape是用数组引用的方式[]\n",
    "print(x.size(0))\n",
    "print(x.shape[0])"
   ]
  },
  {
   "cell_type": "code",
   "execution_count": null,
   "id": "1a6378f7",
   "metadata": {},
   "outputs": [],
   "source": []
  }
 ],
 "metadata": {
  "kernelspec": {
   "display_name": "Python 3 (ipykernel)",
   "language": "python",
   "name": "python3"
  },
  "language_info": {
   "codemirror_mode": {
    "name": "ipython",
    "version": 3
   },
   "file_extension": ".py",
   "mimetype": "text/x-python",
   "name": "python",
   "nbconvert_exporter": "python",
   "pygments_lexer": "ipython3",
   "version": "3.7.11"
  }
 },
 "nbformat": 4,
 "nbformat_minor": 5
}

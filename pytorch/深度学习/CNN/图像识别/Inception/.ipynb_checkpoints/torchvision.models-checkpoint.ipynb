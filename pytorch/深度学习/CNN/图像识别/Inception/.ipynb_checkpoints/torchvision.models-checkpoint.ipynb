{
 "cells": [
  {
   "cell_type": "code",
   "execution_count": 4,
   "id": "8e83e1e0",
   "metadata": {},
   "outputs": [],
   "source": [
    "import torch\n",
    "from torchvision.models import inception"
   ]
  },
  {
   "cell_type": "code",
   "execution_count": 15,
   "id": "57774b9d",
   "metadata": {},
   "outputs": [
    {
     "name": "stdout",
     "output_type": "stream",
     "text": [
      "<module 'torchvision.models.inception' from '/home/xiang/anaconda3/envs/py37/lib/python3.7/site-packages/torchvision/models/inception.py'>\n",
      "<class 'torchvision.models.inception.Inception3'>\n",
      "<function Module.parameters at 0x7fef5825b6a8>\n"
     ]
    }
   ],
   "source": [
    "net = inception\n",
    "print(net)\n",
    "print(net.Inception3)\n",
    "print(net.Inception3.parameters)"
   ]
  },
  {
   "cell_type": "code",
   "execution_count": null,
   "id": "ad2dd36b",
   "metadata": {},
   "outputs": [],
   "source": []
  }
 ],
 "metadata": {
  "kernelspec": {
   "display_name": "Python 3 (ipykernel)",
   "language": "python",
   "name": "python3"
  },
  "language_info": {
   "codemirror_mode": {
    "name": "ipython",
    "version": 3
   },
   "file_extension": ".py",
   "mimetype": "text/x-python",
   "name": "python",
   "nbconvert_exporter": "python",
   "pygments_lexer": "ipython3",
   "version": "3.7.0"
  }
 },
 "nbformat": 4,
 "nbformat_minor": 5
}

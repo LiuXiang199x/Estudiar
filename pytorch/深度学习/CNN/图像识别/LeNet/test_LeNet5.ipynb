{
 "cells": [
  {
   "cell_type": "code",
   "execution_count": 1,
   "id": "a9d54a79",
   "metadata": {},
   "outputs": [],
   "source": [
    "import torch\n",
    "import torchvision\n",
    "from torchvision import datasets,transforms\n",
    "import matplotlib.pyplot as plt\n",
    "import numpy as np\n",
    "import cv2\n",
    " \n",
    "import torch.nn as nn\n",
    "import torch.nn.functional as F\n",
    "\n",
    "import tensorboard"
   ]
  },
  {
   "cell_type": "code",
   "execution_count": 3,
   "id": "36572377",
   "metadata": {},
   "outputs": [],
   "source": [
    "device = torch.device(\"cuda:0\" if torch.cuda.is_available() else \"cpu\")\n",
    " \n",
    "transform = transforms.Compose([\n",
    "        transforms.ToTensor(), # 转为Tensor\n",
    "        transforms.Normalize((0.5,), (0.5,)), # 归一化\n",
    "                             ])\n",
    " \n",
    "train_dataset = torchvision.datasets.MNIST(root='./mnist', train=True, transform=transform, download=True)\n",
    "test_dataset = torchvision.datasets.MNIST(root='./mnist', train=False, transform=transform, download=True)\n",
    " \n",
    "batch_size = 4\n",
    "trainloader = torch.utils.data.DataLoader(train_dataset, batch_size=batch_size, shuffle=False, num_workers=4)\n",
    "testloader = torch.utils.data.DataLoader(test_dataset, batch_size=batch_size, shuffle=False, num_workers=4)\n",
    "\n",
    " \n",
    "class Net(nn.Module):\n",
    "    def __init__(self):\n",
    "        super(Net, self).__init__()\n",
    "        self.conv1 = nn.Conv2d(1, 6, 5, padding=2)\n",
    "        self.conv2 = nn.Conv2d(6, 16, 5)  \n",
    "        self.fc1   = nn.Linear(16*5*5, 120)  \n",
    "        self.fc2   = nn.Linear(120, 84)\n",
    "        self.fc3   = nn.Linear(84, 10)\n",
    " \n",
    "    def forward(self, x): \n",
    "        # print(x.size())    # 4-1-28-28\n",
    "        \n",
    "        x = F.max_pool2d(F.relu(self.conv1(x)), (2,2)) \n",
    "        # print(x.size())    # # 4-6-14-14\n",
    "        \n",
    "        x = F.max_pool2d(F.relu(self.conv2(x)), (2,2))\n",
    "        # print(\"x.size():\", x.size())   # 4-16-5-5\n",
    "        \n",
    "        x = x.view(x.size()[0], -1)   #展开成一维的\n",
    "        # print(\"x.size():\", x.size())   # 4-400\n",
    "        x = F.relu(self.fc1(x))\n",
    "        x = F.relu(self.fc2(x))\n",
    "        x = self.fc3(x)        \n",
    "        return x\n",
    "net = Net()"
   ]
  },
  {
   "cell_type": "code",
   "execution_count": null,
   "id": "fe288b4a",
   "metadata": {},
   "outputs": [],
   "source": [
    "#整个测试集上预测\n",
    "correct = 0\n",
    "total = 0\n",
    " \n",
    "with torch.no_grad():\n",
    "    for (images,labels) in testloader:\n",
    "        images = images.to(device)\n",
    "        labels = labels.to(device)\n",
    "        outputs = net(images)\n",
    "        _, predicted = torch.max(outputs,1)\n",
    "        \n",
    "        total += labels.size(0)\n",
    "        correct += (predicted == labels).sum()\n",
    "\n",
    "        print('10000张测试集合中的准确率为：', (correct.cpu().numpy()/total * 100))\n",
    "print(correct)"
   ]
  }
 ],
 "metadata": {
  "kernelspec": {
   "display_name": "Python 3 (ipykernel)",
   "language": "python",
   "name": "python3"
  },
  "language_info": {
   "codemirror_mode": {
    "name": "ipython",
    "version": 3
   },
   "file_extension": ".py",
   "mimetype": "text/x-python",
   "name": "python",
   "nbconvert_exporter": "python",
   "pygments_lexer": "ipython3",
   "version": "3.7.0"
  }
 },
 "nbformat": 4,
 "nbformat_minor": 5
}

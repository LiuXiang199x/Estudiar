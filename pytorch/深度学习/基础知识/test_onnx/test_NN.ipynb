{
 "cells": [
  {
   "cell_type": "code",
   "execution_count": 11,
   "id": "badce649",
   "metadata": {},
   "outputs": [],
   "source": [
    "import torch\n",
    "import torchvision\n",
    "import onnx\n",
    "import torch.nn as nn\n",
    "import torch.nn.functional as F"
   ]
  },
  {
   "cell_type": "code",
   "execution_count": 13,
   "id": "5aed4995",
   "metadata": {},
   "outputs": [
    {
     "data": {
      "text/plain": [
       "<torch._C.Generator at 0x7fdee13e63b0>"
      ]
     },
     "execution_count": 13,
     "metadata": {},
     "output_type": "execute_result"
    }
   ],
   "source": [
    "torch.manual_seed(1)"
   ]
  },
  {
   "cell_type": "code",
   "execution_count": 29,
   "id": "0c62110f",
   "metadata": {},
   "outputs": [
    {
     "name": "stdout",
     "output_type": "stream",
     "text": [
      "Net(\n",
      "  (conv1): Conv2d(1, 6, kernel_size=(5, 5), stride=(1, 1))\n",
      "  (conv2): Conv2d(6, 16, kernel_size=(5, 5), stride=(1, 1))\n",
      "  (fc1): Linear(in_features=400, out_features=120, bias=True)\n",
      "  (fc2): Linear(in_features=120, out_features=84, bias=True)\n",
      "  (fc3): Linear(in_features=84, out_features=10, bias=True)\n",
      ")\n"
     ]
    }
   ],
   "source": [
    "class Net(nn.Module):\n",
    "    def __init__(self):\n",
    "        super(Net, self).__init__()\n",
    "        self.conv1 = nn.Conv2d(1, 6, 5)\n",
    "        self.conv2 = nn.Conv2d(6, 16, 5)\n",
    "        \n",
    "        self.fc1 = nn.Linear(16*5*5, 120)\n",
    "        self.fc2 = nn.Linear(120, 84)\n",
    "        self.fc3 = nn.Linear(84, 10)\n",
    "        \n",
    "    def forward(self, x):\n",
    "        x = F.max_pool2d(F.relu(self.conv1(x)), (2,2))\n",
    "        x = F.max_pool2d(F.relu(self.conv2(x)), 2)\n",
    "        x = x.view(-1, self.num_flat_features(x))\n",
    "        x = F.relu(self.fc1(x))\n",
    "        x = F.relu(self.fc2(x))\n",
    "        x = self.fc3(x)\n",
    "        return x\n",
    "    \n",
    "    def num_flat_features(self, x):\n",
    "        size = x.size()[1:]  # all dimensions except the batch dimension(批大小维度)\n",
    "        num_features = 1\n",
    "        for s in size:\n",
    "            num_features *= s\n",
    "        return num_features\n",
    "\n",
    "\n",
    "net = Net()\n",
    "print(net)"
   ]
  },
  {
   "cell_type": "code",
   "execution_count": 30,
   "id": "819109de",
   "metadata": {},
   "outputs": [
    {
     "name": "stdout",
     "output_type": "stream",
     "text": [
      "10\n",
      "<class 'torch.nn.parameter.Parameter'>\n",
      "第0个参数形状为torch.Size([6, 1, 5, 5])\n",
      "第1个参数形状为torch.Size([6])\n",
      "第2个参数形状为torch.Size([16, 6, 5, 5])\n",
      "第3个参数形状为torch.Size([16])\n",
      "第4个参数形状为torch.Size([120, 400])\n",
      "第5个参数形状为torch.Size([120])\n",
      "第6个参数形状为torch.Size([84, 120])\n",
      "第7个参数形状为torch.Size([84])\n",
      "第8个参数形状为torch.Size([10, 84])\n",
      "第9个参数形状为torch.Size([10])\n"
     ]
    }
   ],
   "source": [
    "params = list(net.parameters())\n",
    "print(len(params))\n",
    "print(type(params[0]))\n",
    "for i in range(10):\n",
    "    print(\"第{}个参数形状为{}\".format(i,params[i].size()))"
   ]
  },
  {
   "cell_type": "code",
   "execution_count": 35,
   "id": "a108e4b7",
   "metadata": {},
   "outputs": [
    {
     "name": "stdout",
     "output_type": "stream",
     "text": [
      "tensor([[[[-0.5325,  0.3985,  1.4077,  ...,  0.9968, -0.5491,  1.6251],\n",
      "          [ 1.3229,  0.7215,  1.4408,  ...,  1.9131, -0.3747, -1.1335],\n",
      "          [-0.1019, -1.8693,  0.0185,  ..., -0.9244, -0.7346,  0.7157],\n",
      "          ...,\n",
      "          [-0.1353,  1.8613,  0.6069,  ..., -1.3562, -1.3796,  0.8008],\n",
      "          [ 0.3595,  1.2930, -1.3521,  ...,  2.0284,  1.3408, -0.8612],\n",
      "          [ 0.2900,  1.9590,  1.9590,  ...,  0.5073,  0.6317,  0.1085]]]])\n",
      "conv1输出的形状： torch.Size([1, 6, 28, 28])\n",
      "输出层形状 torch.Size([1, 10])\n",
      "输出层结果： tensor([[-0.7075,  0.5646, -0.1979,  0.7789,  0.7454, -0.1606,  0.6437,  0.1402,\n",
      "         -0.2897, -0.2493]], grad_fn=<AddmmBackward>)\n"
     ]
    }
   ],
   "source": [
    "input = torch.randn(1, 1, 32, 32)\n",
    "print(input)\n",
    "print('conv1输出的形状：',net.conv1(input).size()) # conv1输出的形状\n",
    "\n",
    "out = net(input)\n",
    "print('输出层形状',out.size())\n",
    "print('输出层结果：',out)"
   ]
  },
  {
   "cell_type": "code",
   "execution_count": 36,
   "id": "6f7e6a3d",
   "metadata": {},
   "outputs": [
    {
     "name": "stdout",
     "output_type": "stream",
     "text": [
      "loss: tensor(1.4125, grad_fn=<MseLossBackward>)\n",
      "\n",
      "反向跟踪loss,使用它的.grad_fn属性,你会看到向下面这样的一个计算图:\n",
      "input -> conv2d -> relu -> maxpool2d -> conv2d -> relu -> maxpool2d -> view -> linear -> relu -> linear -> relu -> linear -> MSELoss -> loss\n",
      "<MseLossBackward object at 0x7fde68442ef0>\n",
      "<AddmmBackward object at 0x7fde68442080>\n",
      "<AccumulateGrad object at 0x7fde68442ef0>\n"
     ]
    }
   ],
   "source": [
    "output = net(input)\n",
    "target = torch.randn(10)  # a dummy target, for example\n",
    "target = target.view(1, -1)  # make it the same shape as output\n",
    "criterion = nn.MSELoss() \n",
    "\n",
    "\n",
    "loss = criterion(output, target)\n",
    "print('loss:',loss)\n",
    "print('''\n",
    "反向跟踪loss,使用它的.grad_fn属性,你会看到向下面这样的一个计算图:\n",
    "input -> conv2d -> relu -> maxpool2d -> conv2d -> relu -> maxpool2d -> view -> linear -> relu -> linear -> relu -> linear -> MSELoss -> loss''')\n",
    "print(loss.grad_fn)  # MSELoss\n",
    "print(loss.grad_fn.next_functions[0][0])  # Linear\n",
    "print(loss.grad_fn.next_functions[0][0].next_functions[0][0]) # ReLU"
   ]
  },
  {
   "cell_type": "code",
   "execution_count": 37,
   "id": "56a46fa0",
   "metadata": {},
   "outputs": [],
   "source": [
    "# 优化器\n",
    "optimizer = torch.optim.SGD(net.parameters(),lr=0.1)"
   ]
  },
  {
   "cell_type": "code",
   "execution_count": 44,
   "id": "28e941c0",
   "metadata": {},
   "outputs": [
    {
     "name": "stdout",
     "output_type": "stream",
     "text": [
      "tensor(0.0437, grad_fn=<MseLossBackward>)\n",
      "tensor(0.1659, grad_fn=<MseLossBackward>)\n",
      "tensor(0.0755, grad_fn=<MseLossBackward>)\n",
      "tensor(0.2684, grad_fn=<MseLossBackward>)\n",
      "tensor(0.0087, grad_fn=<MseLossBackward>)\n",
      "tensor(0.0294, grad_fn=<MseLossBackward>)\n",
      "tensor(0.0556, grad_fn=<MseLossBackward>)\n",
      "tensor(0.1909, grad_fn=<MseLossBackward>)\n",
      "tensor(0.0367, grad_fn=<MseLossBackward>)\n",
      "tensor(0.1223, grad_fn=<MseLossBackward>)\n"
     ]
    },
    {
     "name": "stderr",
     "output_type": "stream",
     "text": [
      "/home/xiang/anaconda3/envs/py37/lib/python3.7/site-packages/torch/serialization.py:360: UserWarning: Couldn't retrieve source code for container of type Net. It won't be checked for correctness upon loading.\n",
      "  \"type \" + obj.__name__ + \". It won't be checked \"\n"
     ]
    }
   ],
   "source": [
    "for epoch in range(10):\n",
    "    optimizer.zero_grad()   # zero the gradient buffers\n",
    "    output = net(input)\n",
    "    loss = criterion(output, target)\n",
    "    print(loss)\n",
    "    loss.backward()\n",
    "    optimizer.step()    # Does the update\n",
    "    \n",
    "torch.save(net, 'net.pth')  # 保存整个网络\n",
    "torch.save(net.state_dict(), 'net_params.pth')   # 只保存网络中的参数 (速度快, 占内存少)"
   ]
  },
  {
   "cell_type": "code",
   "execution_count": 45,
   "id": "17ecf228",
   "metadata": {},
   "outputs": [
    {
     "name": "stdout",
     "output_type": "stream",
     "text": [
      "tensor([[ 0.7437, -0.9348, -0.2768, -0.7745,  0.6113,  2.3297,  1.3693,  0.1077,\n",
      "          1.6619,  0.9809]], grad_fn=<AddmmBackward>)\n"
     ]
    }
   ],
   "source": [
    "input2 = torch.ones(1,1,32,32)\n",
    "print(net(input2))"
   ]
  },
  {
   "cell_type": "code",
   "execution_count": null,
   "id": "c00476f4",
   "metadata": {},
   "outputs": [],
   "source": []
  }
 ],
 "metadata": {
  "kernelspec": {
   "display_name": "Python 3 (ipykernel)",
   "language": "python",
   "name": "python3"
  },
  "language_info": {
   "codemirror_mode": {
    "name": "ipython",
    "version": 3
   },
   "file_extension": ".py",
   "mimetype": "text/x-python",
   "name": "python",
   "nbconvert_exporter": "python",
   "pygments_lexer": "ipython3",
   "version": "3.7.0"
  }
 },
 "nbformat": 4,
 "nbformat_minor": 5
}

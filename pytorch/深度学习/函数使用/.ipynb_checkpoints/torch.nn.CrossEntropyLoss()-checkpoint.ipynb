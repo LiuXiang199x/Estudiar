{
 "cells": [
  {
   "cell_type": "code",
   "execution_count": 1,
   "id": "1b57c1c9",
   "metadata": {},
   "outputs": [],
   "source": [
    "import torch\n",
    "import torch.nn as nn\n",
    "import torch.functional as F"
   ]
  },
  {
   "cell_type": "code",
   "execution_count": 8,
   "id": "ba380357",
   "metadata": {},
   "outputs": [
    {
     "name": "stdout",
     "output_type": "stream",
     "text": [
      "x_input: tensor([[ 0.1939, -1.0965, -0.3844],\n",
      "        [-1.0807,  0.6663, -0.1994],\n",
      "        [ 0.2883,  0.0492,  2.0788]])\n",
      "y_target: tensor([1, 2, 0])\n",
      "log_softmax_output: tensor([[-0.6076, -1.8980, -1.1859],\n",
      "        [-2.2139, -0.4669, -1.3326],\n",
      "        [-2.0515, -2.2906, -0.2610]])\n",
      "NLLLoss_output: tensor(1.7607)\n"
     ]
    },
    {
     "name": "stderr",
     "output_type": "stream",
     "text": [
      "/home/xiang/anaconda3/envs/pytorch_gpu/lib/python3.7/site-packages/ipykernel_launcher.py:8: UserWarning: Implicit dimension choice for softmax has been deprecated. Change the call to include dim=X as an argument.\n",
      "  \n"
     ]
    }
   ],
   "source": [
    "# softmax + log + NLLLoss\n",
    "x_input = torch.randn(3,3)\n",
    "y_target = torch.tensor([1,2,0])\n",
    "print('x_input:', x_input)\n",
    "print('y_target:', y_target)\n",
    "\n",
    "softmax = nn.Softmax()  # dim=1, default\n",
    "output1 = torch.log(softmax(x_input))\n",
    "print(\"log_softmax_output:\", output1)\n",
    "\n",
    "nllloss = nn.NLLLoss()\n",
    "output2 = nllloss(output1, y_target)\n",
    "print(\"NLLLoss_output:\", output2)"
   ]
  },
  {
   "cell_type": "code",
   "execution_count": 9,
   "id": "18fe31ae",
   "metadata": {},
   "outputs": [
    {
     "name": "stdout",
     "output_type": "stream",
     "text": [
      "CrossEntropyLoss_output: tensor(1.7607)\n"
     ]
    }
   ],
   "source": [
    "# 直接使用CrossEntropyLoss()\n",
    "crossentropyloss = nn.CrossEntropyLoss()\n",
    "output3 = crossentropyloss(x_input, y_target)\n",
    "print(\"CrossEntropyLoss_output:\", output3)"
   ]
  }
 ],
 "metadata": {
  "kernelspec": {
   "display_name": "Python 3 (ipykernel)",
   "language": "python",
   "name": "python3"
  },
  "language_info": {
   "codemirror_mode": {
    "name": "ipython",
    "version": 3
   },
   "file_extension": ".py",
   "mimetype": "text/x-python",
   "name": "python",
   "nbconvert_exporter": "python",
   "pygments_lexer": "ipython3",
   "version": "3.7.11"
  }
 },
 "nbformat": 4,
 "nbformat_minor": 5
}

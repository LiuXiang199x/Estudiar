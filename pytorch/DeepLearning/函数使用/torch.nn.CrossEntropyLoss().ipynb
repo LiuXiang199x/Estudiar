{
 "cells": [
  {
   "cell_type": "code",
   "execution_count": 1,
   "id": "1b57c1c9",
   "metadata": {},
   "outputs": [],
   "source": [
    "import torch\n",
    "import torch.nn as nn\n",
    "import torch.functional as F"
   ]
  },
  {
   "cell_type": "code",
   "execution_count": 2,
   "id": "ba380357",
   "metadata": {},
   "outputs": [
    {
     "name": "stdout",
     "output_type": "stream",
     "text": [
      "x_input: tensor([[-0.2678, -0.5112, -0.5859],\n",
      "        [ 0.1939, -0.7122, -0.9426],\n",
      "        [ 1.7665, -1.6362, -0.5112]])\n",
      "y_target: tensor([1, 2, 0])\n",
      "log_softmax_output: tensor([[-0.9209, -1.1643, -1.2390],\n",
      "        [-0.5452, -1.4514, -1.6818],\n",
      "        [-0.1273, -3.5300, -2.4050]])\n",
      "NLLLoss_output: tensor(0.9911)\n",
      "tensor([1.1643, 1.6818, 0.1273])\n"
     ]
    },
    {
     "name": "stderr",
     "output_type": "stream",
     "text": [
      "/home/xiang/anaconda3/envs/py37/lib/python3.7/site-packages/ipykernel_launcher.py:8: UserWarning: Implicit dimension choice for softmax has been deprecated. Change the call to include dim=X as an argument.\n",
      "  \n"
     ]
    }
   ],
   "source": [
    "# softmax + log + NLLLoss\n",
    "x_input = torch.randn(3,3)\n",
    "y_target = torch.tensor([1,2,0])\n",
    "print('x_input:', x_input)\n",
    "print('y_target:', y_target)\n",
    "\n",
    "softmax = nn.Softmax()  # dim=1, default\n",
    "output1 = torch.log(softmax(x_input))\n",
    "print(\"log_softmax_output:\", output1)\n",
    "  \n",
    "nllloss = nn.NLLLoss()   # 默认reduction = 'mean'\n",
    "nllloss2 = nn.NLLLoss(reduction='none') \n",
    "\n",
    "output2 = nllloss(output1, y_target)\n",
    "output22 = nllloss2(output1, y_target)\n",
    "print(\"NLLLoss_output:\", output2)\n",
    "print(output22)"
   ]
  },
  {
   "cell_type": "code",
   "execution_count": 3,
   "id": "18fe31ae",
   "metadata": {},
   "outputs": [
    {
     "name": "stdout",
     "output_type": "stream",
     "text": [
      "tensor([[ 1.1054,  0.0897, -0.2460],\n",
      "        [-0.5369, -1.8264,  0.6364],\n",
      "        [-0.3799, -1.2077,  0.9826]])\n",
      "tensor([1, 2, 0])\n",
      "CrossEntropyLoss_output: tensor(0.9911)\n",
      "tensor(1.1690)\n"
     ]
    }
   ],
   "source": [
    "# 直接使用CrossEntropyLoss()\n",
    "a = torch.randn(3,3)\n",
    "c = torch.tensor([1,2,0])\n",
    "print(a)\n",
    "print(c)\n",
    "crossentropyloss = nn.CrossEntropyLoss()\n",
    "output3 = crossentropyloss(x_input, y_target)\n",
    "print(\"CrossEntropyLoss_output:\", output3)\n",
    "print(crossentropyloss(a, c))"
   ]
  },
  {
   "cell_type": "code",
   "execution_count": null,
   "id": "de8f8bdd",
   "metadata": {},
   "outputs": [],
   "source": [
    "real = torch.tensor([[1/2],[1/4],[1/8],[1/8]])\n",
    "pred = torch.tensor([[1/4],[1/4],[1/4],[1/4]])\n",
    "print(real, pred)\n",
    "print(crossentropyloss(real, pred))"
   ]
  },
  {
   "cell_type": "code",
   "execution_count": null,
   "id": "e0392f2c",
   "metadata": {},
   "outputs": [],
   "source": []
  }
 ],
 "metadata": {
  "kernelspec": {
   "display_name": "Python 3 (ipykernel)",
   "language": "python",
   "name": "python3"
  },
  "language_info": {
   "codemirror_mode": {
    "name": "ipython",
    "version": 3
   },
   "file_extension": ".py",
   "mimetype": "text/x-python",
   "name": "python",
   "nbconvert_exporter": "python",
   "pygments_lexer": "ipython3",
   "version": "3.7.0"
  }
 },
 "nbformat": 4,
 "nbformat_minor": 5
}

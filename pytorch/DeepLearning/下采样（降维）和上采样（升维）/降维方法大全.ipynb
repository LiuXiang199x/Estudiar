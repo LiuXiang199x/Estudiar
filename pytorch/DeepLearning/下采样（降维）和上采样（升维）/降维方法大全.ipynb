{
 "cells": [
  {
   "cell_type": "code",
   "execution_count": 23,
   "id": "117c23c1",
   "metadata": {},
   "outputs": [],
   "source": [
    "from sklearn.impute import SimpleImputer\n",
    "import numpy as np\n",
    "import pandas as p\n",
    "from sklearn.feature_selection import VarianceThreshold\n",
    "from sklearn.preprocessing import StandardScaler"
   ]
  },
  {
   "cell_type": "code",
   "execution_count": 24,
   "id": "d4cac92f",
   "metadata": {},
   "outputs": [],
   "source": [
    "data = np.array([[1,2],[np.nan, 3], [7, np.nan]])"
   ]
  },
  {
   "cell_type": "code",
   "execution_count": 25,
   "id": "a61169c1",
   "metadata": {},
   "outputs": [
    {
     "name": "stdout",
     "output_type": "stream",
     "text": [
      "[[1.  2. ]\n",
      " [4.  3. ]\n",
      " [7.  2.5]]\n"
     ]
    },
    {
     "data": {
      "text/plain": [
       "'\\nmissing_values：int, float, str, (默认)np.nan或是None, 即缺失值是什么。\\nstrategy：空值填充的策略，共四种选择（默认）mean、median、most_frequent、constant。mean表示该列的缺失值由该列的均值填充。median为中位数，most_frequent为众数。constant表示将空值填充为自定义的值，但这个自定义的值要通过fill_value来定义。\\nfill_value：str或数值，默认为Zone。当strategy == \"constant\"时，fill_value被用来替换所有出现的缺失值（missing_values）。fill_value为Zone，当处理的是数值数据时，缺失值（missing_values）会替换为0，对于字符串或对象数据类型则替换为\"missing_value\" 这一字符串。\\nverbose：int，（默认）0，控制imputer的冗长。\\ncopy：boolean，（默认）True，表示对数据的副本进行处理，False对数据原地修改。\\nadd_indicator：boolean，（默认）False，True则会在数据后面加入n列由0和1构成的同样大小的数据，0表示所在位置非缺失值，1表示所在位置为缺失值。\\n'"
      ]
     },
     "execution_count": 25,
     "metadata": {},
     "output_type": "execute_result"
    }
   ],
   "source": [
    "# 1. 缺失值比率（Missing Value Ratio） \n",
    "# 缺失值填补的时候必须得是float类型\n",
    "# 缺失值要填充为np.nan，它是浮点型，strategy是填充的缺失值类型，这里填充平均数，axis代表轴，这里第0轴是列\n",
    "# 参数strategy有三个值可选：mean(平均值)，median(中位数)，most_frequent(众数)\n",
    "\n",
    "# 求得训练集X的均值/方差/最大值/最小值啊这些训练集X固有的属性。可理解为一个训练过程\n",
    "# 在Fit的基础上，进行标准化，降维，归一化等操作（看具体用的是哪个工具，如PCA，StandardScaler等）\n",
    "# 所以一定要先fit再transform。并且他们两个肯定都是跟在别的方法后面的！XXX.fit_tramsform()\n",
    "\n",
    "im = SimpleImputer(missing_values=np.nan, strategy='mean')\n",
    "data = im.fit_transform(data)\n",
    "print(data)\n",
    "\n",
    "\"\"\"\n",
    "missing_values：int, float, str, (默认)np.nan或是None, 即缺失值是什么。\n",
    "strategy：空值填充的策略，共四种选择（默认）mean、median、most_frequent、constant。mean表示该列的缺失值由该列的均值填充。median为中位数，most_frequent为众数。constant表示将空值填充为自定义的值，但这个自定义的值要通过fill_value来定义。\n",
    "fill_value：str或数值，默认为Zone。当strategy == \"constant\"时，fill_value被用来替换所有出现的缺失值（missing_values）。fill_value为Zone，当处理的是数值数据时，缺失值（missing_values）会替换为0，对于字符串或对象数据类型则替换为\"missing_value\" 这一字符串。\n",
    "verbose：int，（默认）0，控制imputer的冗长。\n",
    "copy：boolean，（默认）True，表示对数据的副本进行处理，False对数据原地修改。\n",
    "add_indicator：boolean，（默认）False，True则会在数据后面加入n列由0和1构成的同样大小的数据，0表示所在位置非缺失值，1表示所在位置为缺失值。\n",
    "\"\"\""
   ]
  },
  {
   "cell_type": "code",
   "execution_count": 51,
   "id": "0336a613",
   "metadata": {},
   "outputs": [],
   "source": [
    "# 2. 低方差滤波（Low Variance Filter）\n",
    "\n",
    "VT = VarianceThreshold(threshold=2)\n",
    "VT.fit_transform(data)\n",
    "\n",
    "data2 = np.array([[1,2],[np.nan, 3], [7, np.nan]])\n",
    "\n",
    "# 对行求，只要有nan肯定都是nan\n",
    "# print(np.mean(data[:0]))  # nan\n",
    "# print(np.mean(data[:1])) # 1.5\n",
    "# print(np.mean(data[:2]))   # 2.5\n",
    "# print(np.mean(data[:,0]))   # 4.0\n",
    "# print(np.mean(data[:,1]))   # 2.5\n",
    "# print('-------')\n",
    "# print(np.var(data[:,0]))  # 6.0\n",
    "# print(np.var(data[:,1]))   # 0.16666\n",
    "\n",
    "# print(data)\n",
    "# print(VT.fit_transform(data))  # 只保留了原数据的第一列（因为6>5）"
   ]
  },
  {
   "cell_type": "code",
   "execution_count": 53,
   "id": "a1653a63",
   "metadata": {},
   "outputs": [],
   "source": [
    "# 3. 高相关滤波（High Correlation filter）\n",
    "# 这个和2的区别是，2 是指一个特征内的所有数据，这个是指特征与特征之间的相关性很高"
   ]
  },
  {
   "cell_type": "code",
   "execution_count": 54,
   "id": "ce7eb0dc",
   "metadata": {},
   "outputs": [],
   "source": [
    "# 4. 随机森林（Random Forest）\n",
    "from sklearn.ensemble import RandomForestRegressor"
   ]
  },
  {
   "cell_type": "code",
   "execution_count": 55,
   "id": "62f0dd3c",
   "metadata": {},
   "outputs": [
    {
     "name": "stderr",
     "output_type": "stream",
     "text": [
      "/home/xiang/anaconda3/envs/pytorch_gpu/lib/python3.7/site-packages/sklearn/utils/validation.py:72: FutureWarning: Pass n_features_to_select=10 as keyword args. From version 1.0 (renaming of 0.25) passing these as positional arguments will result in an error\n",
      "  \"will result in an error\", FutureWarning)\n"
     ]
    },
    {
     "ename": "NameError",
     "evalue": "name 'df' is not defined",
     "output_type": "error",
     "traceback": [
      "\u001b[0;31m---------------------------------------------------------------------------\u001b[0m",
      "\u001b[0;31mNameError\u001b[0m                                 Traceback (most recent call last)",
      "\u001b[0;32m/tmp/ipykernel_4793/2941516278.py\u001b[0m in \u001b[0;36m<module>\u001b[0;34m\u001b[0m\n\u001b[1;32m      5\u001b[0m \u001b[0mlreg\u001b[0m \u001b[0;34m=\u001b[0m \u001b[0mLinearRegression\u001b[0m\u001b[0;34m(\u001b[0m\u001b[0;34m)\u001b[0m\u001b[0;34m\u001b[0m\u001b[0;34m\u001b[0m\u001b[0m\n\u001b[1;32m      6\u001b[0m \u001b[0mrfe\u001b[0m \u001b[0;34m=\u001b[0m \u001b[0mRFE\u001b[0m\u001b[0;34m(\u001b[0m\u001b[0mlreg\u001b[0m\u001b[0;34m,\u001b[0m \u001b[0;36m10\u001b[0m\u001b[0;34m)\u001b[0m\u001b[0;34m\u001b[0m\u001b[0;34m\u001b[0m\u001b[0m\n\u001b[0;32m----> 7\u001b[0;31m \u001b[0mrfe\u001b[0m \u001b[0;34m=\u001b[0m \u001b[0mrfe\u001b[0m\u001b[0;34m.\u001b[0m\u001b[0mfit_transform\u001b[0m\u001b[0;34m(\u001b[0m\u001b[0mdf\u001b[0m\u001b[0;34m,\u001b[0m \u001b[0mtrain\u001b[0m\u001b[0;34m.\u001b[0m\u001b[0mItem_Outlet_Sales\u001b[0m\u001b[0;34m)\u001b[0m\u001b[0;34m\u001b[0m\u001b[0;34m\u001b[0m\u001b[0m\n\u001b[0m",
      "\u001b[0;31mNameError\u001b[0m: name 'df' is not defined"
     ]
    }
   ],
   "source": [
    "# 5. 反向特征消除（Backward Feature Elimination）\n",
    "from sklearn.linear_model import LinearRegression\n",
    "from sklearn.feature_selection import RFE\n",
    "from sklearn import datasets\n",
    "lreg = LinearRegression()\n",
    "rfe = RFE(lreg, 10)\n",
    "rfe = rfe.fit_transform(df, train.Item_Outlet_Sales)\n"
   ]
  },
  {
   "cell_type": "code",
   "execution_count": 56,
   "id": "211cb348",
   "metadata": {},
   "outputs": [
    {
     "ename": "NameError",
     "evalue": "name 'df' is not defined",
     "output_type": "error",
     "traceback": [
      "\u001b[0;31m---------------------------------------------------------------------------\u001b[0m",
      "\u001b[0;31mNameError\u001b[0m                                 Traceback (most recent call last)",
      "\u001b[0;32m/tmp/ipykernel_4793/1395225836.py\u001b[0m in \u001b[0;36m<module>\u001b[0;34m\u001b[0m\n\u001b[1;32m      2\u001b[0m \u001b[0;34m\u001b[0m\u001b[0m\n\u001b[1;32m      3\u001b[0m \u001b[0;32mfrom\u001b[0m \u001b[0msklearn\u001b[0m\u001b[0;34m.\u001b[0m\u001b[0mfeature_selection\u001b[0m \u001b[0;32mimport\u001b[0m \u001b[0mf_regression\u001b[0m\u001b[0;34m\u001b[0m\u001b[0;34m\u001b[0m\u001b[0m\n\u001b[0;32m----> 4\u001b[0;31m \u001b[0mffs\u001b[0m \u001b[0;34m=\u001b[0m \u001b[0mf_regression\u001b[0m\u001b[0;34m(\u001b[0m\u001b[0mdf\u001b[0m\u001b[0;34m,\u001b[0m\u001b[0mtrain\u001b[0m\u001b[0;34m.\u001b[0m\u001b[0mItem_Outlet_Sales\u001b[0m \u001b[0;34m)\u001b[0m\u001b[0;34m\u001b[0m\u001b[0;34m\u001b[0m\u001b[0m\n\u001b[0m",
      "\u001b[0;31mNameError\u001b[0m: name 'df' is not defined"
     ]
    }
   ],
   "source": [
    "# 6. 前向特征选择（Forward Feature Selection）\n",
    "\n",
    "from sklearn.feature_selection import f_regression\n",
    "ffs = f_regression(df,train.Item_Outlet_Sales )"
   ]
  },
  {
   "cell_type": "code",
   "execution_count": null,
   "id": "13a0a28d",
   "metadata": {},
   "outputs": [],
   "source": [
    "# 7. 因子分析（Factor Analysis）\n",
    "\n",
    "from sklearn.decomposition import FactorAnalysis\n",
    "FA = FactorAnalysis(n_components = 3).fit_transform(df[feat_cols].values)"
   ]
  }
 ],
 "metadata": {
  "kernelspec": {
   "display_name": "Python 3 (ipykernel)",
   "language": "python",
   "name": "python3"
  },
  "language_info": {
   "codemirror_mode": {
    "name": "ipython",
    "version": 3
   },
   "file_extension": ".py",
   "mimetype": "text/x-python",
   "name": "python",
   "nbconvert_exporter": "python",
   "pygments_lexer": "ipython3",
   "version": "3.7.11"
  }
 },
 "nbformat": 4,
 "nbformat_minor": 5
}

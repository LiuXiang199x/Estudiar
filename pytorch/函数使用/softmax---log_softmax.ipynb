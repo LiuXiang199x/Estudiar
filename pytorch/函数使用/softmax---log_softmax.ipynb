{
 "cells": [
  {
   "cell_type": "code",
   "execution_count": 2,
   "id": "9cad1962",
   "metadata": {},
   "outputs": [],
   "source": [
    "import torch\n",
    "import torch.nn as nn\n",
    "import math"
   ]
  },
  {
   "cell_type": "code",
   "execution_count": 3,
   "id": "ee1fc4e6",
   "metadata": {},
   "outputs": [
    {
     "name": "stdout",
     "output_type": "stream",
     "text": [
      "tensor([[1., 2., 3.],\n",
      "        [4., 6., 8.]])\n",
      "torch.Size([2, 3])\n",
      "torch.FloatTensor\n"
     ]
    }
   ],
   "source": [
    "data=torch.FloatTensor([[1.0,2.0,3.0],[4.0,6.0,8.0]])\n",
    "print(data)\n",
    "print(data.shape)\n",
    "print(data.type())"
   ]
  },
  {
   "cell_type": "code",
   "execution_count": 4,
   "id": "ee7af42f",
   "metadata": {},
   "outputs": [
    {
     "name": "stdout",
     "output_type": "stream",
     "text": [
      "tensor([[0.0474, 0.0180, 0.0067],\n",
      "        [0.9526, 0.9820, 0.9933]])\n",
      "torch.Size([2, 3])\n",
      "torch.FloatTensor\n"
     ]
    }
   ],
   "source": [
    "prob = nn.Softmax(dim=0)  # dim=0: tensor[0][?][?]\n",
    "# dim = 0,在列上进行Softmax;dim=1,在行上进行Softmax\n",
    "print(prob(data))\n",
    "print(prob(data).shape)\n",
    "print(prob(data).type())"
   ]
  },
  {
   "cell_type": "code",
   "execution_count": 5,
   "id": "39b43cfe",
   "metadata": {},
   "outputs": [
    {
     "name": "stdout",
     "output_type": "stream",
     "text": [
      "0.04742587317756678\n",
      "0.9525741268224331\n"
     ]
    }
   ],
   "source": [
    "print(math.exp(1)/(math.exp(1)+math.exp(4)))\n",
    "print(math.exp(4)/(math.exp(1)+math.exp(4)))"
   ]
  },
  {
   "cell_type": "code",
   "execution_count": 6,
   "id": "a0be7f68",
   "metadata": {},
   "outputs": [
    {
     "name": "stdout",
     "output_type": "stream",
     "text": [
      "tensor([[-3.0486, -4.0181, -5.0067],\n",
      "        [-0.0486, -0.0181, -0.0067]])\n"
     ]
    }
   ],
   "source": [
    "# log-softmax就是再softmax上取对数\n",
    "print(torch.log(prob(data)))"
   ]
  },
  {
   "cell_type": "code",
   "execution_count": null,
   "id": "8a3fb363",
   "metadata": {},
   "outputs": [],
   "source": []
  }
 ],
 "metadata": {
  "kernelspec": {
   "display_name": "Python 3 (ipykernel)",
   "language": "python",
   "name": "python3"
  },
  "language_info": {
   "codemirror_mode": {
    "name": "ipython",
    "version": 3
   },
   "file_extension": ".py",
   "mimetype": "text/x-python",
   "name": "python",
   "nbconvert_exporter": "python",
   "pygments_lexer": "ipython3",
   "version": "3.7.11"
  }
 },
 "nbformat": 4,
 "nbformat_minor": 5
}

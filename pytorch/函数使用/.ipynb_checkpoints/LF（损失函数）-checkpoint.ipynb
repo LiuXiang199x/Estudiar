{
 "cells": [
  {
   "cell_type": "code",
   "execution_count": 2,
   "id": "3075f460",
   "metadata": {},
   "outputs": [],
   "source": [
    "import torch\n",
    "import torch.nn as nn"
   ]
  },
  {
   "cell_type": "code",
   "execution_count": 19,
   "id": "892e5ecf",
   "metadata": {},
   "outputs": [
    {
     "name": "stdout",
     "output_type": "stream",
     "text": [
      "Cross Entropy Loss:\n",
      "  tensor([1.3133, 0.1269, 0.1269]) tensor(1.5671) tensor(0.5224)\n"
     ]
    }
   ],
   "source": [
    "# CrossEntropyLoss\n",
    "# 构建虚拟数据 batch_size=3即3个样本\n",
    "inputs = torch.tensor([[1, 2], [1, 3], [1, 3]], dtype=torch.float)\n",
    "# 设置标签、类型为长整型，第1个样本为第0类，第2、3个样本为第1类，注意类别数class是从0算起的\n",
    "target = torch.tensor([0, 1, 1], dtype=torch.long)\n",
    "\n",
    "# 通过nn.CrossEntropyLoss构造损失函数，观察3种reduction模式下Loss计算\n",
    "# ------------------- CrossEntropy loss: reduction ---------------------\n",
    "# flag = 0\n",
    "# def loss function\n",
    "loss_f_none = nn.CrossEntropyLoss(weight=None, reduction='none')  # 维度上不衰减，有3个样本就有3个Loss\n",
    "loss_f_sum = nn.CrossEntropyLoss(weight=None, reduction='sum')   # 求和模式：把所有样本的Loss加起来\n",
    "loss_f_mean = nn.CrossEntropyLoss(weight=None, reduction='mean')   # 默认模式-均分\n",
    "\n",
    "# forward\n",
    "loss_none = loss_f_none(inputs, target)\n",
    "loss_sum = loss_f_sum(inputs, target)\n",
    "loss_mean = loss_f_mean(inputs, target)\n",
    "\n",
    "# view\n",
    "print(\"Cross Entropy Loss:\\n \", loss_none, loss_sum, loss_mean)"
   ]
  },
  {
   "cell_type": "code",
   "execution_count": 20,
   "id": "7c7d3db8",
   "metadata": {},
   "outputs": [
    {
     "name": "stdout",
     "output_type": "stream",
     "text": [
      "\n",
      "weights:  tensor([1., 2.])\n",
      "tensor([1.3133, 0.2539, 0.2539]) tensor(1.8210) tensor(0.3642)\n"
     ]
    }
   ],
   "source": [
    "# def loss function\n",
    "# weight设置时需要注意是“向量形式”，有多少个类别就需要设置多长的向量，每个类别都需要设置weight,不想关注的类别可以设置为1.设置weight,不需要关注尺度，只需要关注各类别之间的比例。\n",
    "# 设置第0类权重为1，第1类权重为2\n",
    "weights = torch.tensor([1, 2], dtype=torch.float)\n",
    "# weights = torch.tensor([0.7, 0.3], dtype=torch.float)\n",
    "\n",
    "loss_f_none_w = nn.CrossEntropyLoss(weight=weights, reduction='none')\n",
    "loss_f_sum = nn.CrossEntropyLoss(weight=weights, reduction='sum')\n",
    "loss_f_mean = nn.CrossEntropyLoss(weight=weights, reduction='mean')\n",
    "\n",
    "# forward\n",
    "loss_none_w = loss_f_none_w(inputs, target)\n",
    "loss_sum = loss_f_sum(inputs, target)\n",
    "loss_mean = loss_f_mean(inputs, target)\n",
    "\n",
    "# view\n",
    "print(\"\\nweights: \", weights)\n",
    "print(loss_none_w, loss_sum, loss_mean)"
   ]
  },
  {
   "cell_type": "code",
   "execution_count": 18,
   "id": "5616db00",
   "metadata": {},
   "outputs": [
    {
     "name": "stdout",
     "output_type": "stream",
     "text": [
      "tensor([-1.0353,  0.1327,  0.2523]) tensor([1., 1., 0.])\n",
      "tensor(1.0516)\n",
      "tensor(1.0516)\n"
     ]
    }
   ],
   "source": [
    "# loss中都是 prediction在前，target在后\n",
    "# L1Loss(), 绝对值误差\n",
    "\n",
    "x = torch.randn(3)\n",
    "y = torch.tensor([1., 1., 0.])\n",
    "print(x, y)\n",
    "l1loss = nn.L1Loss()\n",
    "a = 0\n",
    "print(l1loss(x, y))\n",
    "for i in range(len(x)):\n",
    "    a += abs(x[i]-y[i])\n",
    "print(a/3)"
   ]
  },
  {
   "cell_type": "code",
   "execution_count": 16,
   "id": "82f5f9ac",
   "metadata": {},
   "outputs": [
    {
     "name": "stdout",
     "output_type": "stream",
     "text": [
      "tensor([ 1.2172, -0.0708,  0.3886]) tensor([1., 1., 0.])\n",
      "tensor(0.4483)\n",
      "tensor(0.4483)\n"
     ]
    }
   ],
   "source": [
    "# loss中都是 prediction在前，target在后\n",
    "# MSELoss:平方损失的平均值()\n",
    "x = torch.randn(3)\n",
    "y = torch.tensor([1., 1., 0.])\n",
    "print(x, y)\n",
    "mseloss = nn.MSELoss()   # loss 是prediction和target之间的关系\n",
    "print(mseloss(x, y))\n",
    "a = 0\n",
    "for i in range(len(x)):\n",
    "    a += (y[i]-x[i])**2\n",
    "print(a/3)"
   ]
  },
  {
   "cell_type": "code",
   "execution_count": 21,
   "id": "92666db0",
   "metadata": {},
   "outputs": [],
   "source": [
    "# NLLLoss()"
   ]
  },
  {
   "cell_type": "code",
   "execution_count": null,
   "id": "a94e75b4",
   "metadata": {},
   "outputs": [],
   "source": [
    "# BCELoss():二分类，多分类都可以，其实就是多分类！！！输出在[0, 1]\n"
   ]
  }
 ],
 "metadata": {
  "kernelspec": {
   "display_name": "Python 3 (ipykernel)",
   "language": "python",
   "name": "python3"
  },
  "language_info": {
   "codemirror_mode": {
    "name": "ipython",
    "version": 3
   },
   "file_extension": ".py",
   "mimetype": "text/x-python",
   "name": "python",
   "nbconvert_exporter": "python",
   "pygments_lexer": "ipython3",
   "version": "3.7.11"
  }
 },
 "nbformat": 4,
 "nbformat_minor": 5
}

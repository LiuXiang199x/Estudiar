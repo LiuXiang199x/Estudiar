{
 "cells": [
  {
   "cell_type": "code",
   "execution_count": 2,
   "id": "aee5d1a6",
   "metadata": {},
   "outputs": [],
   "source": [
    "import torch\n",
    "import torch.nn as nn"
   ]
  },
  {
   "cell_type": "code",
   "execution_count": 3,
   "id": "fafa2df6",
   "metadata": {},
   "outputs": [
    {
     "name": "stdout",
     "output_type": "stream",
     "text": [
      "tensor([[ 0.3505, -0.2069, -0.6223],\n",
      "        [-0.1869, -0.7892,  0.2590],\n",
      "        [ 0.8319,  0.5871, -0.2757]])\n"
     ]
    }
   ],
   "source": [
    "# 在图片单标签分类时，输入m张图片，输出一个m*N的Tensor，其中N是分类个数。\n",
    "# 比如输入3张图片，分三类，最后的输出是一个3*3的Tensor\n",
    "\n",
    "input = torch.randn(3,3)\n",
    "print(input)\n",
    "# 一二三行是第1第2第3张图片的输出结果！\n",
    "# 假设顺序为：猫，狗，猪。可以看出三个分别应该是：猫，猪，猫"
   ]
  },
  {
   "cell_type": "code",
   "execution_count": 4,
   "id": "69569ede",
   "metadata": {},
   "outputs": [
    {
     "name": "stdout",
     "output_type": "stream",
     "text": [
      "tensor([[0.5126, 0.2936, 0.1938],\n",
      "        [0.3216, 0.1761, 0.5023],\n",
      "        [0.4732, 0.3705, 0.1563]])\n",
      "----log_softmax----\n",
      "tensor([[-0.6682, -1.2256, -1.6410],\n",
      "        [-1.1344, -1.7367, -0.6886],\n",
      "        [-0.7482, -0.9930, -1.8558]])\n"
     ]
    }
   ],
   "source": [
    "sm = nn.Softmax(dim=1)  # dim =1，按行来归一化，每行的和为1\n",
    "print(sm(input))  # 三个结果对应的类别海斯猫狗狗\n",
    "print(\"----log_softmax----\")\n",
    "print(torch.log(sm(input)))"
   ]
  },
  {
   "cell_type": "code",
   "execution_count": 7,
   "id": "763f2705",
   "metadata": {},
   "outputs": [
    {
     "name": "stdout",
     "output_type": "stream",
     "text": [
      "----------NLLLoss----------\n",
      "---把上面输出与真实label对应的那个值拿出来，再去掉符号负号再求均值---\n",
      "tensor(0.7832)\n"
     ]
    }
   ],
   "source": [
    "print(\"----------NLLLoss----------\")\n",
    "print(\"---把上面输出与真实label对应的那个值拿出来，再去掉符号负号再求均值---\")\n",
    "target = torch.tensor([0, 2, 1])  # 第一个：猫，第二个：猪，第三个：狗\n",
    "# 明显猜对了两个\n",
    "output = (-torch.log(sm(input))[0][0]-torch.log(sm(input))[1][2]-torch.log(sm(input))[2][1])/3\n",
    "print(output)"
   ]
  },
  {
   "cell_type": "code",
   "execution_count": 8,
   "id": "c3495580",
   "metadata": {},
   "outputs": [
    {
     "name": "stdout",
     "output_type": "stream",
     "text": [
      "确保input没有改变,怕inplace操作：\n",
      " tensor([[ 0.3505, -0.2069, -0.6223],\n",
      "        [-0.1869, -0.7892,  0.2590],\n",
      "        [ 0.8319,  0.5871, -0.2757]])\n",
      "tensor(0.7832)\n"
     ]
    }
   ],
   "source": [
    "# CrossEntropyLoss 检验\n",
    "crossentropuloss = nn.CrossEntropyLoss()\n",
    "print(\"确保input没有改变,怕inplace操作：\\n\", input)\n",
    "print(crossentropuloss(input, target))"
   ]
  },
  {
   "cell_type": "code",
   "execution_count": null,
   "id": "057171b2",
   "metadata": {},
   "outputs": [],
   "source": []
  }
 ],
 "metadata": {
  "kernelspec": {
   "display_name": "Python 3 (ipykernel)",
   "language": "python",
   "name": "python3"
  },
  "language_info": {
   "codemirror_mode": {
    "name": "ipython",
    "version": 3
   },
   "file_extension": ".py",
   "mimetype": "text/x-python",
   "name": "python",
   "nbconvert_exporter": "python",
   "pygments_lexer": "ipython3",
   "version": "3.7.0"
  }
 },
 "nbformat": 4,
 "nbformat_minor": 5
}

{
 "cells": [
  {
   "cell_type": "code",
   "execution_count": 2,
   "id": "2aec117e",
   "metadata": {},
   "outputs": [],
   "source": [
    "import torch\n",
    "import torchvision\n",
    "import torch.nn as nn\n",
    "import torch.nn.functional as F"
   ]
  },
  {
   "cell_type": "code",
   "execution_count": 6,
   "id": "f78dc09c",
   "metadata": {},
   "outputs": [
    {
     "name": "stdout",
     "output_type": "stream",
     "text": [
      "torch.Size([1, 1, 4, 4])\n",
      "torch.Size([1, 20, 20, 2])\n",
      "torch.Size([1, 1, 20, 20])\n"
     ]
    },
    {
     "name": "stderr",
     "output_type": "stream",
     "text": [
      "/home/xiang/anaconda3/envs/py37/lib/python3.7/site-packages/torch/nn/functional.py:2705: UserWarning: Default grid_sample and affine_grid behavior has changed to align_corners=False since 1.3.0. Please specify align_corners=True if the old behavior is desired. See the documentation of grid_sample for details.\n",
      "  warnings.warn(\"Default grid_sample and affine_grid behavior has changed \"\n"
     ]
    }
   ],
   "source": [
    "inp = torch.ones(1, 1, 4, 4)\n",
    "\n",
    "# 目的是得到一个 长宽为20的tensor\n",
    "out_h = 20\n",
    "out_w = 20\n",
    "\n",
    "# grid的生成方式等价于用mesh_grid\n",
    "new_h = torch.linspace(-1, 1, out_h).view(-1, 1).repeat(1, out_w)\n",
    "new_w = torch.linspace(-1, 1, out_w).repeat(out_h, 1)\n",
    "grid = torch.cat((new_h.unsqueeze(2), new_w.unsqueeze(2)), dim=2)\n",
    "grid = grid.unsqueeze(0)\n",
    "\n",
    "print(inp.size())\n",
    "print(grid.size())\n",
    "outp = F.grid_sample(inp, grid=grid, mode='bilinear')\n",
    "print(outp.shape)  #torch.Size([1, 1, 20, 20])"
   ]
  },
  {
   "cell_type": "code",
   "execution_count": null,
   "id": "80ae985f",
   "metadata": {},
   "outputs": [],
   "source": []
  }
 ],
 "metadata": {
  "kernelspec": {
   "display_name": "Python 3 (ipykernel)",
   "language": "python",
   "name": "python3"
  },
  "language_info": {
   "codemirror_mode": {
    "name": "ipython",
    "version": 3
   },
   "file_extension": ".py",
   "mimetype": "text/x-python",
   "name": "python",
   "nbconvert_exporter": "python",
   "pygments_lexer": "ipython3",
   "version": "3.7.0"
  }
 },
 "nbformat": 4,
 "nbformat_minor": 5
}

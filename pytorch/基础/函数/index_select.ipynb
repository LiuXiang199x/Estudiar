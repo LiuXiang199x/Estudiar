{
 "cells": [
  {
   "cell_type": "code",
   "execution_count": 1,
   "id": "707a711c",
   "metadata": {},
   "outputs": [],
   "source": [
    "import torch\n",
    "import torchvision\n"
   ]
  },
  {
   "cell_type": "code",
   "execution_count": 32,
   "id": "d74884d0",
   "metadata": {},
   "outputs": [
    {
     "name": "stdout",
     "output_type": "stream",
     "text": [
      "tensor([[[[-0.3601,  0.4515,  0.6755, -0.6906],\n",
      "          [ 0.1369,  0.9897, -0.8092, -0.0785],\n",
      "          [ 0.6795,  0.0533, -0.2217, -0.0926]]]])\n",
      "tensor([0, 1, 2])\n",
      "tensor([0., 1., 2.])\n",
      "tensor([[0., 0., 0.],\n",
      "        [0., 0., 0.],\n",
      "        [0., 0., 0.]])\n"
     ]
    },
    {
     "ename": "RuntimeError",
     "evalue": "Expected object of scalar type Long but got scalar type Float for argument #3 'index' in call to _th_index_select",
     "output_type": "error",
     "traceback": [
      "\u001b[0;31m---------------------------------------------------------------------------\u001b[0m",
      "\u001b[0;31mRuntimeError\u001b[0m                              Traceback (most recent call last)",
      "\u001b[0;32m/tmp/ipykernel_77877/241258831.py\u001b[0m in \u001b[0;36m<module>\u001b[0;34m\u001b[0m\n\u001b[1;32m      6\u001b[0m \u001b[0mprint\u001b[0m\u001b[0;34m(\u001b[0m\u001b[0mindex2\u001b[0m\u001b[0;34m)\u001b[0m\u001b[0;34m\u001b[0m\u001b[0m\n\u001b[1;32m      7\u001b[0m \u001b[0mprint\u001b[0m\u001b[0;34m(\u001b[0m\u001b[0mtorch\u001b[0m\u001b[0;34m.\u001b[0m\u001b[0mzeros\u001b[0m\u001b[0;34m(\u001b[0m\u001b[0;36m3\u001b[0m\u001b[0;34m,\u001b[0m\u001b[0;36m3\u001b[0m\u001b[0;34m)\u001b[0m\u001b[0;34m)\u001b[0m\u001b[0;34m\u001b[0m\u001b[0m\n\u001b[0;32m----> 8\u001b[0;31m \u001b[0mz\u001b[0m \u001b[0;34m=\u001b[0m \u001b[0mtorch\u001b[0m\u001b[0;34m.\u001b[0m\u001b[0mindex_select\u001b[0m\u001b[0;34m(\u001b[0m\u001b[0ma\u001b[0m\u001b[0;34m[\u001b[0m\u001b[0;36m0\u001b[0m\u001b[0;34m]\u001b[0m\u001b[0;34m[\u001b[0m\u001b[0;36m0\u001b[0m\u001b[0;34m]\u001b[0m\u001b[0;34m,\u001b[0m \u001b[0;36m1\u001b[0m\u001b[0;34m,\u001b[0m \u001b[0mindex2\u001b[0m\u001b[0;34m)\u001b[0m\u001b[0;34m\u001b[0m\u001b[0m\n\u001b[0m\u001b[1;32m      9\u001b[0m \u001b[0mprint\u001b[0m\u001b[0;34m(\u001b[0m\u001b[0mz\u001b[0m\u001b[0;34m)\u001b[0m\u001b[0;34m\u001b[0m\u001b[0m\n\u001b[1;32m     10\u001b[0m \u001b[0mprint\u001b[0m\u001b[0;34m(\u001b[0m\u001b[0ma\u001b[0m\u001b[0;34m)\u001b[0m\u001b[0;34m\u001b[0m\u001b[0m\n",
      "\u001b[0;31mRuntimeError\u001b[0m: Expected object of scalar type Long but got scalar type Float for argument #3 'index' in call to _th_index_select"
     ]
    }
   ],
   "source": [
    "a = torch.randn(1,1,3,4)\n",
    "print(a)\n",
    "index = torch.tensor([0, 1, 2])\n",
    "print(index)\n",
    "index2 = torch.linspace(0,2,3)\n",
    "print(index2)\n",
    "print(torch.zeros(3,3))\n",
    "z = torch.index_select(a[0][0], 1, index2)\n",
    "print(z)\n",
    "print(a)"
   ]
  },
  {
   "cell_type": "code",
   "execution_count": 4,
   "id": "2cb83be7",
   "metadata": {},
   "outputs": [
    {
     "name": "stdout",
     "output_type": "stream",
     "text": [
      "tensor([0.0000, 0.5000, 1.0000])\n",
      "tensor(2)\n",
      "tensor([2.0000, 2.5000, 3.0000])\n"
     ]
    }
   ],
   "source": [
    "q = torch.linspace(0, 1, 3)\n",
    "print(q)\n",
    "qq = torch.tensor(2)\n",
    "print(qq)\n",
    "print(q+qq)"
   ]
  },
  {
   "cell_type": "code",
   "execution_count": 44,
   "id": "c27d1999",
   "metadata": {},
   "outputs": [
    {
     "name": "stdout",
     "output_type": "stream",
     "text": [
      "[-120, -119, -118, -117, -116, -115, -114, -113, -112, -111, -110, -109, -108, -107, -106, -105, -104, -103, -102, -101, -100, -99, -98, -97, -96, -95, -94, -93, -92, -91, -90, -89, -88, -87, -86, -85, -84, -83, -82, -81, -80, -79, -78, -77, -76, -75, -74, -73, -72, -71, -70, -69, -68, -67, -66, -65, -64, -63, -62, -61, -60, -59, -58, -57, -56, -55, -54, -53, -52, -51, -50, -49, -48, -47, -46, -45, -44, -43, -42, -41, -40, -39, -38, -37, -36, -35, -34, -33, -32, -31, -30, -29, -28, -27, -26, -25, -24, -23, -22, -21, -20, -19, -18, -17, -16, -15, -14, -13, -12, -11, -10, -9, -8, -7, -6, -5, -4, -3, -2, -1, 0, 1, 2, 3, 4, 5, 6, 7, 8, 9, 10, 11, 12, 13, 14, 15, 16, 17, 18, 19, 20, 21, 22, 23, 24, 25, 26, 27, 28, 29, 30, 31, 32, 33, 34, 35, 36, 37, 38, 39, 40, 41, 42, 43, 44, 45, 46, 47, 48, 49, 50, 51, 52, 53, 54, 55, 56, 57, 58, 59, 60, 61, 62, 63, 64, 65, 66, 67, 68, 69, 70, 71, 72, 73, 74, 75, 76, 77, 78, 79, 80, 81, 82, 83, 84, 85, 86, 87, 88, 89, 90, 91, 92, 93, 94, 95, 96, 97, 98, 99, 100, 101, 102, 103, 104, 105, 106, 107, 108, 109, 110, 111, 112, 113, 114, 115, 116, 117, 118, 119, 120]\n"
     ]
    }
   ],
   "source": [
    "a = [-120., -119., -118., -117., -116., -115., -114., -113., -112., -111.,\n",
    "        -110., -109., -108., -107., -106., -105., -104., -103., -102., -101.,\n",
    "        -100.,  -99.,  -98.,  -97.,  -96.,  -95.,  -94.,  -93.,  -92.,  -91.,\n",
    "         -90.,  -89.,  -88.,  -87.,  -86.,  -85.,  -84.,  -83.,  -82.,  -81.,\n",
    "         -80.,  -79.,  -78.,  -77.,  -76.,  -75.,  -74.,  -73.,  -72.,  -71.,\n",
    "         -70.,  -69.,  -68.,  -67.,  -66.,  -65.,  -64.,  -63.,  -62.,  -61.,\n",
    "         -60.,  -59.,  -58.,  -57.,  -56.,  -55.,  -54.,  -53.,  -52.,  -51.,\n",
    "         -50.,  -49.,  -48.,  -47.,  -46.,  -45.,  -44.,  -43.,  -42.,  -41.,\n",
    "         -40.,  -39.,  -38.,  -37.,  -36.,  -35.,  -34.,  -33.,  -32.,  -31.,\n",
    "         -30.,  -29.,  -28.,  -27.,  -26.,  -25.,  -24.,  -23.,  -22.,  -21.,\n",
    "         -20.,  -19.,  -18.,  -17.,  -16.,  -15.,  -14.,  -13.,  -12.,  -11.,\n",
    "         -10.,   -9.,   -8.,   -7.,   -6.,   -5.,   -4.,   -3.,   -2.,   -1.,\n",
    "           0.,    1.,    2.,    3.,    4.,    5.,    6.,    7.,    8.,    9.,\n",
    "          10.,   11.,   12.,   13.,   14.,   15.,   16.,   17.,   18.,   19.,\n",
    "          20.,   21.,   22.,   23.,   24.,   25.,   26.,   27.,   28.,   29.,\n",
    "          30.,   31.,   32.,   33.,   34.,   35.,   36.,   37.,   38.,   39.,\n",
    "          40.,   41.,   42.,   43.,   44.,   45.,   46.,   47.,   48.,   49.,\n",
    "          50.,   51.,   52.,   53.,   54.,   55.,   56.,   57.,   58.,   59.,\n",
    "          60.,   61.,   62.,   63.,   64.,   65.,   66.,   67.,   68.,   69.,\n",
    "          70.,   71.,   72.,   73.,   74.,   75.,   76.,   77.,   78.,   79.,\n",
    "          80.,   81.,   82.,   83.,   84.,   85.,   86.,   87.,   88.,   89.,\n",
    "          90.,   91.,   92.,   93.,   94.,   95.,   96.,   97.,   98.,   99.,\n",
    "         100.,  101.,  102.,  103.,  104.,  105.,  106.,  107.,  108.,  109.,\n",
    "         110.,  111.,  112.,  113.,  114.,  115.,  116.,  117.,  118.,  119.,\n",
    "         120.]\n",
    "for i in range(len(a)):\n",
    "    a[i] = int(a[i])\n",
    "print(a)"
   ]
  },
  {
   "cell_type": "code",
   "execution_count": 46,
   "id": "c8102b4e",
   "metadata": {},
   "outputs": [
    {
     "name": "stdout",
     "output_type": "stream",
     "text": [
      "tensor([[-0.6012, -1.6227,  1.8559, -0.1560, -0.4771],\n",
      "        [ 2.4213, -0.3756,  0.5464, -0.3050, -0.1439],\n",
      "        [-0.1902, -0.8990,  1.5535, -0.4535, -1.1975],\n",
      "        [ 0.7534,  0.6907, -0.6147,  0.2393,  1.1008],\n",
      "        [-0.6413, -0.5303,  0.0390,  0.9798, -0.7826]])\n",
      "tensor([[-0.6012, -1.6227,  1.8559],\n",
      "        [ 2.4213, -0.3756,  0.5464],\n",
      "        [-0.1902, -0.8990,  1.5535],\n",
      "        [ 0.7534,  0.6907, -0.6147],\n",
      "        [-0.6413, -0.5303,  0.0390]])\n"
     ]
    }
   ],
   "source": [
    "a = [0,1,2]\n",
    "b = torch.randn(5,5)\n",
    "print(b)\n",
    "print(torch.index_select(b, 1, torch.tensor(a)))"
   ]
  },
  {
   "cell_type": "code",
   "execution_count": 53,
   "id": "0c697a7d",
   "metadata": {},
   "outputs": [
    {
     "name": "stdout",
     "output_type": "stream",
     "text": [
      "tensor([[[ 0.0000,  0.0000],\n",
      "         [ 0.0000,  0.0000]],\n",
      "\n",
      "        [[ 1.0000,  1.0000],\n",
      "         [ 1.0000,  1.0000]],\n",
      "\n",
      "        [[-0.2272,  0.3866],\n",
      "         [ 0.2842,  0.2024]]])\n",
      "torch.Size([2, 2, 2])\n",
      "tensor([[0., 0.],\n",
      "        [0., 0.]])\n",
      "tensor([[1., 1.],\n",
      "        [1., 1.]])\n"
     ]
    }
   ],
   "source": [
    "a = torch.zeros(2,2)\n",
    "b = torch.ones(2,2)\n",
    "c = torch.randn(2,2)\n",
    "print(torch.cat((torch.unsqueeze(a,0),torch.unsqueeze(b,0),torch.unsqueeze(c,0)),0))\n",
    "x = torch.cat((torch.unsqueeze(a,0),torch.unsqueeze(b,0)),0)\n",
    "print(x.size())\n",
    "print(a)\n",
    "print(b)"
   ]
  },
  {
   "cell_type": "code",
   "execution_count": 50,
   "id": "6838f880",
   "metadata": {},
   "outputs": [
    {
     "name": "stdout",
     "output_type": "stream",
     "text": [
      "tensor([[-0.4387, -1.0187],\n",
      "        [ 0.0452, -1.4667]])\n",
      "torch.Size([2, 2])\n",
      "tensor([[[-0.4387, -1.0187],\n",
      "         [ 0.0452, -1.4667]]])\n",
      "torch.Size([1, 2, 2])\n"
     ]
    }
   ],
   "source": [
    "c = torch.randn(2,2)\n",
    "print(c)\n",
    "print(c.size())\n",
    "f = torch.unsqueeze(c,0)\n",
    "print(f)\n",
    "print(f.size())"
   ]
  },
  {
   "cell_type": "code",
   "execution_count": 58,
   "id": "76d5d2b4",
   "metadata": {},
   "outputs": [
    {
     "name": "stdout",
     "output_type": "stream",
     "text": [
      "tensor([[[[0.]]]])\n",
      "tensor([[ 0.0855,  1.4844],\n",
      "        [-0.0633, -0.4544]])\n"
     ]
    },
    {
     "ename": "RuntimeError",
     "evalue": "invalid argument 0: Tensors must have same number of dimensions: got 3 and 2 at /tmp/pip-req-build-ufslq_a9/aten/src/TH/generic/THTensor.cpp:603",
     "output_type": "error",
     "traceback": [
      "\u001b[0;31m---------------------------------------------------------------------------\u001b[0m",
      "\u001b[0;31mRuntimeError\u001b[0m                              Traceback (most recent call last)",
      "\u001b[0;32m/tmp/ipykernel_77877/3554449250.py\u001b[0m in \u001b[0;36m<module>\u001b[0;34m\u001b[0m\n\u001b[1;32m      3\u001b[0m \u001b[0mc\u001b[0m \u001b[0;34m=\u001b[0m \u001b[0mtorch\u001b[0m\u001b[0;34m.\u001b[0m\u001b[0mrandn\u001b[0m\u001b[0;34m(\u001b[0m\u001b[0;36m2\u001b[0m\u001b[0;34m,\u001b[0m\u001b[0;36m2\u001b[0m\u001b[0;34m)\u001b[0m\u001b[0;34m\u001b[0m\u001b[0m\n\u001b[1;32m      4\u001b[0m \u001b[0mprint\u001b[0m\u001b[0;34m(\u001b[0m\u001b[0mc\u001b[0m\u001b[0;34m)\u001b[0m\u001b[0;34m\u001b[0m\u001b[0m\n\u001b[0;32m----> 5\u001b[0;31m \u001b[0md\u001b[0m \u001b[0;34m=\u001b[0m \u001b[0mtorch\u001b[0m\u001b[0;34m.\u001b[0m\u001b[0mcat\u001b[0m\u001b[0;34m(\u001b[0m\u001b[0;34m(\u001b[0m\u001b[0ma\u001b[0m\u001b[0;34m[\u001b[0m\u001b[0;36m0\u001b[0m\u001b[0;34m]\u001b[0m\u001b[0;34m,\u001b[0m\u001b[0mc\u001b[0m\u001b[0;34m)\u001b[0m\u001b[0;34m,\u001b[0m \u001b[0;36m0\u001b[0m\u001b[0;34m)\u001b[0m\u001b[0;34m\u001b[0m\u001b[0m\n\u001b[0m\u001b[1;32m      6\u001b[0m \u001b[0mprint\u001b[0m\u001b[0;34m(\u001b[0m\u001b[0md\u001b[0m\u001b[0;34m)\u001b[0m\u001b[0;34m\u001b[0m\u001b[0m\n",
      "\u001b[0;31mRuntimeError\u001b[0m: invalid argument 0: Tensors must have same number of dimensions: got 3 and 2 at /tmp/pip-req-build-ufslq_a9/aten/src/TH/generic/THTensor.cpp:603"
     ]
    }
   ],
   "source": [
    "a = torch.zeros(1,1,1,1)\n",
    "print(a)\n",
    "c = torch.randn(2,2)\n",
    "print(c)\n",
    "d = torch.cat((a[0],c), 0)\n",
    "print(d)"
   ]
  },
  {
   "cell_type": "code",
   "execution_count": 64,
   "id": "89a75b9b",
   "metadata": {},
   "outputs": [
    {
     "name": "stdout",
     "output_type": "stream",
     "text": [
      "torch.Size([2, 2, 2])\n",
      "torch.Size([1, 1, 2, 2])\n"
     ]
    }
   ],
   "source": [
    "a = torch.randn(1,1,2,2)\n",
    "b = torch.randn(1,1,2,2)\n",
    "c = torch.cat((a[0],b[0]), 0)\n",
    "print(c.size())\n",
    "d = torch.tensor([])\n",
    "x = torch.index_select(a, 1, torch.tensor([0]))\n",
    "print(x.size())"
   ]
  },
  {
   "cell_type": "code",
   "execution_count": null,
   "id": "6008ea5a",
   "metadata": {},
   "outputs": [],
   "source": []
  }
 ],
 "metadata": {
  "kernelspec": {
   "display_name": "Python 3 (ipykernel)",
   "language": "python",
   "name": "python3"
  },
  "language_info": {
   "codemirror_mode": {
    "name": "ipython",
    "version": 3
   },
   "file_extension": ".py",
   "mimetype": "text/x-python",
   "name": "python",
   "nbconvert_exporter": "python",
   "pygments_lexer": "ipython3",
   "version": "3.7.0"
  }
 },
 "nbformat": 4,
 "nbformat_minor": 5
}

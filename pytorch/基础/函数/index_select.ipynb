{
 "cells": [
  {
   "cell_type": "code",
   "execution_count": 1,
   "id": "3f71e835",
   "metadata": {},
   "outputs": [],
   "source": [
    "import torch\n",
    "import torchvision\n"
   ]
  },
  {
   "cell_type": "code",
   "execution_count": 3,
   "id": "7b0494cc",
   "metadata": {},
   "outputs": [
    {
     "name": "stdout",
     "output_type": "stream",
     "text": [
      "tensor([[ 1.6925,  0.6566, -2.1638,  1.8063],\n",
      "        [-0.0592, -0.1012, -1.5423, -0.2400],\n",
      "        [-1.6753, -1.0256, -0.7361,  1.2562]])\n",
      "tensor([[ 1.6925, -2.1638],\n",
      "        [-0.0592, -1.5423],\n",
      "        [-1.6753, -0.7361]])\n"
     ]
    }
   ],
   "source": [
    "a = torch.randn(3,4)\n",
    "print(a)\n",
    "index = torch.tensor([0, 2])\n",
    "print(torch.index_select(a, 1, index))"
   ]
  },
  {
   "cell_type": "code",
   "execution_count": 4,
   "id": "af9324a1",
   "metadata": {},
   "outputs": [
    {
     "name": "stdout",
     "output_type": "stream",
     "text": [
      "tensor([0.0000, 0.5000, 1.0000])\n",
      "tensor(2)\n",
      "tensor([2.0000, 2.5000, 3.0000])\n"
     ]
    }
   ],
   "source": [
    "q = torch.linspace(0, 1, 3)\n",
    "print(q)\n",
    "qq = torch.tensor(2)\n",
    "print(qq)\n",
    "print(q+qq)"
   ]
  },
  {
   "cell_type": "code",
   "execution_count": null,
   "id": "5bca7d70",
   "metadata": {},
   "outputs": [],
   "source": []
  }
 ],
 "metadata": {
  "kernelspec": {
   "display_name": "Python 3 (ipykernel)",
   "language": "python",
   "name": "python3"
  },
  "language_info": {
   "codemirror_mode": {
    "name": "ipython",
    "version": 3
   },
   "file_extension": ".py",
   "mimetype": "text/x-python",
   "name": "python",
   "nbconvert_exporter": "python",
   "pygments_lexer": "ipython3",
   "version": "3.7.0"
  }
 },
 "nbformat": 4,
 "nbformat_minor": 5
}

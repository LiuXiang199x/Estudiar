{
 "cells": [
  {
   "cell_type": "code",
   "execution_count": 2,
   "id": "3ed323ae",
   "metadata": {},
   "outputs": [],
   "source": [
    "import torch, numpy"
   ]
  },
  {
   "cell_type": "code",
   "execution_count": 4,
   "id": "5293ce18",
   "metadata": {},
   "outputs": [],
   "source": [
    "# cat 和 stack 都是多个tensors（只能是tensors）合并。tensors以一个list形式送进去\n",
    "# 每个tensors的shape必须一样，比如N个（a，b，c）的tensors合并\n",
    "# cat不会改变原来tesnors的shape，比如上面三维，N个tensors合并\n",
    "    # 那么dim只有0，1，2三种情况。0对应第一维的改变：（a*N，b，c）\n",
    "    # 同理第二维：（a，b*N，c）\n",
    "# stack会在原来tensors的shape上加一为维度，类似unsqueeze插值\n",
    "    # 上述例子（a，b，c）。dim = 0对应N插在第一位（N，a，b，c）\n",
    "    # 其余同理。所以这里dim可以为0，1，2，3\n",
    "\n",
    "x1 = numpy.array([[1,2,3],\n",
    "                  [2,3,4]])\n",
    "x2 = numpy.array([[6,7,8],\n",
    "                  [11,12,13]])"
   ]
  },
  {
   "cell_type": "code",
   "execution_count": 13,
   "id": "60c06a6a",
   "metadata": {},
   "outputs": [
    {
     "name": "stdout",
     "output_type": "stream",
     "text": [
      "x1.shape =  (2, 3)\n",
      "x2.shape =  (2, 3)\n",
      "x3.shape =  (2, 2, 3)\n",
      "torch.Size([1, 2, 2, 3])\n",
      "--------------numpy初始化数据规律------------\n",
      "<class 'numpy.ndarray'>\n",
      "<class 'numpy.ndarray'>\n",
      "<class 'numpy.int64'>\n",
      "-----------------tensor初始化数据规律------------\n",
      "<class 'torch.Tensor'>\n",
      "<class 'torch.Tensor'>\n",
      "tensor([1, 2])\n",
      "<class 'torch.Tensor'>\n",
      "可看出numpy创建数组，最外层类型就算array，最小单位还是int\n",
      "但是用tensor创建tensor类型，从里到外所有数据类型都属于tensor\n",
      "tensor([[1, 2],\n",
      "        [2, 3]])\n",
      "list中两个类型一样：array，array:\n",
      " [array([[1, 2, 3],\n",
      "       [2, 3, 4]]), array([[ 6,  7,  8],\n",
      "       [11, 12, 13]])]\n",
      "list中两个类型不一样 array，tensor:\n",
      " [array([[ 6,  7,  8],\n",
      "       [11, 12, 13]]), tensor([[1, 2, 3],\n",
      "        [2, 3, 4]])]\n",
      "list中两个类型一样 tensor，tensor:\n",
      " [tensor([[1, 2, 3],\n",
      "        [2, 3, 4]]), tensor([[ 6,  7,  8],\n",
      "        [11, 12, 13]])]\n"
     ]
    },
    {
     "data": {
      "text/plain": [
       "'\\na = torch.tensor(x11)\\nprint(a)\\nprint(a[0])\\nprint([a[0][0]])\\nb = torch.tensor(x12)\\nprint(b)   # a 和 b都成功被转换为了tensor，从里到外：ValueError: only one element tensors can be converted to Python scalars\\n#################################################\\nc = torch.tensor(x13)  # 但是x13无法转为tensor\\n'"
      ]
     },
     "execution_count": 13,
     "metadata": {},
     "output_type": "execute_result"
    }
   ],
   "source": [
    "print(\"x1.shape = \", x1.shape)\n",
    "print(\"x2.shape = \", x2.shape)\n",
    "\n",
    "x3 = numpy.array([x1, x2])\n",
    "print(\"x3.shape = \", x3.shape)\n",
    "\n",
    "\n",
    "# tensors -> arrays = Var.numpy().  arrays —> tensors = torch.from_numpy(Var)\n",
    "x4 = torch.from_numpy(x1)\n",
    "x5 = torch.from_numpy(x2)\n",
    "x6 = torch.from_numpy(x3)\n",
    "print(torch.unsqueeze(x6, dim=0).size())\n",
    "x7 = [x4, x5]\n",
    "print(\"--------------numpy初始化数据规律------------\")\n",
    "x9 = numpy.array(numpy.array([[2]]))\n",
    "print(type(x9))\n",
    "print(type(x9[0]))\n",
    "print(type(x9[0][0]))\n",
    "print(\"-----------------tensor初始化数据规律------------\")\n",
    "x10 = torch.tensor([[1,2],[2,3]])\n",
    "print(type(x10))\n",
    "print(type(x10[0]))\n",
    "print(x10[0])\n",
    "print(type(x10[0][0]))\n",
    "print(\"可看出numpy创建数组，最外层类型就算array，最小单位还是int\")\n",
    "print(\"但是用tensor创建tensor类型，从里到外所有数据类型都属于tensor\")\n",
    "\n",
    "x11 = [x1, x2]  # list中两个类型一样：array，array\n",
    "x12 = [x2, x4]  # list中两个类型不一样 array，tensor \n",
    "x13 = [x4, x5]   # # list中两个类型一样 tensor，tensor\n",
    "print(x10)\n",
    "print(\"list中两个类型一样：array，array:\\n\", x11)\n",
    "print(\"list中两个类型不一样 array，tensor:\\n\", x12)\n",
    "print(\"list中两个类型一样 tensor，tensor:\\n\", x13)\n",
    "'''\n",
    "a = torch.tensor(x11)\n",
    "print(a)\n",
    "print(a[0])\n",
    "print([a[0][0]])\n",
    "b = torch.tensor(x12)\n",
    "print(b)   # a 和 b都成功被转换为了tensor，从里到外：ValueError: only one element tensors can be converted to Python scalars\n",
    "#################################################\n",
    "c = torch.tensor(x13)  # 但是x13无法转为tensor\n",
    "'''"
   ]
  },
  {
   "cell_type": "code",
   "execution_count": 36,
   "id": "78f5adfb",
   "metadata": {},
   "outputs": [
    {
     "name": "stdout",
     "output_type": "stream",
     "text": [
      "[tensor([[1, 2, 3],\n",
      "        [2, 3, 4]]), tensor([[ 6,  7,  8],\n",
      "        [11, 12, 13]])]\n",
      "2\n",
      "原来的tensor形状为： torch.Size([2, 3])\n",
      "shape of x13： [2, 2, 3]\n",
      "torch.Size([4, 3])\n",
      "tensor([[ 1,  2,  3],\n",
      "        [ 2,  3,  4],\n",
      "        [ 6,  7,  8],\n",
      "        [11, 12, 13]])\n",
      "torch.Size([2, 6])\n",
      "tensor([[ 1,  2,  3,  6,  7,  8],\n",
      "        [ 2,  3,  4, 11, 12, 13]])\n",
      "dim=0,就是N个tensor合并，0维数值*N，比如这个例子0维上是2，2个tensors合并，2*2=4\n",
      "dim=1,就是N个tensor合并，1维数值*N，比如这个例子0维上是3，2个tensors合并，2*3=6\n"
     ]
    }
   ],
   "source": [
    "# cat() --- stack()\n",
    "# outputs = torch.cat(inputs, dim=0) → Tensor\n",
    "# 参数-inputs : 待连接的张量序列，可以是任意相同Tensor类型的python 序列\n",
    "# 参数-dim : 选择的扩维, 必须在0到len(inputs[0])之间，沿着此维连接张量序列。\n",
    "\n",
    "# print(torch.cat(x11, dim=0).shape)\n",
    "# print(torch.cat(x12, dim=0).shape)  # 这两个都会报错，因为他要全是为tensor的\n",
    "# 这个也不行：tensor(XXXXX)\n",
    "# print(torch.cat(torch.tensor(x11), dim=0).shape)  \n",
    "\n",
    "# 只有一种形式是可以的，[tensors]，最外层为list，里面全为tensors\n",
    "# 以list形式一起送入cat，输出的结果和原来的tensor形状一致。维度不变，内容合并\n",
    "print(x13)\n",
    "print(len(x13))\n",
    "print(\"原来的tensor形状为：\", x13[0].size())\n",
    "print(\"shape of x13：\", [2,2,3])\n",
    "# dim : 选择的扩维, 必须在0到len(inputs[0])之间，沿着此维连接张量序列。\n",
    "print(torch.cat(x13, dim=0).shape)\n",
    "print(torch.cat(x13, dim=0))\n",
    "print(torch.cat(x13, dim=1).shape)\n",
    "print(torch.cat(x13, dim=1))\n",
    "print(\"dim=0,就是N个tensor合并，0维数值*N，比如这个例子0维上是2，2个tensors合并，2*2=4\")\n",
    "print(\"dim=1,就是N个tensor合并，1维数值*N，比如这个例子0维上是3，2个tensors合并，2*3=6\")\n",
    "\n",
    "#print(torch.cat(x13, dim=2).shape)"
   ]
  },
  {
   "cell_type": "code",
   "execution_count": 33,
   "id": "51e25ca3",
   "metadata": {},
   "outputs": [
    {
     "name": "stdout",
     "output_type": "stream",
     "text": [
      "[tensor([[0.0503, 0.1359, 0.0863, 0.5782],\n",
      "        [0.4642, 0.7491, 0.0009, 0.0367],\n",
      "        [0.7392, 0.4266, 0.7456, 0.5956]]), tensor([[0.8234, 0.6714, 0.8367, 0.8122],\n",
      "        [0.5594, 0.1289, 0.3598, 0.1618],\n",
      "        [0.0827, 0.0887, 0.6317, 0.6648]])]\n",
      "shape of x111： [2, 3, 4]\n",
      "原来的tensor形状为： torch.Size([3, 4])\n",
      "torch.Size([2, 3, 4])\n",
      "tensor([[[0.0503, 0.1359, 0.0863, 0.5782],\n",
      "         [0.4642, 0.7491, 0.0009, 0.0367],\n",
      "         [0.7392, 0.4266, 0.7456, 0.5956]],\n",
      "\n",
      "        [[0.8234, 0.6714, 0.8367, 0.8122],\n",
      "         [0.5594, 0.1289, 0.3598, 0.1618],\n",
      "         [0.0827, 0.0887, 0.6317, 0.6648]]])\n",
      "--------\n",
      "torch.Size([3, 2, 4])\n",
      "tensor([[[0.0503, 0.1359, 0.0863, 0.5782],\n",
      "         [0.8234, 0.6714, 0.8367, 0.8122]],\n",
      "\n",
      "        [[0.4642, 0.7491, 0.0009, 0.0367],\n",
      "         [0.5594, 0.1289, 0.3598, 0.1618]],\n",
      "\n",
      "        [[0.7392, 0.4266, 0.7456, 0.5956],\n",
      "         [0.0827, 0.0887, 0.6317, 0.6648]]])\n",
      "---------\n",
      "torch.Size([3, 4, 2])\n",
      "tensor([[[0.0503, 0.8234],\n",
      "         [0.1359, 0.6714],\n",
      "         [0.0863, 0.8367],\n",
      "         [0.5782, 0.8122]],\n",
      "\n",
      "        [[0.4642, 0.5594],\n",
      "         [0.7491, 0.1289],\n",
      "         [0.0009, 0.3598],\n",
      "         [0.0367, 0.1618]],\n",
      "\n",
      "        [[0.7392, 0.0827],\n",
      "         [0.4266, 0.0887],\n",
      "         [0.7456, 0.6317],\n",
      "         [0.5956, 0.6648]]])\n",
      "---------\n"
     ]
    },
    {
     "name": "stderr",
     "output_type": "stream",
     "text": [
      "/home/xiang/anaconda3/envs/py37/lib/python3.7/site-packages/ipykernel_launcher.py:4: UserWarning: To copy construct from a tensor, it is recommended to use sourceTensor.clone().detach() or sourceTensor.clone().detach().requires_grad_(True), rather than torch.tensor(sourceTensor).\n",
      "  after removing the cwd from sys.path.\n"
     ]
    }
   ],
   "source": [
    "# stack操作后会在原来的基础上再增加一维\n",
    "# 比如原来两个tensor的维度都是3维，经过stack后的结果为4维tensor\n",
    "\n",
    "x111 = [torch.tensor(torch.rand(3,4)),torch.tensor(torch.rand(3,4))]\n",
    "print(x111)\n",
    "print(\"shape of x111：\", [2,3,4])\n",
    "print(\"原来的tensor形状为：\", x111[0].size())\n",
    "# dim : 选择的扩维, 必须在0到len(inputs[0])之间，沿着此维连接张量序列。\n",
    "print(torch.stack(x111, dim=0).shape)\n",
    "print(torch.stack(x111, dim=0))\n",
    "print(\"--------\")\n",
    "print(torch.stack(x111, dim=1).shape)\n",
    "print(torch.stack(x111, dim=1))\n",
    "print(\"---------\")\n",
    "print(torch.stack(x111, dim=2).shape)\n",
    "print(torch.stack(x111, dim=2))\n",
    "print(\"---------\")"
   ]
  },
  {
   "cell_type": "code",
   "execution_count": null,
   "id": "58c14e0c",
   "metadata": {},
   "outputs": [],
   "source": []
  }
 ],
 "metadata": {
  "kernelspec": {
   "display_name": "Python 3 (ipykernel)",
   "language": "python",
   "name": "python3"
  },
  "language_info": {
   "codemirror_mode": {
    "name": "ipython",
    "version": 3
   },
   "file_extension": ".py",
   "mimetype": "text/x-python",
   "name": "python",
   "nbconvert_exporter": "python",
   "pygments_lexer": "ipython3",
   "version": "3.7.0"
  }
 },
 "nbformat": 4,
 "nbformat_minor": 5
}

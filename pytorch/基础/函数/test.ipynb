{
 "cells": [
  {
   "cell_type": "code",
   "execution_count": 3,
   "id": "82ece668",
   "metadata": {},
   "outputs": [],
   "source": [
    "import torch\n",
    "import torch.nn as nn\n",
    "import torch.nn.functional as F"
   ]
  },
  {
   "cell_type": "code",
   "execution_count": 4,
   "id": "68b34f66",
   "metadata": {},
   "outputs": [
    {
     "name": "stdout",
     "output_type": "stream",
     "text": [
      "tensor([[ 0.0455, -0.0829],\n",
      "        [ 0.3136, -1.4028]])\n",
      "tensor([[ 0.0455, -0.0829,  0.0000,  0.0000],\n",
      "        [ 0.3136, -1.4028,  0.0000,  0.0000]])\n"
     ]
    }
   ],
   "source": [
    "a = torch.randn(2,2)\n",
    "b = torch.zeros(2,2)\n",
    "c = torch.ones(2,2)\n",
    "print(a)\n",
    "print(torch.cat((a,b),dim=1))"
   ]
  },
  {
   "cell_type": "code",
   "execution_count": 5,
   "id": "c7268fa1",
   "metadata": {},
   "outputs": [
    {
     "name": "stdout",
     "output_type": "stream",
     "text": [
      "(25, 25, 5, 1)\n",
      "torch.Size([1, 1, 5, 5])\n"
     ]
    }
   ],
   "source": [
    "inputs = torch.randn(1,1,10,10)\n",
    "f = F.max_pool2d(inputs, kernel_size=2)\n",
    "print(f.stride())\n",
    "print(f.size())"
   ]
  },
  {
   "cell_type": "code",
   "execution_count": 6,
   "id": "59bb400d",
   "metadata": {},
   "outputs": [
    {
     "name": "stdout",
     "output_type": "stream",
     "text": [
      "240.5\n"
     ]
    }
   ],
   "source": [
    "print((481-2)/2+1)"
   ]
  },
  {
   "cell_type": "code",
   "execution_count": 8,
   "id": "4989b30c",
   "metadata": {},
   "outputs": [
    {
     "name": "stdout",
     "output_type": "stream",
     "text": [
      "torch.Size([1, 1, 240, 240])\n"
     ]
    }
   ],
   "source": [
    "a = torch.randn(1,1,1200,1200)\n",
    "print(nn.MaxPool2d((5,5),stride=5)(a).size())"
   ]
  }
 ],
 "metadata": {
  "kernelspec": {
   "display_name": "Python 3 (ipykernel)",
   "language": "python",
   "name": "python3"
  },
  "language_info": {
   "codemirror_mode": {
    "name": "ipython",
    "version": 3
   },
   "file_extension": ".py",
   "mimetype": "text/x-python",
   "name": "python",
   "nbconvert_exporter": "python",
   "pygments_lexer": "ipython3",
   "version": "3.7.0"
  }
 },
 "nbformat": 4,
 "nbformat_minor": 5
}

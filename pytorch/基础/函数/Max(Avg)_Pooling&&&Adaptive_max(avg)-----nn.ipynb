{
 "cells": [
  {
   "cell_type": "code",
   "execution_count": 1,
   "id": "230e3c47",
   "metadata": {},
   "outputs": [],
   "source": [
    "import torch\n",
    "import torch.nn as nn\n",
    "# 总结：adaptive和max一样的只是一个给kernel size一个给目标输出大小即可。"
   ]
  },
  {
   "cell_type": "code",
   "execution_count": 7,
   "id": "bba51d72",
   "metadata": {},
   "outputs": [
    {
     "name": "stdout",
     "output_type": "stream",
     "text": [
      "torch.Size([1, 1, 6, 6])\n",
      "tensor([[[[-0.5331,  0.7772, -0.1058, -1.0734, -0.5077, -1.2724],\n",
      "          [-0.0352,  0.3657, -0.5381,  0.2923, -0.0721, -0.7214],\n",
      "          [ 0.4208,  0.1269, -0.3822, -1.0592, -0.5083,  0.9973],\n",
      "          [ 0.9719, -0.2112, -0.1413,  0.4572,  1.3210,  1.5157],\n",
      "          [ 0.3063,  0.4386,  0.0284, -1.9653, -0.7246,  0.9775],\n",
      "          [ 0.2678,  1.8638, -0.0339,  0.1334,  0.3856,  1.3407]]]])\n"
     ]
    }
   ],
   "source": [
    "inputs = torch.randn(1, 1, 6,6)\n",
    "print(inputs.size())\n",
    "print(inputs)"
   ]
  },
  {
   "cell_type": "code",
   "execution_count": 8,
   "id": "35c876d0",
   "metadata": {},
   "outputs": [
    {
     "name": "stdout",
     "output_type": "stream",
     "text": [
      "torch.Size([1, 1, 3, 3])\n",
      "tensor([[[[ 0.7772,  0.2923, -0.0721],\n",
      "          [ 0.9719,  0.4572,  1.5157],\n",
      "          [ 1.8638,  0.1334,  1.3407]]]])\n"
     ]
    }
   ],
   "source": [
    "pooling_max2d = nn.MaxPool2d(2)\n",
    "output = pooling_max2d(inputs)   # 输入Maxpool的size必须为(bs, chs, w, h)\n",
    "print(output.size())\n",
    "print(output)"
   ]
  },
  {
   "cell_type": "code",
   "execution_count": 9,
   "id": "271dae53",
   "metadata": {},
   "outputs": [
    {
     "name": "stdout",
     "output_type": "stream",
     "text": [
      "torch.Size([1, 1, 3, 3])\n",
      "tensor([[[[ 0.1436, -0.3562, -0.6434],\n",
      "          [ 0.3271, -0.2814,  0.8314],\n",
      "          [ 0.7191, -0.4593,  0.4948]]]])\n"
     ]
    }
   ],
   "source": [
    "pooling_avg2d = nn.AvgPool2d(2)\n",
    "output = pooling_avg2d(inputs)\n",
    "print(output.size())\n",
    "print(output)"
   ]
  },
  {
   "cell_type": "code",
   "execution_count": 10,
   "id": "bff651b9",
   "metadata": {},
   "outputs": [
    {
     "name": "stdout",
     "output_type": "stream",
     "text": [
      "torch.Size([1, 1, 3, 3])\n",
      "tensor([[[[ 0.7772,  0.2923, -0.0721],\n",
      "          [ 0.9719,  0.4572,  1.5157],\n",
      "          [ 1.8638,  0.1334,  1.3407]]]])\n"
     ]
    }
   ],
   "source": [
    "ada_pooling_max2d = nn.AdaptiveMaxPool2d((3,3))\n",
    "output = ada_pooling_max2d(inputs)\n",
    "print(output.size())\n",
    "print(output)"
   ]
  },
  {
   "cell_type": "code",
   "execution_count": 16,
   "id": "ce3a2b10",
   "metadata": {},
   "outputs": [
    {
     "name": "stdout",
     "output_type": "stream",
     "text": [
      "torch.Size([1, 1, 3, 3])\n",
      "tensor([[[[ 0.1436, -0.3562, -0.6434],\n",
      "          [ 0.3271, -0.2814,  0.8314],\n",
      "          [ 0.7191, -0.4593,  0.4948]]]])\n"
     ]
    }
   ],
   "source": [
    "ada_pooling_avg2d = nn.AdaptiveAvgPool2d((3,3))\n",
    "output = ada_pooling_avg2d(inputs)\n",
    "print(output.size())\n",
    "print(output)"
   ]
  },
  {
   "cell_type": "code",
   "execution_count": 13,
   "id": "a9fec399",
   "metadata": {},
   "outputs": [
    {
     "name": "stdout",
     "output_type": "stream",
     "text": [
      "torch.Size([1, 1, 239, 239])\n"
     ]
    }
   ],
   "source": [
    "import torch\n",
    "import torch.nn as nn\n",
    "\n",
    "a = nn.MaxPool2d((6,6),stride=5)\n",
    "inputs = torch.randn(1,1,1200,1200)\n",
    "print(a(inputs).size())"
   ]
  },
  {
   "cell_type": "code",
   "execution_count": null,
   "id": "defda251",
   "metadata": {},
   "outputs": [],
   "source": []
  }
 ],
 "metadata": {
  "kernelspec": {
   "display_name": "Python 3 (ipykernel)",
   "language": "python",
   "name": "python3"
  },
  "language_info": {
   "codemirror_mode": {
    "name": "ipython",
    "version": 3
   },
   "file_extension": ".py",
   "mimetype": "text/x-python",
   "name": "python",
   "nbconvert_exporter": "python",
   "pygments_lexer": "ipython3",
   "version": "3.7.0"
  }
 },
 "nbformat": 4,
 "nbformat_minor": 5
}

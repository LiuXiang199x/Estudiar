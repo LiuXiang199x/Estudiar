{
 "cells": [
  {
   "cell_type": "code",
   "execution_count": 1,
   "id": "0dba5787",
   "metadata": {},
   "outputs": [],
   "source": [
    "import torch\n",
    "import torch.nn.functional as F"
   ]
  },
  {
   "cell_type": "code",
   "execution_count": 9,
   "id": "9a234672",
   "metadata": {},
   "outputs": [
    {
     "name": "stdout",
     "output_type": "stream",
     "text": [
      "torch.Size([1, 1, 7, 7])\n",
      "tensor([[[[ 1.6691, -1.1463, -0.3016,  0.6257, -2.3151, -0.4681, -0.6384],\n",
      "          [-0.8433,  0.4639, -0.9680,  0.6802,  1.3181, -0.5955,  0.1011],\n",
      "          [ 0.1107, -0.3999,  2.0886,  1.1514,  0.5708,  0.1187,  0.1315],\n",
      "          [ 0.0522, -0.4420,  0.4446, -0.3704, -0.2191,  0.1075, -0.0642],\n",
      "          [ 0.5622,  0.7106, -0.4962, -0.0972,  0.1425, -0.8985, -1.3580],\n",
      "          [-0.7793,  2.4326,  0.7841, -1.4237,  1.7824, -1.9120, -0.6734],\n",
      "          [ 0.2011, -1.4753, -0.4119, -0.1091,  0.3011, -0.7978, -0.7264]]]])\n"
     ]
    }
   ],
   "source": [
    "inputs = torch.randn(1, 1, 6, 6)\n",
    "print(inputs.size())\n",
    "print(inputs)"
   ]
  },
  {
   "cell_type": "code",
   "execution_count": 11,
   "id": "883f537d",
   "metadata": {},
   "outputs": [
    {
     "name": "stdout",
     "output_type": "stream",
     "text": [
      "torch.Size([1, 1, 240, 240])\n"
     ]
    }
   ],
   "source": [
    "# target output size of 7x7 (square)\n",
    "inputss = torch.randn(1,1,481,481)\n",
    "output = F.max_pool2d(inputss, (2,2))\n",
    "print(output.size())"
   ]
  },
  {
   "cell_type": "code",
   "execution_count": 5,
   "id": "2e30f247",
   "metadata": {},
   "outputs": [
    {
     "data": {
      "text/plain": [
       "torch.Size([1, 64, 10, 7])"
      ]
     },
     "execution_count": 5,
     "metadata": {},
     "output_type": "execute_result"
    }
   ],
   "source": [
    "# target output size of 10x7\n",
    "m = nn.AdaptiveMaxPool2d((None, 7))\n",
    "input = torch.randn(1, 64, 10, 9)\n",
    "output = m(input)\n",
    "output.size()"
   ]
  },
  {
   "cell_type": "code",
   "execution_count": null,
   "id": "ccfa8c52",
   "metadata": {},
   "outputs": [],
   "source": []
  }
 ],
 "metadata": {
  "kernelspec": {
   "display_name": "Python 3 (ipykernel)",
   "language": "python",
   "name": "python3"
  },
  "language_info": {
   "codemirror_mode": {
    "name": "ipython",
    "version": 3
   },
   "file_extension": ".py",
   "mimetype": "text/x-python",
   "name": "python",
   "nbconvert_exporter": "python",
   "pygments_lexer": "ipython3",
   "version": "3.7.0"
  }
 },
 "nbformat": 4,
 "nbformat_minor": 5
}

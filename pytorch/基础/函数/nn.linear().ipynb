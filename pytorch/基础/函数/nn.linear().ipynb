{
 "cells": [
  {
   "cell_type": "code",
   "execution_count": 2,
   "id": "60234644",
   "metadata": {},
   "outputs": [],
   "source": [
    "import torch\n",
    "import torch.nn as nn\n",
    "import torch.nn.functional as f"
   ]
  },
  {
   "cell_type": "code",
   "execution_count": 44,
   "id": "3ab2a44c",
   "metadata": {},
   "outputs": [
    {
     "name": "stdout",
     "output_type": "stream",
     "text": [
      "torch.Size([1, 10, 16, 16])\n",
      "torch.Size([1, 10, 16, 16])\n",
      "torch.Size([1, 20, 15, 15])\n",
      "torch.Size([1, 20, 5, 5])\n"
     ]
    }
   ],
   "source": [
    "inputs = torch.randn(1,1,32,32)\n",
    "output = nn.Conv2d(1,10,(2,2),2)(inputs)\n",
    "print(output.size())\n",
    "output = nn.ReLU()(output)\n",
    "print(output.size())\n",
    "output = nn.Conv2d(10,20,(2,2),1)(output)\n",
    "print(output.size())\n",
    "output = nn.MaxPool2d((2,2),3)(output)\n",
    "print(output.size())"
   ]
  },
  {
   "cell_type": "code",
   "execution_count": 47,
   "id": "71e5aab9",
   "metadata": {},
   "outputs": [
    {
     "name": "stdout",
     "output_type": "stream",
     "text": [
      "[Parameter containing:\n",
      "tensor([[ 0.2564,  0.1274,  0.3192,  0.2561,  0.0287],\n",
      "        [-0.4295, -0.1108, -0.2708, -0.4130, -0.0249]], requires_grad=True), Parameter containing:\n",
      "tensor([-0.3150,  0.3678], requires_grad=True)]\n",
      "[Parameter containing:\n",
      "tensor([[ 0.3881,  0.0737,  0.0955,  0.2585],\n",
      "        [-0.0683,  0.1784,  0.1907, -0.0467],\n",
      "        [-0.4151, -0.2426,  0.4817,  0.4424]], requires_grad=True), Parameter containing:\n",
      "tensor([-0.4854, -0.2764,  0.2357], requires_grad=True)]\n"
     ]
    }
   ],
   "source": [
    "print(list(nn.Linear(5, 2).parameters()))\n",
    "# 比如 5(x1,x2,x3..) -> 2(y1,y2) 过程就为：y1 = W11*x1 + W12*x2 + ... + b1\n",
    "# 可以理解为，多少个输出就有多少个bias，weight个数就是 上层神经元个数 * 输出个数\n",
    "\n",
    "print(list(nn.Linear(4, 3).parameters()))"
   ]
  },
  {
   "cell_type": "code",
   "execution_count": 45,
   "id": "b0180cd5",
   "metadata": {},
   "outputs": [
    {
     "name": "stdout",
     "output_type": "stream",
     "text": [
      "torch.Size([1, 500])\n",
      "torch.Size([1, 10])\n",
      "Linear(in_features=120, out_features=10, bias=True)\n",
      "[Parameter containing:\n",
      "tensor([[-0.4472, -0.3110,  0.2860, -0.4461, -0.4287],\n",
      "        [ 0.1298,  0.2154, -0.3919, -0.0435,  0.4412]], requires_grad=True), Parameter containing:\n",
      "tensor([0.3732, 0.3778], requires_grad=True)]\n"
     ]
    }
   ],
   "source": [
    "output = output.view(1, -1)\n",
    "print(output.size())\n",
    "# 切记！！！！ linear的输入输出都必须是 》》》》二维tensor《《《《《\n",
    "output = nn.Linear(in_features=20*5*5, out_features=10)(output)\n",
    "print(output.size())\n",
    "print(nn.Linear(120,10))  # 返回的是：input * weight + bias"
   ]
  },
  {
   "cell_type": "code",
   "execution_count": 35,
   "id": "c2c33ff2",
   "metadata": {},
   "outputs": [
    {
     "name": "stdout",
     "output_type": "stream",
     "text": [
      "tensor([[0.0764, 0.0952, 0.0998, 0.1147, 0.1447, 0.1210, 0.0670, 0.0984, 0.1084,\n",
      "         0.0745]], grad_fn=<SoftmaxBackward>)\n",
      "Softmax(dim=None)\n"
     ]
    },
    {
     "name": "stderr",
     "output_type": "stream",
     "text": [
      "/home/xiang/anaconda3/envs/py37/lib/python3.7/site-packages/ipykernel_launcher.py:1: UserWarning: Implicit dimension choice for softmax has been deprecated. Change the call to include dim=X as an argument.\n",
      "  \"\"\"Entry point for launching an IPython kernel.\n"
     ]
    }
   ],
   "source": [
    "output = nn.Softmax()(output)\n",
    "print(output)\n",
    "print(nn.Softmax())"
   ]
  }
 ],
 "metadata": {
  "kernelspec": {
   "display_name": "Python 3 (ipykernel)",
   "language": "python",
   "name": "python3"
  },
  "language_info": {
   "codemirror_mode": {
    "name": "ipython",
    "version": 3
   },
   "file_extension": ".py",
   "mimetype": "text/x-python",
   "name": "python",
   "nbconvert_exporter": "python",
   "pygments_lexer": "ipython3",
   "version": "3.7.0"
  }
 },
 "nbformat": 4,
 "nbformat_minor": 5
}

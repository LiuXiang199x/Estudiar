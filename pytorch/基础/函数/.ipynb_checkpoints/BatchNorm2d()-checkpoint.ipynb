{
 "cells": [
  {
   "cell_type": "code",
   "execution_count": 3,
   "id": "04afb2e7",
   "metadata": {},
   "outputs": [],
   "source": [
    "import torch\n",
    "import torch.nn as nn"
   ]
  },
  {
   "cell_type": "code",
   "execution_count": 5,
   "id": "962176c5",
   "metadata": {},
   "outputs": [],
   "source": [
    "bn = nn.BatchNorm2d(3)\n",
    "x = torch.randn(4, 3, 2, 2)\n",
    "y = bn(x)"
   ]
  },
  {
   "cell_type": "code",
   "execution_count": 6,
   "id": "d8e4f7b2",
   "metadata": {},
   "outputs": [
    {
     "name": "stdout",
     "output_type": "stream",
     "text": [
      "The mean value of the first channel is -0.318454\n",
      "The mean value of the first channel is -0.237897\n",
      "The mean value of the first channel is 0.388345\n",
      "The output mean value of the BN layer is -0.031845, -0.023790, 0.038835\n"
     ]
    }
   ],
   "source": [
    "a = (x[0, 0, :, :] + x[1, 0, :, :] + x[2, 0, :, :] + x[3, 0, :, :]).sum() / 16\n",
    "b = (x[0, 1, :, :] + x[1, 1, :, :] + x[2, 1, :, :] + x[3, 1, :, :]).sum() / 16\n",
    "c = (x[0, 2, :, :] + x[1, 2, :, :] + x[2, 2, :, :] + x[3, 2, :, :]).sum() / 16\n",
    "print('The mean value of the first channel is %f' % a.data)\n",
    "print('The mean value of the first channel is %f' % b.data)\n",
    "print('The mean value of the first channel is %f' % c.data)\n",
    "print('The output mean value of the BN layer is %f, %f, %f' % (bn.running_mean.data[0], bn.running_mean.data[1], bn.running_mean.data[2]))"
   ]
  },
  {
   "cell_type": "code",
   "execution_count": 7,
   "id": "68c566fb",
   "metadata": {},
   "outputs": [
    {
     "data": {
      "text/plain": [
       "'\\n第一个通道的running_mean正好是真实的mean的0.1倍\\n因为在最开始的时候running_mean=0，然后用滑动平均公式去更新：\\nrunning_mean=0.9∗running_mean+0.1∗mean=0.1∗mean\\n'"
      ]
     },
     "execution_count": 7,
     "metadata": {},
     "output_type": "execute_result"
    }
   ],
   "source": [
    "\"\"\"\n",
    "第一个通道的running_mean正好是真实的mean的0.1倍\n",
    "因为在最开始的时候running_mean=0，然后用滑动平均公式去更新：\n",
    "running_mean=0.9∗running_mean+0.1∗mean=0.1∗mean\n",
    "\"\"\""
   ]
  },
  {
   "cell_type": "code",
   "execution_count": 8,
   "id": "3986bbba",
   "metadata": {},
   "outputs": [
    {
     "name": "stdout",
     "output_type": "stream",
     "text": [
      "The mean value of the first channel is 0.260069\n",
      "The mean value of the first channel is -0.118349\n",
      "The mean value of the first channel is 0.239755\n",
      "The output mean value of the BN layer is 0.049413, -0.022486, 0.045554\n"
     ]
    }
   ],
   "source": [
    "# 那么当我们前向传播两次之后，再来观察running_mean和mean的关系。\n",
    "\n",
    "bn = nn.BatchNorm2d(3)\n",
    "x = torch.randn(4, 3, 2, 2)\n",
    "y = bn(x)\n",
    "y = bn(x)  # 前向传播两次\n",
    "a = (x[0, 0, :, :] + x[1, 0, :, :] + x[2, 0, :, :] + x[3, 0, :, :]).sum() / 16\n",
    "b = (x[0, 1, :, :] + x[1, 1, :, :] + x[2, 1, :, :] + x[3, 1, :, :]).sum() / 16\n",
    "c = (x[0, 2, :, :] + x[1, 2, :, :] + x[2, 2, :, :] + x[3, 2, :, :]).sum() / 16\n",
    "print('The mean value of the first channel is %f' % a.data)\n",
    "print('The mean value of the first channel is %f' % b.data)\n",
    "print('The mean value of the first channel is %f' % c.data)\n",
    "print('The output mean value of the BN layer is %f, %f, %f' % (bn.running_mean.data[0], bn.running_mean.data[1], bn.running_mean.data[2]))"
   ]
  },
  {
   "cell_type": "code",
   "execution_count": null,
   "id": "911b6fc6",
   "metadata": {},
   "outputs": [],
   "source": [
    "# running_mean=0.9∗(0.9∗0+0.1∗mean)+0.1∗mean=0.19∗mean"
   ]
  }
 ],
 "metadata": {
  "kernelspec": {
   "display_name": "Python 3 (ipykernel)",
   "language": "python",
   "name": "python3"
  },
  "language_info": {
   "codemirror_mode": {
    "name": "ipython",
    "version": 3
   },
   "file_extension": ".py",
   "mimetype": "text/x-python",
   "name": "python",
   "nbconvert_exporter": "python",
   "pygments_lexer": "ipython3",
   "version": "3.7.0"
  }
 },
 "nbformat": 4,
 "nbformat_minor": 5
}

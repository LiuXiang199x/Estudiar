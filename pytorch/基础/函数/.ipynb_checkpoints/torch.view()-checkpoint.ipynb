{
 "cells": [
  {
   "cell_type": "code",
   "execution_count": 1,
   "id": "08709662",
   "metadata": {},
   "outputs": [],
   "source": [
    "import torch"
   ]
  },
  {
   "cell_type": "code",
   "execution_count": 5,
   "id": "37f8ab42",
   "metadata": {},
   "outputs": [
    {
     "data": {
      "text/plain": [
       "'\\n相当于numpy中resize（）的功能，但是用法可能不太一样。\\n把原tensor中的数据按照行优先的顺序排成一个一维数据(这里应该是因为要求地址是连续存储的)，\\n然后按照参数组合成其他维度的tensor。\\n比如说是不管你原先的数据是[[[1,2,3],[4,5,6]]]还是[1,2,3,4,5,6]，\\n因为它们排成一维向量都是6个元素，所以只要view后面的参数一致，得到的结果都是一样的。'"
      ]
     },
     "execution_count": 5,
     "metadata": {},
     "output_type": "execute_result"
    }
   ],
   "source": [
    "'''\n",
    "相当于numpy中resize（）的功能，但是用法可能不太一样。\n",
    "把原tensor中的数据按照行优先的顺序排成一个一维数据(这里应该是因为要求地址是连续存储的)，\n",
    "然后按照参数组合成其他维度的tensor。\n",
    "比如说是不管你原先的数据是[[[1,2,3],[4,5,6]]]还是[1,2,3,4,5,6]，\n",
    "因为它们排成一维向量都是6个元素，所以只要view后面的参数一致，得到的结果都是一样的。'''"
   ]
  },
  {
   "cell_type": "code",
   "execution_count": 3,
   "id": "8186066c",
   "metadata": {},
   "outputs": [
    {
     "name": "stdout",
     "output_type": "stream",
     "text": [
      "tensor([[1., 2., 3., 4., 5., 6.]])\n",
      "tensor([[1., 2., 3., 4., 5., 6.]])\n"
     ]
    }
   ],
   "source": [
    "a=torch.Tensor([[[1,2,3],[4,5,6]]])\n",
    "b=torch.Tensor([1,2,3,4,5,6])\n",
    "\n",
    "print(a.view(1,6))\n",
    "print(b.view(1,6))"
   ]
  },
  {
   "cell_type": "code",
   "execution_count": 4,
   "id": "5760887f",
   "metadata": {},
   "outputs": [
    {
     "name": "stdout",
     "output_type": "stream",
     "text": [
      "tensor([[1., 2.],\n",
      "        [3., 4.],\n",
      "        [5., 6.]])\n"
     ]
    }
   ],
   "source": [
    "a=torch.Tensor([[[1,2,3],[4,5,6]]])\n",
    "print(a.view(3,2))"
   ]
  },
  {
   "cell_type": "code",
   "execution_count": null,
   "id": "f9f2aaf1",
   "metadata": {},
   "outputs": [],
   "source": []
  }
 ],
 "metadata": {
  "kernelspec": {
   "display_name": "Python 3 (ipykernel)",
   "language": "python",
   "name": "python3"
  },
  "language_info": {
   "codemirror_mode": {
    "name": "ipython",
    "version": 3
   },
   "file_extension": ".py",
   "mimetype": "text/x-python",
   "name": "python",
   "nbconvert_exporter": "python",
   "pygments_lexer": "ipython3",
   "version": "3.7.0"
  }
 },
 "nbformat": 4,
 "nbformat_minor": 5
}

{
 "cells": [
  {
   "cell_type": "code",
   "execution_count": 2,
   "id": "e774dd26",
   "metadata": {},
   "outputs": [],
   "source": [
    "import torch\n",
    "import torch.nn as nn"
   ]
  },
  {
   "cell_type": "code",
   "execution_count": 3,
   "id": "c66dfd41",
   "metadata": {},
   "outputs": [
    {
     "name": "stdout",
     "output_type": "stream",
     "text": [
      "tensor([[ 0.3611,  2.4754, -0.3495],\n",
      "        [-0.2697, -0.5086,  0.2433],\n",
      "        [-0.1888,  0.4493, -0.1344]])\n"
     ]
    }
   ],
   "source": [
    "# torch.fmod()方法给出除数除以元素的余数。除数可以是数字或张量。\n",
    "\n",
    "inputs = torch.randn(3,3)\n",
    "print(inputs)"
   ]
  },
  {
   "cell_type": "code",
   "execution_count": 8,
   "id": "b6f43b8c",
   "metadata": {},
   "outputs": [
    {
     "name": "stdout",
     "output_type": "stream",
     "text": [
      "tensor([[ 0.3611,  0.4754, -0.3495],\n",
      "        [-0.2697, -0.5086,  0.2433],\n",
      "        [-0.1888,  0.4493, -0.1344]])\n",
      "tensor([-1., -0., -1.,  1.,  0.,  1.])\n",
      "tensor([1.0000, 0.5000, 0.0000, 1.0000, 0.5000])\n"
     ]
    }
   ],
   "source": [
    "print(torch.fmod(inputs, 1))\n",
    "print(torch.fmod(torch.tensor([-3., -2, -1, 1, 2, 3]), 2))\n",
    "print(torch.fmod(torch.tensor([1., 2, 3, 4, 5]), 1.5))"
   ]
  },
  {
   "cell_type": "code",
   "execution_count": null,
   "id": "b9f0c5c0",
   "metadata": {},
   "outputs": [],
   "source": []
  }
 ],
 "metadata": {
  "kernelspec": {
   "display_name": "Python 3 (ipykernel)",
   "language": "python",
   "name": "python3"
  },
  "language_info": {
   "codemirror_mode": {
    "name": "ipython",
    "version": 3
   },
   "file_extension": ".py",
   "mimetype": "text/x-python",
   "name": "python",
   "nbconvert_exporter": "python",
   "pygments_lexer": "ipython3",
   "version": "3.7.0"
  }
 },
 "nbformat": 4,
 "nbformat_minor": 5
}

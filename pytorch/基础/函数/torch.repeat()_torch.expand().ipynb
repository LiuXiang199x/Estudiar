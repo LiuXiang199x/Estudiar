{
 "cells": [
  {
   "cell_type": "code",
   "execution_count": 1,
   "id": "a1e0c6bb",
   "metadata": {},
   "outputs": [],
   "source": [
    "import torch"
   ]
  },
  {
   "cell_type": "code",
   "execution_count": 5,
   "id": "1c60daf1",
   "metadata": {},
   "outputs": [
    {
     "name": "stdout",
     "output_type": "stream",
     "text": [
      "tensor([[1, 2, 3],\n",
      "        [1, 2, 3]])\n",
      "tensor([1, 2, 3])\n",
      "tensor([[[[-1.6047,  0.6197, -0.5595, -0.3511]]],\n",
      "\n",
      "\n",
      "        [[[ 0.5251, -0.3712,  0.5103, -1.1937]]]])\n",
      "tensor([[[[-1.6047,  0.6197, -0.5595, -0.3511],\n",
      "          [-1.6047,  0.6197, -0.5595, -0.3511],\n",
      "          [-1.6047,  0.6197, -0.5595, -0.3511]],\n",
      "\n",
      "         [[-1.6047,  0.6197, -0.5595, -0.3511],\n",
      "          [-1.6047,  0.6197, -0.5595, -0.3511],\n",
      "          [-1.6047,  0.6197, -0.5595, -0.3511]]],\n",
      "\n",
      "\n",
      "        [[[ 0.5251, -0.3712,  0.5103, -1.1937],\n",
      "          [ 0.5251, -0.3712,  0.5103, -1.1937],\n",
      "          [ 0.5251, -0.3712,  0.5103, -1.1937]],\n",
      "\n",
      "         [[ 0.5251, -0.3712,  0.5103, -1.1937],\n",
      "          [ 0.5251, -0.3712,  0.5103, -1.1937],\n",
      "          [ 0.5251, -0.3712,  0.5103, -1.1937]]]])\n"
     ]
    }
   ],
   "source": [
    "# torch.Tensor有两个实例方法可以用来扩展某维的数据的尺寸，repeat()和expand()\n",
    "\"\"\"\n",
    "返回当前张量在某维扩展更大后的张量。扩展（expand）张量不会分配新的内存，\n",
    "只是在存在的张量上创建一个新的视图(view)，一个大小(size)等于1的维度扩展到更大的尺寸。\n",
    "\"\"\"\n",
    "\n",
    "x = torch.tensor([1, 2, 3])\n",
    "y = torch.randn(2, 1, 1, 4)\n",
    "\n",
    "print(x.expand(2, 3))\n",
    "print(x)\n",
    "print(y)\n",
    "print(y.expand(-1, 2, 3, -1))"
   ]
  },
  {
   "cell_type": "code",
   "execution_count": 6,
   "id": "e3487d33",
   "metadata": {},
   "outputs": [
    {
     "name": "stdout",
     "output_type": "stream",
     "text": [
      "tensor([[1, 2, 3, 1, 2, 3],\n",
      "        [1, 2, 3, 1, 2, 3],\n",
      "        [1, 2, 3, 1, 2, 3]])\n",
      "torch.Size([4, 3, 12])\n"
     ]
    }
   ],
   "source": [
    "# 沿着特定的维度重复这个张量，和expand()不同的是，这个函数拷贝张量的数据。\n",
    "\n",
    "a = torch.tensor([1, 2, 3])\n",
    "print(a.repeat(3, 2))\n",
    "b = torch.randn(2, 3, 4)\n",
    "print(b.repeat(2, 1, 3).shape)"
   ]
  },
  {
   "cell_type": "code",
   "execution_count": 7,
   "id": "7b13368c",
   "metadata": {},
   "outputs": [
    {
     "name": "stdout",
     "output_type": "stream",
     "text": [
      "True\n",
      "False\n"
     ]
    }
   ],
   "source": [
    "# expand 只能扩展为1的维度\n",
    "# 当维度为1时，repeat会分配新的内存存储增加的数据，expand不分配新内存。\n",
    "\n",
    "import torch\n",
    "import numpy as np\n",
    "x = torch.tensor([1, 2, 3])\n",
    "print(np.may_share_memory(x, x.expand(2,3))) #True\n",
    "print(np.may_share_memory(x, x.repeat(2,3))) #False"
   ]
  },
  {
   "cell_type": "code",
   "execution_count": null,
   "id": "23f72243",
   "metadata": {},
   "outputs": [],
   "source": []
  }
 ],
 "metadata": {
  "kernelspec": {
   "display_name": "Python 3 (ipykernel)",
   "language": "python",
   "name": "python3"
  },
  "language_info": {
   "codemirror_mode": {
    "name": "ipython",
    "version": 3
   },
   "file_extension": ".py",
   "mimetype": "text/x-python",
   "name": "python",
   "nbconvert_exporter": "python",
   "pygments_lexer": "ipython3",
   "version": "3.7.0"
  }
 },
 "nbformat": 4,
 "nbformat_minor": 5
}

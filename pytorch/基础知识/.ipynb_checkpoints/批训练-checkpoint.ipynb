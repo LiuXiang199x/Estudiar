{
 "cells": [
  {
   "cell_type": "code",
   "execution_count": 1,
   "id": "b0bb8b53",
   "metadata": {},
   "outputs": [
    {
     "data": {
      "text/plain": [
       "<torch._C.Generator at 0x7fb510105670>"
      ]
     },
     "execution_count": 1,
     "metadata": {},
     "output_type": "execute_result"
    }
   ],
   "source": [
    "import torch\n",
    "import matplotlib.pyplot as plt\n",
    "import torch.utils.data as Data\n",
    "torch.manual_seed(1)"
   ]
  },
  {
   "cell_type": "code",
   "execution_count": 2,
   "id": "df68946a",
   "metadata": {},
   "outputs": [
    {
     "name": "stdout",
     "output_type": "stream",
     "text": [
      "Epoch: 0 | Step: 0 | batch x: [1. 2. 3. 4. 5. 6. 7. 8.] | batch_y: [10.  9.  8.  7.  6.  5.  4.  3.]\n",
      "Epoch: 0 | Step: 1 | batch x: [ 9. 10.] | batch_y: [2. 1.]\n",
      "Epoch: 1 | Step: 0 | batch x: [1. 2. 3. 4. 5. 6. 7. 8.] | batch_y: [10.  9.  8.  7.  6.  5.  4.  3.]\n",
      "Epoch: 1 | Step: 1 | batch x: [ 9. 10.] | batch_y: [2. 1.]\n",
      "Epoch: 2 | Step: 0 | batch x: [1. 2. 3. 4. 5. 6. 7. 8.] | batch_y: [10.  9.  8.  7.  6.  5.  4.  3.]\n",
      "Epoch: 2 | Step: 1 | batch x: [ 9. 10.] | batch_y: [2. 1.]\n"
     ]
    }
   ],
   "source": [
    "BATCH_SIZE = 8   # 5个5个来抽取   # 一个epoch中剩下的不足一次batch的时候会直接全部返回\n",
    "x = torch.linspace(1, 10, 10)  #[1,2,3,4....10]\n",
    "y = torch.linspace(10, 1, 10)  # [10,9,8,7....1]\n",
    "\n",
    "# 先转换成torch能够识别的dataset，将我们自己给的数据转换为数据库\n",
    "torch_dataset = Data.TensorDataset(x,y)  # data - label\n",
    "# 使我们数据变成小批量的\n",
    "loader = Data.DataLoader(\n",
    "    dataset=torch_dataset,\n",
    "    batch_size=BATCH_SIZE,\n",
    "    # shuffle=True,   # 训练的时候要不要打乱数据\n",
    "    shuffle = False,\n",
    "    num_workers=2    # 每一次loader去提取batch_x和batch_y的时候是两个线程/进程来提取\n",
    ")\n",
    "\n",
    "for epoch in range(3):  \n",
    "    # 训练三次, 第一次epoch我们step是2训练两次，然后又继续下一个epoch又循环\n",
    "    # enumerate=用于将一个可遍历的数据对象(如列表、元组或字符串)组合为一个索引序列，同时列出数据和数据下标，一般用在 for 循环当中。\n",
    "    for step, (batch_x, batch_y) in enumerate(loader):\n",
    "        # training....\n",
    "        print(\"Epoch:\", epoch, \"| Step:\", step, \"| batch x:\",\n",
    "             batch_x.numpy(), \"| batch_y:\", batch_y.numpy())"
   ]
  },
  {
   "cell_type": "code",
   "execution_count": null,
   "id": "111a247c",
   "metadata": {},
   "outputs": [],
   "source": []
  }
 ],
 "metadata": {
  "kernelspec": {
   "display_name": "Python 3 (ipykernel)",
   "language": "python",
   "name": "python3"
  },
  "language_info": {
   "codemirror_mode": {
    "name": "ipython",
    "version": 3
   },
   "file_extension": ".py",
   "mimetype": "text/x-python",
   "name": "python",
   "nbconvert_exporter": "python",
   "pygments_lexer": "ipython3",
   "version": "3.7.0"
  }
 },
 "nbformat": 4,
 "nbformat_minor": 5
}

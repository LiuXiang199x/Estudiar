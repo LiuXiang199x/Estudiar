{
 "cells": [
  {
   "cell_type": "code",
   "execution_count": 1,
   "id": "376f981f",
   "metadata": {},
   "outputs": [
    {
     "name": "stdout",
     "output_type": "stream",
     "text": [
      "开启线程： Thread-1\n",
      "开启线程： Thread-2\n",
      "Thread-1: Tue Nov  2 14:48:56 2021\n",
      "Thread-1: Tue Nov  2 14:48:57 2021\n",
      "Thread-1: Tue Nov  2 14:48:58 2021\n",
      "Thread-2: Tue Nov  2 14:49:00 2021\n",
      "Thread-2: Tue Nov  2 14:49:02 2021\n",
      "Thread-2: Tue Nov  2 14:49:04 2021\n",
      "退出主线程\n"
     ]
    }
   ],
   "source": [
    "import threading\n",
    "import time\n",
    "\n",
    "class myThread (threading.Thread):\n",
    "    def __init__(self, threadID, name, counter):\n",
    "        threading.Thread.__init__(self)\n",
    "        self.threadID = threadID\n",
    "        self.name = name\n",
    "        self.counter = counter\n",
    "    def run(self):\n",
    "        print (\"开启线程： \" + self.name)\n",
    "        # 获取锁，用于线程同步\n",
    "        threadLock.acquire()\n",
    "        print_time(self.name, self.counter, 3)\n",
    "        # 释放锁，开启下一个线程\n",
    "        threadLock.release()\n",
    "\n",
    "def print_time(threadName, delay, counter):\n",
    "    while counter:\n",
    "        time.sleep(delay)\n",
    "        print (\"%s: %s\" % (threadName, time.ctime(time.time())))\n",
    "        counter -= 1\n",
    "\n",
    "threadLock = threading.Lock()\n",
    "threads = []\n",
    "\n",
    "# 创建新线程\n",
    "thread1 = myThread(1, \"Thread-1\", 1)\n",
    "thread2 = myThread(2, \"Thread-2\", 2)\n",
    "\n",
    "# 开启新线程\n",
    "thread1.start()\n",
    "thread2.start()\n",
    "\n",
    "# 添加线程到线程列表\n",
    "threads.append(thread1)\n",
    "threads.append(thread2)\n",
    "\n",
    "# 等待所有线程完成\n",
    "for t in threads:\n",
    "    t.join()\n",
    "print (\"退出主线程\")"
   ]
  },
  {
   "cell_type": "code",
   "execution_count": null,
   "id": "a8de2ebb",
   "metadata": {},
   "outputs": [],
   "source": []
  }
 ],
 "metadata": {
  "kernelspec": {
   "display_name": "Python 3 (ipykernel)",
   "language": "python",
   "name": "python3"
  },
  "language_info": {
   "codemirror_mode": {
    "name": "ipython",
    "version": 3
   },
   "file_extension": ".py",
   "mimetype": "text/x-python",
   "name": "python",
   "nbconvert_exporter": "python",
   "pygments_lexer": "ipython3",
   "version": "3.7.0"
  }
 },
 "nbformat": 4,
 "nbformat_minor": 5
}

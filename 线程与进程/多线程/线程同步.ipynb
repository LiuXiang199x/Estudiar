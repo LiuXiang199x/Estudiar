{
 "cells": [
  {
   "cell_type": "code",
   "execution_count": 3,
   "id": "52125b7b",
   "metadata": {},
   "outputs": [],
   "source": [
    "# 多线程的优势在于可以同时运行多个任务（至少感觉起来是这样）。\n",
    "# 但是当线程需要共享数据时，可能存在数据不同步的问题。"
   ]
  },
  {
   "cell_type": "code",
   "execution_count": 8,
   "id": "91ee3c6c",
   "metadata": {},
   "outputs": [
    {
     "name": "stdout",
     "output_type": "stream",
     "text": [
      "0\n"
     ]
    },
    {
     "data": {
      "text/plain": [
       "'\\n# 但是t1和t2是交替运行的，如果操作系统以下面的顺序执行t1、t2：\\n初始值 balance = 0\\n\\nt1: x1 = balance + 5  # x1 = 0 + 5 = 5\\n\\nt2: x2 = balance + 8  # x2 = 0 + 8 = 8\\nt2: balance = x2      # balance = 8\\n\\nt1: balance = x1      # balance = 5\\nt1: x1 = balance - 5  # x1 = 5 - 5 = 0\\nt1: balance = x1      # balance = 0\\n\\nt2: x2 = balance - 8  # x2 = 0 - 8 = -8\\nt2: balance = x2      # balance = -8\\n\\n结果 balance = -8\\n'"
      ]
     },
     "execution_count": 8,
     "metadata": {},
     "output_type": "execute_result"
    }
   ],
   "source": [
    "import time, threading\n",
    "\n",
    "# 假定这是你的银行存款:\n",
    "balance = 0\n",
    "\n",
    "def change_it(n):\n",
    "    # 先存后取，结果应该为0:\n",
    "    global balance\n",
    "    balance = balance + n\n",
    "    balance = balance - n\n",
    "\n",
    "def run_thread(n):\n",
    "    for i in range(2000000):\n",
    "        change_it(n)\n",
    "\n",
    "t1 = threading.Thread(target=run_thread, args=(5,))\n",
    "t2 = threading.Thread(target=run_thread, args=(8,))\n",
    "t1.start()\n",
    "#t2.start()\n",
    "t1.join()\n",
    "# t2.join()\n",
    "print(balance)\n",
    "\n",
    "# 共享变量 balance=0，两个线程先存后取。如果我们只运行thread1或者2，那么balance=0。\n",
    "# 但是两个线程一起开，中间时间交替执行可以看到balance最后就不是0了，两个线程都在操作balance\n",
    "# 为何会这样：CPU执行一条语句是分开若干语句执行的，例如：balance = balance + n\n",
    "# 也分两步：1.算balance + n，存入临时变量中；2.将临时变量的值赋给balance。\n",
    "# x = balance + n； balance = x\n",
    "'''\n",
    "# 由于x是局部变量，两个线程各自都有自己的x，当代码正常执行时：\n",
    "初始值 balance = 0\n",
    "\n",
    "t1: x1 = balance + 5 # x1 = 0 + 5 = 5\n",
    "t1: balance = x1     # balance = 5\n",
    "t1: x1 = balance - 5 # x1 = 5 - 5 = 0\n",
    "t1: balance = x1     # balance = 0\n",
    "\n",
    "t2: x2 = balance + 8 # x2 = 0 + 8 = 8\n",
    "t2: balance = x2     # balance = 8\n",
    "t2: x2 = balance - 8 # x2 = 8 - 8 = 0\n",
    "t2: balance = x2     # balance = 0\n",
    "    \n",
    "结果 balance = 0\n",
    "'''\n",
    "'''\n",
    "# 但是t1和t2是交替运行的，如果操作系统以下面的顺序执行t1、t2：\n",
    "初始值 balance = 0\n",
    "\n",
    "t1: x1 = balance + 5  # x1 = 0 + 5 = 5\n",
    "\n",
    "t2: x2 = balance + 8  # x2 = 0 + 8 = 8\n",
    "t2: balance = x2      # balance = 8\n",
    "\n",
    "t1: balance = x1      # balance = 5\n",
    "t1: x1 = balance - 5  # x1 = 5 - 5 = 0\n",
    "t1: balance = x1      # balance = 0\n",
    "\n",
    "t2: x2 = balance - 8  # x2 = 0 - 8 = -8\n",
    "t2: balance = x2      # balance = -8\n",
    "\n",
    "结果 balance = -8\n",
    "'''"
   ]
  },
  {
   "cell_type": "code",
   "execution_count": 9,
   "id": "b3e76fdd",
   "metadata": {},
   "outputs": [
    {
     "data": {
      "text/plain": [
       "'\\n如果我们要确保balance计算正确，就要给change_it()上一把锁，\\n当某个线程开始执行change_it()时，我们说，该线程因为获得了锁，\\n因此其他线程不能同时执行change_it()，只能等待，直到锁被释放后，获得该锁以后才能改。\\n由于锁只有一个，无论多少线程，同一时刻最多只有一个线程持有该锁，所以不会造成修改的冲突。\\n创建一个锁就是通过threading.Lock()来实现\\n'"
      ]
     },
     "execution_count": 9,
     "metadata": {},
     "output_type": "execute_result"
    }
   ],
   "source": [
    "'''\n",
    "如果我们要确保balance计算正确，就要给change_it()上一把锁，\n",
    "当某个线程开始执行change_it()时，我们说，该线程因为获得了锁，\n",
    "因此其他线程不能同时执行change_it()，只能等待，直到锁被释放后，获得该锁以后才能改。\n",
    "由于锁只有一个，无论多少线程，同一时刻最多只有一个线程持有该锁，所以不会造成修改的冲突。\n",
    "创建一个锁就是通过threading.Lock()来实现\n",
    "'''"
   ]
  },
  {
   "cell_type": "code",
   "execution_count": 11,
   "id": "ee7a327e",
   "metadata": {},
   "outputs": [
    {
     "name": "stdout",
     "output_type": "stream",
     "text": [
      "0\n"
     ]
    }
   ],
   "source": [
    "balance = 0\n",
    "lock = threading.Lock()\n",
    "\n",
    "def run_thread(n):\n",
    "    for i in range(100000):\n",
    "        # 先要获取锁:\n",
    "        lock.acquire()\n",
    "        try:\n",
    "            # 放心地改吧:\n",
    "            change_it(n)\n",
    "        finally:\n",
    "            # 改完了一定要释放锁:\n",
    "            lock.release()\n",
    "            \n",
    "def change_it(n):\n",
    "    # 先存后取，结果应该为0:\n",
    "    global balance\n",
    "    balance = balance + n\n",
    "    balance = balance - n\n",
    "\n",
    "t1 = threading.Thread(target=run_thread, args=(5,))\n",
    "t2 = threading.Thread(target=run_thread, args=(8,))\n",
    "t1.start()\n",
    "t2.start()\n",
    "t1.join()\n",
    "t2.join()\n",
    "print(balance)\n",
    "# 当多个线程同时执行lock.acquire()时，只有一个线程能成功地获取锁，\n",
    "# 然后继续执行代码，其他线程就继续等待直到获得锁为止。"
   ]
  },
  {
   "cell_type": "code",
   "execution_count": null,
   "id": "1e79684b",
   "metadata": {},
   "outputs": [],
   "source": []
  }
 ],
 "metadata": {
  "kernelspec": {
   "display_name": "Python 3 (ipykernel)",
   "language": "python",
   "name": "python3"
  },
  "language_info": {
   "codemirror_mode": {
    "name": "ipython",
    "version": 3
   },
   "file_extension": ".py",
   "mimetype": "text/x-python",
   "name": "python",
   "nbconvert_exporter": "python",
   "pygments_lexer": "ipython3",
   "version": "3.7.0"
  }
 },
 "nbformat": 4,
 "nbformat_minor": 5
}

{
 "cells": [
  {
   "cell_type": "code",
   "execution_count": 23,
   "id": "e347f684",
   "metadata": {},
   "outputs": [],
   "source": [
    "import threading\n",
    "import time"
   ]
  },
  {
   "cell_type": "code",
   "execution_count": null,
   "id": "c1fbe95e",
   "metadata": {},
   "outputs": [],
   "source": [
    "\"\"\"\n",
    "Python3 通过两个标准库 _thread 和 threading 提供对线程的支持。\n",
    "\n",
    "_thread 提供了低级别的、原始的线程以及一个简单的锁，它相比于 threading 模块的功能还是比较有限的。\n",
    "\n",
    "threading 模块除了包含 _thread 模块中的所有方法外，还提供的其他方法：\n",
    "    1. threading.currentThread(): 返回当前的线程变量。\n",
    "    2. threading.enumerate(): 返回一个包含正在运行的线程的list。正在运行指线程启动后、结束前，不包括启动前和终止后的线程。\n",
    "    3. threading.activeCount(): 返回正在运行的线程数量，与len(threading.enumerate())有相同的结果。\n",
    "\n",
    "除了使用方法外，线程模块同样提供了Thread类来处理线程，Thread类提供了以下方法:\n",
    "    run(): 用以表示线程活动的方法。\n",
    "    start():启动线程活动。\n",
    "    join([time]): 等待至线程中止。这阻塞调用线程直至线程的join() 方法被调用中止-正常退出或者抛出未处理的异常-或者是可选的超时发生。\n",
    "    isAlive(): 返回线程是否活动的。\n",
    "    getName(): 返回线程名。\n",
    "    setName(): 设置线程名。\n",
    "\"\"\""
   ]
  },
  {
   "cell_type": "code",
   "execution_count": 46,
   "id": "67133e85",
   "metadata": {},
   "outputs": [],
   "source": [
    "exitFlag = 0\n",
    "\n",
    "class myThread(threading.Thread):\n",
    "    def __init__(self, threadID, name, counter):\n",
    "        threading.Thread.__init__(self)\n",
    "        self.threadID = threadID\n",
    "        self.name = name\n",
    "        self.counter = counter\n",
    "        \n",
    "    def run(self):\n",
    "        print(\"start thread: \", self.name)\n",
    "        self.printtime(self.name, self.counter, 5)\n",
    "        print(\"close thread: \", self.name)\n",
    "        \n",
    "    def printtime(self, threadname, delay, counter):\n",
    "        while counter:\n",
    "            if exitFlag:\n",
    "                threadname.exit()\n",
    "            time.sleep(delay)\n",
    "            print(\"%s: %s\"%(threadname, time.ctime(time.time())))\n",
    "            counter -= 1"
   ]
  },
  {
   "cell_type": "code",
   "execution_count": 47,
   "id": "f23b1506",
   "metadata": {},
   "outputs": [],
   "source": [
    "thread1 = myThread(1, 'thread-1', 1)\n",
    "thread2 = myThread(2, 'thread-2', 2)"
   ]
  },
  {
   "cell_type": "code",
   "execution_count": 48,
   "id": "cf0c24b8",
   "metadata": {
    "scrolled": true
   },
   "outputs": [
    {
     "name": "stdout",
     "output_type": "stream",
     "text": [
      "start thread:  thread-1\n",
      "start thread:  thread-2\n",
      "thread-1: Tue Nov  2 12:35:15 2021\n",
      "thread-2: Tue Nov  2 12:35:16 2021\n",
      "thread-1: Tue Nov  2 12:35:16 2021\n",
      "thread-1: Tue Nov  2 12:35:17 2021\n",
      "thread-2: Tue Nov  2 12:35:18 2021\n",
      "thread-1: Tue Nov  2 12:35:18 2021\n",
      "thread-1: Tue Nov  2 12:35:19 2021\n",
      "close thread:  thread-1\n",
      "exit the main thread\n",
      "thread-2: Tue Nov  2 12:35:20 2021\n",
      "thread-2: Tue Nov  2 12:35:22 2021\n",
      "thread-2: Tue Nov  2 12:35:24 2021\n",
      "close thread:  thread-2\n"
     ]
    }
   ],
   "source": [
    "thread1.start()\n",
    "thread2.start()\n",
    "thread1.join()  \n",
    "# 用来阻塞主线程，如果只join thread1，那么主线程在thread1结束后也会立马运行，不会去管thread2是否还在运行\n",
    "# 这里只join thread2九年呢个达到我们的目的，所以说阻塞最慢的那个即可\n",
    "# thread2.join()\n",
    "print(\"exit the main thread\")"
   ]
  },
  {
   "cell_type": "code",
   "execution_count": 38,
   "id": "5e93ce8c",
   "metadata": {},
   "outputs": [
    {
     "data": {
      "text/plain": [
       "'\\n# thread1.join()\\nthread2.join()\\nstart thread:  thread-1start thread:  thread-2\\n\\nthread-1: Tue Nov  2 11:59:13 2021\\nthread-1: Tue Nov  2 11:59:14 2021\\nthread-2: Tue Nov  2 11:59:14 2021\\nthread-1: Tue Nov  2 11:59:15 2021\\nthread-1: Tue Nov  2 11:59:16 2021\\nthread-2: Tue Nov  2 11:59:16 2021\\nthread-1: Tue Nov  2 11:59:17 2021\\nclose thread:  thread-1\\nthread-2: Tue Nov  2 11:59:18 2021\\nthread-2: Tue Nov  2 11:59:20 2021\\nthread-2: Tue Nov  2 11:59:22 2021\\nclose thread:  thread-2\\nexit the main thread\\n'"
      ]
     },
     "execution_count": 38,
     "metadata": {},
     "output_type": "execute_result"
    }
   ],
   "source": [
    "'''\n",
    "# thread1.join()\n",
    "thread2.join()\n",
    "start thread:  thread-1start thread:  thread-2\n",
    "\n",
    "thread-1: Tue Nov  2 11:59:13 2021\n",
    "thread-1: Tue Nov  2 11:59:14 2021\n",
    "thread-2: Tue Nov  2 11:59:14 2021\n",
    "thread-1: Tue Nov  2 11:59:15 2021\n",
    "thread-1: Tue Nov  2 11:59:16 2021\n",
    "thread-2: Tue Nov  2 11:59:16 2021\n",
    "thread-1: Tue Nov  2 11:59:17 2021\n",
    "close thread:  thread-1\n",
    "thread-2: Tue Nov  2 11:59:18 2021\n",
    "thread-2: Tue Nov  2 11:59:20 2021\n",
    "thread-2: Tue Nov  2 11:59:22 2021\n",
    "close thread:  thread-2\n",
    "exit the main thread\n",
    "'''"
   ]
  },
  {
   "cell_type": "code",
   "execution_count": 42,
   "id": "e8b4e688",
   "metadata": {},
   "outputs": [
    {
     "data": {
      "text/plain": [
       "'\\nthread1.join()\\n# thread2.join()\\nstart thread:  thread-1\\nstart thread:  thread-2\\nthread-1: Tue Nov  2 12:00:55 2021\\nthread-1: Tue Nov  2 12:00:56 2021thread-2: Tue Nov  2 12:00:56 2021\\n\\nthread-1: Tue Nov  2 12:00:57 2021\\nthread-1: Tue Nov  2 12:00:58 2021thread-2: Tue Nov  2 12:00:58 2021\\n\\nthread-1: Tue Nov  2 12:00:59 2021\\nclose thread:  thread-1\\nexit the main thread\\nthread-2: Tue Nov  2 12:01:00 2021\\nthread-2: Tue Nov  2 12:01:03 2021\\nthread-2: Tue Nov  2 12:01:05 2021\\nclose thread:  thread-2\\n'"
      ]
     },
     "execution_count": 42,
     "metadata": {},
     "output_type": "execute_result"
    }
   ],
   "source": [
    "'''\n",
    "thread1.join()\n",
    "# thread2.join()\n",
    "start thread:  thread-1\n",
    "start thread:  thread-2\n",
    "thread-1: Tue Nov  2 12:35:15 2021\n",
    "thread-2: Tue Nov  2 12:35:16 2021\n",
    "thread-1: Tue Nov  2 12:35:16 2021\n",
    "thread-1: Tue Nov  2 12:35:17 2021\n",
    "thread-2: Tue Nov  2 12:35:18 2021\n",
    "thread-1: Tue Nov  2 12:35:18 2021\n",
    "thread-1: Tue Nov  2 12:35:19 2021\n",
    "close thread:  thread-1\n",
    "exit the main thread\n",
    "thread-2: Tue Nov  2 12:35:20 2021\n",
    "thread-2: Tue Nov  2 12:35:22 2021\n",
    "thread-2: Tue Nov  2 12:35:24 2021\n",
    "close thread:  thread-2\n",
    "'''"
   ]
  },
  {
   "cell_type": "code",
   "execution_count": null,
   "id": "fc7b2480",
   "metadata": {},
   "outputs": [],
   "source": [
    "'''\n",
    "# thread1.join()\n",
    "# thread2.join()\n",
    "start thread:  thread-1start thread:  thread-2\n",
    "exit the main thread\n",
    "\n",
    "thread-1: Tue Nov  2 12:27:28 2021\n",
    "thread-2: Tue Nov  2 12:27:29 2021\n",
    "thread-1: Tue Nov  2 12:27:29 2021\n",
    "thread-1: Tue Nov  2 12:27:30 2021\n",
    "thread-2: Tue Nov  2 12:27:31 2021\n",
    "thread-1: Tue Nov  2 12:27:31 2021\n",
    "thread-1: Tue Nov  2 12:27:32 2021\n",
    "close thread:  thread-1\n",
    "thread-2: Tue Nov  2 12:27:33 2021\n",
    "thread-2: Tue Nov  2 12:27:35 2021\n",
    "thread-2: Tue Nov  2 12:27:37 2021\n",
    "close thread:  thread-2\n",
    "'''"
   ]
  }
 ],
 "metadata": {
  "kernelspec": {
   "display_name": "Python 3 (ipykernel)",
   "language": "python",
   "name": "python3"
  },
  "language_info": {
   "codemirror_mode": {
    "name": "ipython",
    "version": 3
   },
   "file_extension": ".py",
   "mimetype": "text/x-python",
   "name": "python",
   "nbconvert_exporter": "python",
   "pygments_lexer": "ipython3",
   "version": "3.7.0"
  }
 },
 "nbformat": 4,
 "nbformat_minor": 5
}

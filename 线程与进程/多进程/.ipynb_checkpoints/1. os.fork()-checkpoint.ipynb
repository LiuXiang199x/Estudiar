{
 "cells": [
  {
   "cell_type": "code",
   "execution_count": 6,
   "id": "5d1856e7",
   "metadata": {},
   "outputs": [
    {
     "name": "stdout",
     "output_type": "stream",
     "text": [
      "Process (17667) start...\n",
      "18195\n",
      "I (17667) just created a child process (18195).\n",
      "0\n",
      "I am child process (18195) and my parent is 17667.\n"
     ]
    }
   ],
   "source": [
    "import os\n",
    "\n",
    "print('Process (%s) start...' % os.getpid())\n",
    "\n",
    "# Only works on Unix/Linux/Mac:\n",
    "# fork()调用一次，返回两次，\n",
    "# 操作系统自动把当前进程（称为父进程）复制了一份（称为子进程），分别在父进程和子进程内返回。\n",
    "pid = os.fork()\n",
    "print(pid)\n",
    "# 当前调用p=fork()的进程为父进程，父进程pid号可以用getpid()获取。\n",
    "# fork()返回一个值给变量p，p正常情况下是一个正整数，表示fork()新产生的子进程的pid号\n",
    "\n",
    "# 第二次返回值是子进程返回p值，事实上，子进程中的p变量得到的值不是子进程的pid号，而是0\n",
    "# 在p=fork()之前，两个进程完全一样，到这一句时，一个进程中p变量值为另一个进程的pid号\n",
    "# 而另一个进程中p变量值为0，从此之后两个进程毫无瓜葛\n",
    "\n",
    "# 如果pid==0说明是进入的儿子的进程，那现在os.getpid()得到儿子的进程而getppid()是爸爸的\n",
    "if pid == 0:\n",
    "    print('I am child process (%s) and my parent is %s.' % (os.getpid(), os.getppid()))\n",
    "\n",
    "# else:进入的父进程，所以os.getpid返回父亲，os.fork()得到儿子进程    \n",
    "else:\n",
    "    print('I (%s) just created a child process (%s).' % (os.getpid(), pid))"
   ]
  },
  {
   "cell_type": "code",
   "execution_count": null,
   "id": "b48a0059",
   "metadata": {},
   "outputs": [],
   "source": []
  }
 ],
 "metadata": {
  "kernelspec": {
   "display_name": "Python 3 (ipykernel)",
   "language": "python",
   "name": "python3"
  },
  "language_info": {
   "codemirror_mode": {
    "name": "ipython",
    "version": 3
   },
   "file_extension": ".py",
   "mimetype": "text/x-python",
   "name": "python",
   "nbconvert_exporter": "python",
   "pygments_lexer": "ipython3",
   "version": "3.7.0"
  }
 },
 "nbformat": 4,
 "nbformat_minor": 5
}

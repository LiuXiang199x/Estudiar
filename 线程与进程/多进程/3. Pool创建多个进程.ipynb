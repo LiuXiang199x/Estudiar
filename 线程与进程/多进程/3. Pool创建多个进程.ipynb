{
 "cells": [
  {
   "cell_type": "code",
   "execution_count": 1,
   "id": "61ddbc40",
   "metadata": {},
   "outputs": [
    {
     "name": "stdout",
     "output_type": "stream",
     "text": [
      "Parent process 19770.\n",
      "Run task 0 (19789)...Run task 3 (19792)...Run task 1 (19790)...Run task 2 (19791)...\n",
      "\n",
      "\n",
      "\n",
      "Task 0 runs 0.04 seconds.\n",
      "Run task 4 (19789)...\n",
      "Waiting for all subprocesses done...\n",
      "Task 2 runs 0.58 seconds.\n",
      "Task 3 runs 1.66 seconds.\n",
      "Task 4 runs 1.97 seconds.\n",
      "Task 1 runs 2.92 seconds.\n",
      "All subprocesses done.\n"
     ]
    }
   ],
   "source": [
    "# 如果要启动大量的子进程，可以用进程池的方式批量创建子进程\n",
    "from multiprocessing import Pool\n",
    "import os, time, random\n",
    "\n",
    "def long_time_task(name):\n",
    "    print('Run task %s (%s)...' % (name, os.getpid()))\n",
    "    start = time.time()\n",
    "    time.sleep(random.random() * 3)\n",
    "    end = time.time()\n",
    "    print('Task %s runs %0.2f seconds.' % (name, (end - start)))\n",
    "\n",
    "if __name__=='__main__':\n",
    "    print('Parent process %s.' % os.getpid())\n",
    "    p = Pool(4)\n",
    "    for i in range(5):\n",
    "        p.apply_async(long_time_task, args=(i,))\n",
    "    print('Waiting for all subprocesses done...')\n",
    "    p.close()\n",
    "    p.join()\n",
    "    print('All subprocesses done.')"
   ]
  },
  {
   "cell_type": "code",
   "execution_count": null,
   "id": "d5e0d093",
   "metadata": {},
   "outputs": [],
   "source": [
    "'''\n",
    "对Pool对象调用join()方法会等待所有子进程执行完毕，调用join()之前必须先调用close()，调用close()之后就不能继续添加新的Process了。\n",
    "请注意输出的结果，task 0，1，2，3是立刻执行的，而task 4要等待前面某个task完成后才执行，这是因为Pool的默认大小在我的电脑上是4，因此，最多同时执行4个进程。\n",
    "这是Pool有意设计的限制，并不是操作系统的限制。如果改成 p = Pool(5)就可以同时跑5个进程。\n",
    "由于Pool的默认大小是CPU的核数，如果你不幸拥有8核CPU，你要提交至少9个子进程才能看到上面的等待效果。\n",
    "'''"
   ]
  }
 ],
 "metadata": {
  "kernelspec": {
   "display_name": "Python 3 (ipykernel)",
   "language": "python",
   "name": "python3"
  },
  "language_info": {
   "codemirror_mode": {
    "name": "ipython",
    "version": 3
   },
   "file_extension": ".py",
   "mimetype": "text/x-python",
   "name": "python",
   "nbconvert_exporter": "python",
   "pygments_lexer": "ipython3",
   "version": "3.7.0"
  }
 },
 "nbformat": 4,
 "nbformat_minor": 5
}

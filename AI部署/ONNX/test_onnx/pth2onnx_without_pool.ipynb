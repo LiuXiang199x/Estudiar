{
 "cells": [
  {
   "cell_type": "code",
   "execution_count": 10,
   "id": "99589c1a",
   "metadata": {},
   "outputs": [],
   "source": [
    "import torch\n",
    "import torchvision\n",
    "import onnx\n",
    "import torch.nn as nn\n",
    "import torch.nn.functional as F\n",
    "import onnxruntime"
   ]
  },
  {
   "cell_type": "code",
   "execution_count": 16,
   "id": "152de5c2",
   "metadata": {},
   "outputs": [
    {
     "name": "stdout",
     "output_type": "stream",
     "text": [
      "1.4.0\n",
      "1.6.0\n",
      "1.6.0\n"
     ]
    }
   ],
   "source": [
    "device = torch.device('cuda:0' if torch.cuda.is_available() else 'cpu')\n",
    "pthfile = 'net_param_without_pool.pth'\n",
    "onnxpath = 'test_without_pool.onnx'\n",
    "print(torch.__version__)\n",
    "print(onnx.__version__)\n",
    "print(onnxruntime.__version__)"
   ]
  },
  {
   "cell_type": "code",
   "execution_count": 17,
   "id": "098cc15a",
   "metadata": {},
   "outputs": [
    {
     "name": "stdout",
     "output_type": "stream",
     "text": [
      "Net(\n",
      "  (conv1): Conv2d(1, 6, kernel_size=(5, 5), stride=(1, 1))\n",
      "  (conv2): Conv2d(6, 16, kernel_size=(5, 5), stride=(1, 1))\n",
      "  (fc1): Linear(in_features=9216, out_features=120, bias=True)\n",
      "  (fc2): Linear(in_features=120, out_features=84, bias=True)\n",
      "  (fc3): Linear(in_features=84, out_features=10, bias=True)\n",
      ")\n"
     ]
    }
   ],
   "source": [
    "class Net(nn.Module):\n",
    "    def __init__(self):\n",
    "        super(Net, self).__init__()\n",
    "        self.conv1 = nn.Conv2d(1, 6, 5)  # 32-4=28\n",
    "        self.conv2 = nn.Conv2d(6, 16, 5)  # 28-4=24\n",
    "        \n",
    "        self.fc1 = nn.Linear(16*24*24, 120)\n",
    "        self.fc2 = nn.Linear(120, 84)\n",
    "        self.fc3 = nn.Linear(84, 10)\n",
    "        \n",
    "    def forward(self, x):\n",
    "        x = F.relu(self.conv1(x))\n",
    "        print(\"after 1 conv:\", x.size())  # [1, 6, 28, 28]\n",
    "        x = F.relu(self.conv2(x)) \n",
    "        print(\"after 2 conv:\", x.size())   # [1, 6, 24, 24]\n",
    "        \n",
    "        x = x.view(-1, self.num_flat_features(x))\n",
    "        x = F.relu(self.fc1(x))\n",
    "        x = F.relu(self.fc2(x))\n",
    "        x = self.fc3(x)\n",
    "        return x\n",
    "    # num_flat_features：计算张量x的总特征量（把每个数字都看出是一个特征，即特征总量）\n",
    "    def num_flat_features(self, x):\n",
    "        size = x.size()[1:]  # all dimensions except the batch dimension(批大小维度)\n",
    "        num_features = 1\n",
    "        for s in size:\n",
    "            num_features *= s\n",
    "        return num_features\n",
    "net = Net()\n",
    "print(net)"
   ]
  },
  {
   "cell_type": "code",
   "execution_count": 18,
   "id": "cec00fe3",
   "metadata": {},
   "outputs": [
    {
     "name": "stdout",
     "output_type": "stream",
     "text": [
      "after 1 conv: torch.Size([1, 6, 28, 28])\n",
      "after 2 conv: torch.Size([1, 16, 24, 24])\n",
      "tensor([[-0.0633,  0.4135, -0.2653,  0.2503, -0.3490,  0.2363, -0.0144, -0.2845,\n",
      "         -0.5569,  0.1053]], grad_fn=<AddmmBackward>)\n"
     ]
    }
   ],
   "source": [
    "x = torch.ones(1,1,32,32)\n",
    "net = Net()\n",
    "net.load_state_dict(torch.load('net_param_without_pool.pth'))\n",
    "net.eval()\n",
    "prediction = net(x)\n",
    "print(prediction)"
   ]
  },
  {
   "cell_type": "code",
   "execution_count": 19,
   "id": "7d4c87de",
   "metadata": {},
   "outputs": [],
   "source": [
    "def test():\n",
    "    batch_size = 1\n",
    "    model = Net()\n",
    "    input_shape = (1, 32, 32)\n",
    "    \n",
    "    # Initialize model with the pretrained weights\n",
    "    map_location = 'gpu' if torch.cuda.is_available() else 'cpu'\n",
    "    loaded_model = torch.load(pthfile, map_location=map_location)\n",
    "    model.load_state_dict(loaded_model, strict=False)\n",
    "    \n",
    "    # set the model to inference mode\n",
    "    model.eval()\n",
    "    \n",
    "    # data type nchw\n",
    "    x = torch.rand(batch_size, *input_shape)\n",
    "    input_names = ['input']\n",
    "    output_names = ['output']\n",
    "    # # Export the model\n",
    "    torch.onnx.export(model, x, \n",
    "                      onnxpath, \n",
    "                      opset_version=11, \n",
    "                      keep_initializers_as_inputs=True, \n",
    "                      verbose=True)"
   ]
  },
  {
   "cell_type": "code",
   "execution_count": 20,
   "id": "453679fc",
   "metadata": {},
   "outputs": [
    {
     "name": "stdout",
     "output_type": "stream",
     "text": [
      "after 1 conv: torch.Size([1, 6, 28, 28])\n",
      "after 2 conv: torch.Size([1, 16, 24, 24])\n",
      "graph(%input.1 : Float(1, 1, 32, 32),\n",
      "      %conv1.weight : Float(6, 1, 5, 5),\n",
      "      %conv1.bias : Float(6),\n",
      "      %conv2.weight : Float(16, 6, 5, 5),\n",
      "      %conv2.bias : Float(16),\n",
      "      %fc1.weight : Float(120, 9216),\n",
      "      %fc1.bias : Float(120),\n",
      "      %fc2.weight : Float(84, 120),\n",
      "      %fc2.bias : Float(84),\n",
      "      %fc3.weight : Float(10, 84),\n",
      "      %fc3.bias : Float(10)):\n",
      "  %11 : Float(1, 6, 28, 28) = onnx::Conv[dilations=[1, 1], group=1, kernel_shape=[5, 5], pads=[0, 0, 0, 0], strides=[1, 1]](%input.1, %conv1.weight, %conv1.bias) # /home/xiang/anaconda3/envs/py37/lib/python3.7/site-packages/torch/nn/modules/conv.py:342:0\n",
      "  %12 : Float(1, 6, 28, 28) = onnx::Relu(%11) # /home/xiang/anaconda3/envs/py37/lib/python3.7/site-packages/torch/nn/functional.py:914:0\n",
      "  %13 : Float(1, 16, 24, 24) = onnx::Conv[dilations=[1, 1], group=1, kernel_shape=[5, 5], pads=[0, 0, 0, 0], strides=[1, 1]](%12, %conv2.weight, %conv2.bias) # /home/xiang/anaconda3/envs/py37/lib/python3.7/site-packages/torch/nn/modules/conv.py:342:0\n",
      "  %14 : Float(1, 16, 24, 24) = onnx::Relu(%13) # /home/xiang/anaconda3/envs/py37/lib/python3.7/site-packages/torch/nn/functional.py:914:0\n",
      "  %15 : Tensor = onnx::Shape(%14)\n",
      "  %16 : Tensor = onnx::Constant[value={1}]()\n",
      "  %17 : Long() = onnx::Gather[axis=0](%15, %16) # /tmp/ipykernel_50258/3763750918.py:24:0\n",
      "  %18 : Tensor = onnx::Shape(%14)\n",
      "  %19 : Tensor = onnx::Constant[value={2}]()\n",
      "  %20 : Long() = onnx::Gather[axis=0](%18, %19) # /tmp/ipykernel_50258/3763750918.py:24:0\n",
      "  %21 : Tensor = onnx::Shape(%14)\n",
      "  %22 : Tensor = onnx::Constant[value={3}]()\n",
      "  %23 : Long() = onnx::Gather[axis=0](%21, %22) # /tmp/ipykernel_50258/3763750918.py:24:0\n",
      "  %24 : Long() = onnx::Mul(%17, %20) # /tmp/ipykernel_50258/3763750918.py:27:0\n",
      "  %25 : Long() = onnx::Mul(%24, %23) # /tmp/ipykernel_50258/3763750918.py:27:0\n",
      "  %26 : Long() = onnx::Constant[value={-1}]()\n",
      "  %27 : Tensor = onnx::Unsqueeze[axes=[0]](%26)\n",
      "  %28 : Tensor = onnx::Unsqueeze[axes=[0]](%25)\n",
      "  %29 : Tensor = onnx::Concat[axis=0](%27, %28)\n",
      "  %30 : Float(1, 9216) = onnx::Reshape(%14, %29) # /tmp/ipykernel_50258/3763750918.py:17:0\n",
      "  %31 : Float(1, 120) = onnx::Gemm[alpha=1, beta=1, transB=1](%30, %fc1.weight, %fc1.bias) # /home/xiang/anaconda3/envs/py37/lib/python3.7/site-packages/torch/nn/functional.py:1370:0\n",
      "  %32 : Float(1, 120) = onnx::Relu(%31) # /home/xiang/anaconda3/envs/py37/lib/python3.7/site-packages/torch/nn/functional.py:914:0\n",
      "  %33 : Float(1, 84) = onnx::Gemm[alpha=1, beta=1, transB=1](%32, %fc2.weight, %fc2.bias) # /home/xiang/anaconda3/envs/py37/lib/python3.7/site-packages/torch/nn/functional.py:1370:0\n",
      "  %34 : Float(1, 84) = onnx::Relu(%33) # /home/xiang/anaconda3/envs/py37/lib/python3.7/site-packages/torch/nn/functional.py:914:0\n",
      "  %35 : Float(1, 10) = onnx::Gemm[alpha=1, beta=1, transB=1](%34, %fc3.weight, %fc3.bias) # /home/xiang/anaconda3/envs/py37/lib/python3.7/site-packages/torch/nn/functional.py:1370:0\n",
      "  return (%35)\n",
      "\n"
     ]
    },
    {
     "name": "stderr",
     "output_type": "stream",
     "text": [
      "/home/xiang/anaconda3/envs/py37/lib/python3.7/site-packages/ipykernel_launcher.py:13: TracerWarning: Converting a tensor to a Python integer might cause the trace to be incorrect. We can't record the data flow of Python values, so this value will be treated as a constant in the future. This means that the trace might not generalize to other inputs!\n",
      "  del sys.path[0]\n",
      "/home/xiang/anaconda3/envs/py37/lib/python3.7/site-packages/ipykernel_launcher.py:15: TracerWarning: Converting a tensor to a Python integer might cause the trace to be incorrect. We can't record the data flow of Python values, so this value will be treated as a constant in the future. This means that the trace might not generalize to other inputs!\n",
      "  from ipykernel import kernelapp as app\n"
     ]
    }
   ],
   "source": [
    "test()"
   ]
  },
  {
   "cell_type": "code",
   "execution_count": null,
   "id": "b5651d38",
   "metadata": {},
   "outputs": [],
   "source": []
  }
 ],
 "metadata": {
  "kernelspec": {
   "display_name": "Python 3 (ipykernel)",
   "language": "python",
   "name": "python3"
  },
  "language_info": {
   "codemirror_mode": {
    "name": "ipython",
    "version": 3
   },
   "file_extension": ".py",
   "mimetype": "text/x-python",
   "name": "python",
   "nbconvert_exporter": "python",
   "pygments_lexer": "ipython3",
   "version": "3.7.0"
  }
 },
 "nbformat": 4,
 "nbformat_minor": 5
}

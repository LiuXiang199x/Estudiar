{
 "cells": [
  {
   "cell_type": "code",
   "execution_count": 3,
   "id": "14da53cc",
   "metadata": {},
   "outputs": [],
   "source": [
    "import torch\n",
    "import torchvision\n",
    "import onnx\n",
    "import torch.nn as nn\n",
    "import torch.nn.functional as F"
   ]
  },
  {
   "cell_type": "code",
   "execution_count": 4,
   "id": "0947fbaf",
   "metadata": {},
   "outputs": [
    {
     "data": {
      "text/plain": [
       "<torch._C.Generator at 0x7f23e67b2cb0>"
      ]
     },
     "execution_count": 4,
     "metadata": {},
     "output_type": "execute_result"
    }
   ],
   "source": [
    "torch.manual_seed(1)"
   ]
  },
  {
   "cell_type": "code",
   "execution_count": 5,
   "id": "a723b011",
   "metadata": {},
   "outputs": [
    {
     "name": "stdout",
     "output_type": "stream",
     "text": [
      "Net(\n",
      "  (conv1): Conv2d(1, 6, kernel_size=(5, 5), stride=(1, 1))\n",
      "  (conv2): Conv2d(6, 16, kernel_size=(5, 5), stride=(1, 1))\n",
      "  (fc1): Linear(in_features=400, out_features=120, bias=True)\n",
      "  (fc2): Linear(in_features=120, out_features=84, bias=True)\n",
      "  (fc3): Linear(in_features=84, out_features=10, bias=True)\n",
      ")\n"
     ]
    }
   ],
   "source": [
    "class Net(nn.Module):\n",
    "    def __init__(self):\n",
    "        super(Net, self).__init__()\n",
    "        self.conv1 = nn.Conv2d(1, 6, 5)\n",
    "        self.conv2 = nn.Conv2d(6, 16, 5)\n",
    "        \n",
    "        self.fc1 = nn.Linear(16*5*5, 120)\n",
    "        self.fc2 = nn.Linear(120, 84)\n",
    "        self.fc3 = nn.Linear(84, 10)\n",
    "        \n",
    "    def forward(self, x):\n",
    "        x = F.max_pool2d(F.relu(self.conv1(x)), (2,2))\n",
    "        x = F.max_pool2d(F.relu(self.conv2(x)), 2)\n",
    "        x = x.view(-1, self.num_flat_features(x))\n",
    "        x = F.relu(self.fc1(x))\n",
    "        x = F.relu(self.fc2(x))\n",
    "        x = self.fc3(x)\n",
    "        return x\n",
    "    \n",
    "    def num_flat_features(self, x):\n",
    "        size = x.size()[1:]  # all dimensions except the batch dimension(批大小维度)\n",
    "        num_features = 1\n",
    "        for s in size:\n",
    "            num_features *= s\n",
    "        return num_features\n",
    "\n",
    "\n",
    "net = Net()\n",
    "print(net)"
   ]
  },
  {
   "cell_type": "code",
   "execution_count": 6,
   "id": "1e094da5",
   "metadata": {},
   "outputs": [
    {
     "name": "stdout",
     "output_type": "stream",
     "text": [
      "10\n",
      "<class 'torch.nn.parameter.Parameter'>\n",
      "第0个参数形状为torch.Size([6, 1, 5, 5])\n",
      "第1个参数形状为torch.Size([6])\n",
      "第2个参数形状为torch.Size([16, 6, 5, 5])\n",
      "第3个参数形状为torch.Size([16])\n",
      "第4个参数形状为torch.Size([120, 400])\n",
      "第5个参数形状为torch.Size([120])\n",
      "第6个参数形状为torch.Size([84, 120])\n",
      "第7个参数形状为torch.Size([84])\n",
      "第8个参数形状为torch.Size([10, 84])\n",
      "第9个参数形状为torch.Size([10])\n"
     ]
    }
   ],
   "source": [
    "params = list(net.parameters())\n",
    "print(len(params))\n",
    "print(type(params[0]))\n",
    "for i in range(10):\n",
    "    print(\"第{}个参数形状为{}\".format(i,params[i].size()))"
   ]
  },
  {
   "cell_type": "code",
   "execution_count": 7,
   "id": "ed84c7c1",
   "metadata": {},
   "outputs": [
    {
     "name": "stdout",
     "output_type": "stream",
     "text": [
      "tensor([[[[ 0.3889,  0.2365,  0.6433,  ...,  0.4024, -1.7507,  0.7494],\n",
      "          [ 0.1942, -0.5817,  1.0935,  ...,  1.0392, -0.9482,  0.5560],\n",
      "          [ 0.1490,  0.4119, -0.2119,  ...,  0.6395, -0.3441,  0.1987],\n",
      "          ...,\n",
      "          [ 0.3519, -0.4162,  0.4879,  ...,  1.9595,  0.4943, -1.0916],\n",
      "          [-0.8808, -0.8463,  1.2546,  ..., -0.7825, -1.3408, -0.8927],\n",
      "          [-0.2942, -0.1980,  0.0215,  ..., -0.8730, -0.2482, -0.9396]]]])\n",
      "conv1输出的形状： torch.Size([1, 6, 28, 28])\n",
      "输出层形状 torch.Size([1, 10])\n",
      "输出层结果： tensor([[ 0.0457, -0.0500,  0.0811, -0.0702, -0.0676, -0.0173,  0.0802, -0.0525,\n",
      "         -0.1420,  0.0894]], grad_fn=<AddmmBackward>)\n"
     ]
    }
   ],
   "source": [
    "input = torch.randn(1, 1, 32, 32)\n",
    "print(input)\n",
    "print('conv1输出的形状：',net.conv1(input).size()) # conv1输出的形状\n",
    "\n",
    "out = net(input)\n",
    "print('输出层形状',out.size())\n",
    "print('输出层结果：',out)"
   ]
  },
  {
   "cell_type": "code",
   "execution_count": 14,
   "id": "e1742520",
   "metadata": {},
   "outputs": [
    {
     "name": "stdout",
     "output_type": "stream",
     "text": [
      "target: tensor([[-0.4072,  1.1454,  1.0253, -0.6259, -0.3500,  0.0630,  1.2650, -2.1565,\n",
      "          0.1425,  1.4169]])\n",
      "loss: tensor(1.4198, grad_fn=<MseLossBackward>)\n",
      "\n",
      "反向跟踪loss,使用它的.grad_fn属性,你会看到向下面这样的一个计算图:\n",
      "input -> conv2d -> relu -> maxpool2d -> conv2d -> relu -> maxpool2d -> view -> linear -> relu -> linear -> relu -> linear -> MSELoss -> loss\n",
      "<MseLossBackward object at 0x7f236226fd68>\n",
      "<AddmmBackward object at 0x7f23e6f26908>\n",
      "<AccumulateGrad object at 0x7f236226fd68>\n"
     ]
    }
   ],
   "source": [
    "output = net(input)\n",
    "target = torch.randn(10)  # a dummy target, for example\n",
    "target = target.view(1, -1)  # make it the same shape as output\n",
    "criterion = nn.MSELoss() \n",
    "print(\"target:\", target)\n",
    "\n",
    "loss = criterion(output, target)\n",
    "print('loss:',loss)\n",
    "print('''\n",
    "反向跟踪loss,使用它的.grad_fn属性,你会看到向下面这样的一个计算图:\n",
    "input -> conv2d -> relu -> maxpool2d -> conv2d -> relu -> maxpool2d -> view -> linear -> relu -> linear -> relu -> linear -> MSELoss -> loss''')\n",
    "print(loss.grad_fn)  # MSELoss\n",
    "print(loss.grad_fn.next_functions[0][0])  # Linear\n",
    "print(loss.grad_fn.next_functions[0][0].next_functions[0][0]) # ReLU"
   ]
  },
  {
   "cell_type": "code",
   "execution_count": 9,
   "id": "5f40b241",
   "metadata": {},
   "outputs": [],
   "source": [
    "# 优化器\n",
    "optimizer = torch.optim.SGD(net.parameters(),lr=0.1)"
   ]
  },
  {
   "cell_type": "code",
   "execution_count": 10,
   "id": "fd00d92e",
   "metadata": {},
   "outputs": [
    {
     "name": "stdout",
     "output_type": "stream",
     "text": [
      "tensor(0.7358, grad_fn=<MseLossBackward>)\n",
      "tensor(0.6271, grad_fn=<MseLossBackward>)\n",
      "tensor(0.5315, grad_fn=<MseLossBackward>)\n",
      "tensor(0.3964, grad_fn=<MseLossBackward>)\n",
      "tensor(0.1981, grad_fn=<MseLossBackward>)\n",
      "tensor(0.0365, grad_fn=<MseLossBackward>)\n",
      "tensor(0.0069, grad_fn=<MseLossBackward>)\n",
      "tensor(0.0015, grad_fn=<MseLossBackward>)\n",
      "tensor(0.0007, grad_fn=<MseLossBackward>)\n",
      "tensor(0.0008, grad_fn=<MseLossBackward>)\n",
      "tensor(0.0009, grad_fn=<MseLossBackward>)\n",
      "tensor(0.0013, grad_fn=<MseLossBackward>)\n",
      "tensor(0.0015, grad_fn=<MseLossBackward>)\n",
      "tensor(0.0022, grad_fn=<MseLossBackward>)\n",
      "tensor(0.0025, grad_fn=<MseLossBackward>)\n",
      "tensor(0.0038, grad_fn=<MseLossBackward>)\n",
      "tensor(0.0039, grad_fn=<MseLossBackward>)\n",
      "tensor(0.0061, grad_fn=<MseLossBackward>)\n",
      "tensor(0.0059, grad_fn=<MseLossBackward>)\n",
      "tensor(0.0094, grad_fn=<MseLossBackward>)\n",
      "tensor(0.0081, grad_fn=<MseLossBackward>)\n",
      "tensor(0.0133, grad_fn=<MseLossBackward>)\n",
      "tensor(0.0103, grad_fn=<MseLossBackward>)\n",
      "tensor(0.0171, grad_fn=<MseLossBackward>)\n",
      "tensor(0.0118, grad_fn=<MseLossBackward>)\n",
      "tensor(0.0197, grad_fn=<MseLossBackward>)\n",
      "tensor(0.0126, grad_fn=<MseLossBackward>)\n",
      "tensor(0.0208, grad_fn=<MseLossBackward>)\n",
      "tensor(0.0126, grad_fn=<MseLossBackward>)\n",
      "tensor(0.0206, grad_fn=<MseLossBackward>)\n",
      "tensor(0.0123, grad_fn=<MseLossBackward>)\n",
      "tensor(0.0198, grad_fn=<MseLossBackward>)\n",
      "tensor(0.0117, grad_fn=<MseLossBackward>)\n",
      "tensor(0.0186, grad_fn=<MseLossBackward>)\n",
      "tensor(0.0112, grad_fn=<MseLossBackward>)\n",
      "tensor(0.0174, grad_fn=<MseLossBackward>)\n",
      "tensor(0.0105, grad_fn=<MseLossBackward>)\n",
      "tensor(0.0162, grad_fn=<MseLossBackward>)\n",
      "tensor(0.0099, grad_fn=<MseLossBackward>)\n",
      "tensor(0.0150, grad_fn=<MseLossBackward>)\n",
      "tensor(0.0094, grad_fn=<MseLossBackward>)\n",
      "tensor(0.0139, grad_fn=<MseLossBackward>)\n",
      "tensor(0.0088, grad_fn=<MseLossBackward>)\n",
      "tensor(0.0129, grad_fn=<MseLossBackward>)\n",
      "tensor(0.0083, grad_fn=<MseLossBackward>)\n",
      "tensor(0.0120, grad_fn=<MseLossBackward>)\n",
      "tensor(0.0078, grad_fn=<MseLossBackward>)\n",
      "tensor(0.0111, grad_fn=<MseLossBackward>)\n",
      "tensor(0.0073, grad_fn=<MseLossBackward>)\n",
      "tensor(0.0103, grad_fn=<MseLossBackward>)\n",
      "tensor(0.0068, grad_fn=<MseLossBackward>)\n",
      "tensor(0.0095, grad_fn=<MseLossBackward>)\n",
      "tensor(0.0064, grad_fn=<MseLossBackward>)\n",
      "tensor(0.0087, grad_fn=<MseLossBackward>)\n",
      "tensor(0.0060, grad_fn=<MseLossBackward>)\n",
      "tensor(0.0081, grad_fn=<MseLossBackward>)\n",
      "tensor(0.0056, grad_fn=<MseLossBackward>)\n",
      "tensor(0.0075, grad_fn=<MseLossBackward>)\n",
      "tensor(0.0052, grad_fn=<MseLossBackward>)\n",
      "tensor(0.0069, grad_fn=<MseLossBackward>)\n",
      "tensor(0.0049, grad_fn=<MseLossBackward>)\n",
      "tensor(0.0064, grad_fn=<MseLossBackward>)\n",
      "tensor(0.0046, grad_fn=<MseLossBackward>)\n",
      "tensor(0.0060, grad_fn=<MseLossBackward>)\n",
      "tensor(0.0043, grad_fn=<MseLossBackward>)\n",
      "tensor(0.0055, grad_fn=<MseLossBackward>)\n",
      "tensor(0.0041, grad_fn=<MseLossBackward>)\n",
      "tensor(0.0051, grad_fn=<MseLossBackward>)\n",
      "tensor(0.0038, grad_fn=<MseLossBackward>)\n",
      "tensor(0.0048, grad_fn=<MseLossBackward>)\n",
      "tensor(0.0036, grad_fn=<MseLossBackward>)\n",
      "tensor(0.0044, grad_fn=<MseLossBackward>)\n",
      "tensor(0.0033, grad_fn=<MseLossBackward>)\n",
      "tensor(0.0041, grad_fn=<MseLossBackward>)\n",
      "tensor(0.0031, grad_fn=<MseLossBackward>)\n",
      "tensor(0.0039, grad_fn=<MseLossBackward>)\n",
      "tensor(0.0030, grad_fn=<MseLossBackward>)\n",
      "tensor(0.0036, grad_fn=<MseLossBackward>)\n",
      "tensor(0.0028, grad_fn=<MseLossBackward>)\n",
      "tensor(0.0033, grad_fn=<MseLossBackward>)\n",
      "tensor(0.0026, grad_fn=<MseLossBackward>)\n",
      "tensor(0.0031, grad_fn=<MseLossBackward>)\n",
      "tensor(0.0024, grad_fn=<MseLossBackward>)\n",
      "tensor(0.0029, grad_fn=<MseLossBackward>)\n",
      "tensor(0.0023, grad_fn=<MseLossBackward>)\n",
      "tensor(0.0027, grad_fn=<MseLossBackward>)\n",
      "tensor(0.0022, grad_fn=<MseLossBackward>)\n",
      "tensor(0.0025, grad_fn=<MseLossBackward>)\n",
      "tensor(0.0020, grad_fn=<MseLossBackward>)\n",
      "tensor(0.0024, grad_fn=<MseLossBackward>)\n",
      "tensor(0.0019, grad_fn=<MseLossBackward>)\n",
      "tensor(0.0022, grad_fn=<MseLossBackward>)\n",
      "tensor(0.0018, grad_fn=<MseLossBackward>)\n",
      "tensor(0.0021, grad_fn=<MseLossBackward>)\n",
      "tensor(0.0017, grad_fn=<MseLossBackward>)\n",
      "tensor(0.0019, grad_fn=<MseLossBackward>)\n",
      "tensor(0.0016, grad_fn=<MseLossBackward>)\n",
      "tensor(0.0018, grad_fn=<MseLossBackward>)\n",
      "tensor(0.0015, grad_fn=<MseLossBackward>)\n",
      "tensor(0.0017, grad_fn=<MseLossBackward>)\n"
     ]
    }
   ],
   "source": [
    "for epoch in range(100):\n",
    "    optimizer.zero_grad()\n",
    "    output = net(input)\n",
    "    loss = criterion(output, target)\n",
    "    print(loss)\n",
    "    loss.backward()\n",
    "    optimizer.step()"
   ]
  },
  {
   "cell_type": "code",
   "execution_count": 11,
   "id": "e93cfd66",
   "metadata": {},
   "outputs": [
    {
     "name": "stderr",
     "output_type": "stream",
     "text": [
      "/home/xiang/anaconda3/envs/py37/lib/python3.7/site-packages/torch/serialization.py:360: UserWarning: Couldn't retrieve source code for container of type Net. It won't be checked for correctness upon loading.\n",
      "  \"type \" + obj.__name__ + \". It won't be checked \"\n"
     ]
    }
   ],
   "source": [
    "torch.save(net, 'net.pth')  # 保存整个网络\n",
    "torch.save(net.state_dict(), 'net_params.pth')   # 只保存网络中的参数 (速度快, 占内存少)"
   ]
  },
  {
   "cell_type": "code",
   "execution_count": 12,
   "id": "7a82bde6",
   "metadata": {},
   "outputs": [
    {
     "name": "stdout",
     "output_type": "stream",
     "text": [
      "tensor([[-0.7142,  0.4877,  0.4872,  0.0903, -0.2065, -0.4697, -0.4465, -0.1339,\n",
      "         -0.3003,  0.1789]], grad_fn=<AddmmBackward>)\n"
     ]
    }
   ],
   "source": [
    "input2 = torch.ones(1,1,32,32)\n",
    "print(net(input2))"
   ]
  },
  {
   "cell_type": "code",
   "execution_count": null,
   "id": "4e6ccd33",
   "metadata": {},
   "outputs": [],
   "source": []
  }
 ],
 "metadata": {
  "kernelspec": {
   "display_name": "Python 3 (ipykernel)",
   "language": "python",
   "name": "python3"
  },
  "language_info": {
   "codemirror_mode": {
    "name": "ipython",
    "version": 3
   },
   "file_extension": ".py",
   "mimetype": "text/x-python",
   "name": "python",
   "nbconvert_exporter": "python",
   "pygments_lexer": "ipython3",
   "version": "3.7.0"
  }
 },
 "nbformat": 4,
 "nbformat_minor": 5
}

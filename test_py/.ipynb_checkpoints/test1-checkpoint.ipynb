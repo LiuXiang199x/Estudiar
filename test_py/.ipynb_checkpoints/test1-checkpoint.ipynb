{
 "cells": [
  {
   "cell_type": "code",
   "execution_count": 1,
   "id": "c03fd344",
   "metadata": {},
   "outputs": [],
   "source": [
    "import numpy as np\n",
    "import pandas as pd"
   ]
  },
  {
   "cell_type": "code",
   "execution_count": 7,
   "id": "2525cd23",
   "metadata": {},
   "outputs": [
    {
     "name": "stdout",
     "output_type": "stream",
     "text": [
      "[[1. 0. 1.]\n",
      " [0. 1. 1.]\n",
      " [1. 0. 1.]]\n"
     ]
    }
   ],
   "source": [
    "name = ['a', 'b', 'c']\n",
    "index = [0, 1, 2]\n",
    "data = np.array([[1., 0., 1.],\n",
    "                 [0., 1., 1.],\n",
    "                 [1., 0., 1.]])\n",
    "print(data)"
   ]
  },
  {
   "cell_type": "code",
   "execution_count": 58,
   "id": "e7251ef3",
   "metadata": {},
   "outputs": [
    {
     "name": "stdout",
     "output_type": "stream",
     "text": [
      "     a    b    c\n",
      "0  1.0  0.0  1.0\n",
      "1  0.0  1.0  1.0\n",
      "2  1.0  0.0  1.0\n"
     ]
    }
   ],
   "source": [
    "dataset = pd.DataFrame(data=data, index=index, columns=name)\n",
    "print(dataset)"
   ]
  },
  {
   "cell_type": "code",
   "execution_count": 64,
   "id": "02405044",
   "metadata": {
    "scrolled": true
   },
   "outputs": [
    {
     "name": "stdout",
     "output_type": "stream",
     "text": [
      "     0\n",
      "0  5.0\n",
      "1  4.0\n",
      "2  5.0\n"
     ]
    }
   ],
   "source": [
    "output = []\n",
    "for item in dataset.index:\n",
    "    \n",
    "    # values of rows\n",
    "    a = np.array(dataset.loc[item])\n",
    "    \n",
    "    # get nonzero position\n",
    "    nonzero_pos = np.nonzero(a)[0]\n",
    "    \n",
    "    # tmp var for sum of each row\n",
    "    tmp_row = 0\n",
    "    \n",
    "    for position in nonzero_pos:\n",
    "        column_name = name[position]\n",
    "        tmp_row += np.sum(dataset[column_name])\n",
    "\n",
    "    # print(\"index为%d: %d\"%(item,tmp_row))\n",
    "    output.append(tmp_row)\n",
    "\n",
    "output_ = pd.DataFrame(data=output, index=index)\n",
    "print(output_)"
   ]
  },
  {
   "cell_type": "code",
   "execution_count": null,
   "id": "16ffa503",
   "metadata": {},
   "outputs": [],
   "source": []
  }
 ],
 "metadata": {
  "kernelspec": {
   "display_name": "Python 3 (ipykernel)",
   "language": "python",
   "name": "python3"
  },
  "language_info": {
   "codemirror_mode": {
    "name": "ipython",
    "version": 3
   },
   "file_extension": ".py",
   "mimetype": "text/x-python",
   "name": "python",
   "nbconvert_exporter": "python",
   "pygments_lexer": "ipython3",
   "version": "3.7.0"
  }
 },
 "nbformat": 4,
 "nbformat_minor": 5
}

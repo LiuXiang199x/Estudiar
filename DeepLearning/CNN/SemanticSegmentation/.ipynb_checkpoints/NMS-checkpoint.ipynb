{
 "cells": [
  {
   "cell_type": "code",
   "execution_count": 2,
   "id": "80e7ad0e",
   "metadata": {},
   "outputs": [],
   "source": [
    "import numpy as np\n",
    "import torch"
   ]
  },
  {
   "cell_type": "code",
   "execution_count": 3,
   "id": "450218d2",
   "metadata": {},
   "outputs": [
    {
     "name": "stdout",
     "output_type": "stream",
     "text": [
      "result:  [1, 0, 3]\n"
     ]
    }
   ],
   "source": [
    "def py_cpu_nms(dets, thresh):\n",
    "    #x1、y1、x2、y2、以及score赋值\n",
    "    x1 = dets[:, 0]                     # pred bbox top_x\n",
    "    y1 = dets[:, 1]                     # pred bbox top_y\n",
    "    x2 = dets[:, 2]                     # pred bbox bottom_x\n",
    "    y2 = dets[:, 3]                     # pred bbox bottom_y\n",
    "    scores = dets[:, 4]              # pred bbox cls score\n",
    "    #每一个检测框的面积\n",
    "    areas = (x2 - x1 + 1) * (y2 - y1 + 1)    # pred bbox areas\n",
    "    order = scores.argsort()[::-1]              # 对pred bbox按score做降序排序，对应step-2\n",
    "    #保留的结果框集合\n",
    "    keep = []    \n",
    "    while order.size > 0:\n",
    "        i = order[0]          # top-1 score bbox\n",
    "        keep.append(i)   #保留该类剩余box中得分最高的一个\n",
    "        #得到相交区域,左上及右下\n",
    "        xx1 = np.maximum(x1[i], x1[order[1:]])   # top-1 bbox（score最大）与order中剩余bbox计算NMS\n",
    "        yy1 = np.maximum(y1[i], y1[order[1:]])\n",
    "        xx2 = np.minimum(x2[i], x2[order[1:]])\n",
    "        yy2 = np.minimum(y2[i], y2[order[1:]])\n",
    "        \n",
    "        #计算相交的面积,不重叠时面积为0\n",
    "        w = np.maximum(0.0, xx2 - xx1 + 1)\n",
    "        h = np.maximum(0.0, yy2 - yy1 + 1)\n",
    "        inter = w * h\n",
    "        #计算IoU：重叠面积 /（面积1+面积2-重叠面积）\n",
    "        ovr = inter / (areas[i] + areas[order[1:]] - inter)\n",
    "        #保留IoU小于阈值的box\n",
    "        inds = np.where(ovr <= thresh)[0]     # 这个操作可以对代码断点调试理解下，结合step-3，我们希望剔除所有与当前top-1 bbox IoU > thresh的冗余bbox，那么保留下来的bbox，自然就是ovr <= thresh的非冗余bbox，其inds保留下来，作进一步筛选\n",
    "        #因为ovr数组的长度比order数组少一个，所以这里要将所有下标后移一位\n",
    "        order = order[inds + 1]   # 保留有效bbox，就是这轮NMS未被抑制掉的幸运儿，为什么 + 1？因为ind = 0就是这轮NMS的top-1，剩余有效bbox在IoU计算中与top-1做的计算，inds对应回原数组，自然要做 +1 的映射，接下来就是step-4的循环\n",
    "\n",
    "    return keep    # 最终NMS结果返回\n",
    "\n",
    "if __name__ == '__main__':\n",
    "    dets = np.array([[100,120,170,200,0.98],\n",
    "                     [20,40,80,90,0.99],\n",
    "                     [20,38,82,88,0.96],\n",
    "                     [200,380,282,488,0.9],\n",
    "                     [19,38,75,91, 0.8]])\n",
    "\n",
    "    result = py_cpu_nms(dets, 0.5)\n",
    "    print(\"result: \", result)"
   ]
  },
  {
   "cell_type": "code",
   "execution_count": null,
   "id": "bea03856",
   "metadata": {},
   "outputs": [],
   "source": []
  }
 ],
 "metadata": {
  "kernelspec": {
   "display_name": "Python 3 (ipykernel)",
   "language": "python",
   "name": "python3"
  },
  "language_info": {
   "codemirror_mode": {
    "name": "ipython",
    "version": 3
   },
   "file_extension": ".py",
   "mimetype": "text/x-python",
   "name": "python",
   "nbconvert_exporter": "python",
   "pygments_lexer": "ipython3",
   "version": "3.7.0"
  }
 },
 "nbformat": 4,
 "nbformat_minor": 5
}

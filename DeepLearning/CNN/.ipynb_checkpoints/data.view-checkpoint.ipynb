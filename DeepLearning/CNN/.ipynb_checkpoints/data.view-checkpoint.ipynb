{
 "cells": [
  {
   "cell_type": "code",
   "execution_count": 14,
   "id": "7f143422",
   "metadata": {},
   "outputs": [],
   "source": [
    "import torch"
   ]
  },
  {
   "cell_type": "code",
   "execution_count": 32,
   "id": "e7bb188a",
   "metadata": {},
   "outputs": [
    {
     "name": "stdout",
     "output_type": "stream",
     "text": [
      "tensor([0.4716, 0.6204, 0.9053, 0.3768, 0.0322, 0.8834, 0.3157])\n"
     ]
    }
   ],
   "source": [
    "x = torch.rand(1,1,2,3)\n",
    "y = torch.rand(7)  # 均匀分布\n",
    "print(y)"
   ]
  },
  {
   "cell_type": "code",
   "execution_count": 33,
   "id": "bd4e2f7d",
   "metadata": {},
   "outputs": [
    {
     "name": "stdout",
     "output_type": "stream",
     "text": [
      "torch.Size([1, 1, 2, 3])\n",
      "tensor([[[[0.2907, 0.7564, 0.5959],\n",
      "          [0.0264, 0.4846, 0.8854]]]])\n",
      "tensor([[0.2907, 0.7564, 0.5959],\n",
      "        [0.0264, 0.4846, 0.8854]])\n",
      "torch.Size([1, 2, 3])\n",
      "tensor([[[0.2907, 0.7564, 0.5959],\n",
      "         [0.0264, 0.4846, 0.8854]]])\n",
      "torch.Size([1, 1, 2, 3])\n",
      "tensor([[[[0.2907, 0.7564, 0.5959],\n",
      "          [0.0264, 0.4846, 0.8854]]]])\n"
     ]
    }
   ],
   "source": [
    "print(x.size())\n",
    "print(x)\n",
    "x = x.squeeze()\n",
    "print(x)\n",
    "x = x.unsqueeze(dim=0)\n",
    "print(x.size())\n",
    "print(x)\n",
    "x = x.unsqueeze(dim=0)\n",
    "print(x.size())\n",
    "print(x)"
   ]
  },
  {
   "cell_type": "code",
   "execution_count": 37,
   "id": "7a9a3a07",
   "metadata": {},
   "outputs": [
    {
     "name": "stdout",
     "output_type": "stream",
     "text": [
      "tensor([[0.2907, 0.7564, 0.5959, 0.0264, 0.4846, 0.8854]])\n",
      "tensor([0.2907, 0.7564, 0.5959, 0.0264, 0.4846, 0.8854])\n",
      "tensor([[0.2907, 0.7564, 0.5959, 0.0264, 0.4846, 0.8854]])\n",
      "tensor([[0.2907, 0.7564, 0.5959],\n",
      "        [0.0264, 0.4846, 0.8854]])\n",
      "----------------------\n",
      "tensor([0.4716, 0.6204, 0.9053, 0.3768, 0.0322, 0.8834, 0.3157])\n",
      "tensor([0.4716, 0.6204, 0.9053, 0.3768, 0.0322, 0.8834, 0.3157])\n",
      "tensor([[0.4716],\n",
      "        [0.6204],\n",
      "        [0.9053],\n",
      "        [0.3768],\n",
      "        [0.0322],\n",
      "        [0.8834],\n",
      "        [0.3157]])\n"
     ]
    },
    {
     "ename": "RuntimeError",
     "evalue": "shape '[2, 3]' is invalid for input of size 7",
     "output_type": "error",
     "traceback": [
      "\u001b[0;31m---------------------------------------------------------------------------\u001b[0m",
      "\u001b[0;31mRuntimeError\u001b[0m                              Traceback (most recent call last)",
      "\u001b[0;32m/tmp/ipykernel_4667/2912503729.py\u001b[0m in \u001b[0;36m<module>\u001b[0;34m\u001b[0m\n\u001b[1;32m     12\u001b[0m \u001b[0mprint\u001b[0m\u001b[0;34m(\u001b[0m\u001b[0my\u001b[0m\u001b[0;34m.\u001b[0m\u001b[0mview\u001b[0m\u001b[0;34m(\u001b[0m\u001b[0;36m7\u001b[0m\u001b[0;34m,\u001b[0m\u001b[0;34m-\u001b[0m\u001b[0;36m1\u001b[0m\u001b[0;34m)\u001b[0m\u001b[0;34m)\u001b[0m\u001b[0;34m\u001b[0m\u001b[0;34m\u001b[0m\u001b[0m\n\u001b[1;32m     13\u001b[0m \u001b[0;34m\u001b[0m\u001b[0m\n\u001b[0;32m---> 14\u001b[0;31m \u001b[0mprint\u001b[0m\u001b[0;34m(\u001b[0m\u001b[0my\u001b[0m\u001b[0;34m.\u001b[0m\u001b[0mview\u001b[0m\u001b[0;34m(\u001b[0m\u001b[0;36m2\u001b[0m\u001b[0;34m,\u001b[0m\u001b[0;36m3\u001b[0m\u001b[0;34m)\u001b[0m\u001b[0;34m)\u001b[0m\u001b[0;34m\u001b[0m\u001b[0;34m\u001b[0m\u001b[0m\n\u001b[0m\u001b[1;32m     15\u001b[0m \u001b[0mprint\u001b[0m\u001b[0;34m(\u001b[0m\u001b[0my\u001b[0m\u001b[0;34m)\u001b[0m\u001b[0;34m\u001b[0m\u001b[0;34m\u001b[0m\u001b[0m\n",
      "\u001b[0;31mRuntimeError\u001b[0m: shape '[2, 3]' is invalid for input of size 7"
     ]
    }
   ],
   "source": [
    "# view函数相当于resize的功能，将原来的tensor变换成指的维度\n",
    "# torch.view(参数a,参数b,.....)，其中参数a=3,参数b=2决定了将一维的tt1重构成3*2维的张量。\n",
    "# 有时候会出现torch.view(-1)或者torch.view(参数a,-1)这种情况。则-1参数是需要估算的。\n",
    "\n",
    "print(x.view(x.size(0), -1))\n",
    "print(x.view(-1))\n",
    "print(x.view(1,-1))\n",
    "print(x.view(2,-1))\n",
    "print(\"----------------------\")\n",
    "print(y.view(-1))\n",
    "print(y.view(7))\n",
    "print(y.view(7,-1))\n",
    "\n",
    "print(y.view(2,3))\n",
    "print(y)"
   ]
  },
  {
   "cell_type": "code",
   "execution_count": null,
   "id": "d54838d2",
   "metadata": {},
   "outputs": [],
   "source": []
  },
  {
   "cell_type": "code",
   "execution_count": null,
   "id": "fa4d66fd",
   "metadata": {},
   "outputs": [],
   "source": []
  }
 ],
 "metadata": {
  "kernelspec": {
   "display_name": "Python 3 (ipykernel)",
   "language": "python",
   "name": "python3"
  },
  "language_info": {
   "codemirror_mode": {
    "name": "ipython",
    "version": 3
   },
   "file_extension": ".py",
   "mimetype": "text/x-python",
   "name": "python",
   "nbconvert_exporter": "python",
   "pygments_lexer": "ipython3",
   "version": "3.7.11"
  }
 },
 "nbformat": 4,
 "nbformat_minor": 5
}

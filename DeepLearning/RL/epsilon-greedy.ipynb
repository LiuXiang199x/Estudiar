{
 "cells": [
  {
   "cell_type": "code",
   "execution_count": 1,
   "id": "0450b25d",
   "metadata": {},
   "outputs": [],
   "source": [
    "import random\n",
    "\n",
    "def ind_max(x):\n",
    "  m = max(x)\n",
    "  return x.index(m)\n",
    "\n",
    "class EpsilonGreedy():\n",
    "  def __init__(self, epsilon, counts, values):\n",
    "    self.epsilon = epsilon\n",
    "    self.counts = counts\n",
    "    self.values = values\n",
    "    return\n",
    "\n",
    "  def initialize(self, n_arms):\n",
    "    self.counts = [0 for col in range(n_arms)]\n",
    "    self.values = [0.0 for col in range(n_arms)]\n",
    "    return\n",
    "\n",
    "  def select_arm(self):\n",
    "    if random.random() > self.epsilon:\n",
    "      return ind_max(self.values)\n",
    "    else:\n",
    "      return random.randrange(len(self.values))\n",
    "\n",
    "  def update(self, chosen_arm, reward):\n",
    "    self.counts[chosen_arm] = self.counts[chosen_arm] + 1\n",
    "    n = self.counts[chosen_arm]\n",
    "\n",
    "    value = self.values[chosen_arm]\n",
    "    new_value = ((n - 1) / float(n)) * value + (1 / float(n)) * reward\n",
    "    self.values[chosen_arm] = new_value\n",
    "    return"
   ]
  },
  {
   "cell_type": "code",
   "execution_count": null,
   "id": "a79cd4c0",
   "metadata": {},
   "outputs": [],
   "source": []
  }
 ],
 "metadata": {
  "kernelspec": {
   "display_name": "Python 3 (ipykernel)",
   "language": "python",
   "name": "python3"
  },
  "language_info": {
   "codemirror_mode": {
    "name": "ipython",
    "version": 3
   },
   "file_extension": ".py",
   "mimetype": "text/x-python",
   "name": "python",
   "nbconvert_exporter": "python",
   "pygments_lexer": "ipython3",
   "version": "3.7.0"
  }
 },
 "nbformat": 4,
 "nbformat_minor": 5
}

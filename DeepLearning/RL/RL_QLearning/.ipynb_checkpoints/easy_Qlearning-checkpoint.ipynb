{
 "cells": [
  {
   "cell_type": "code",
   "execution_count": 1,
   "id": "7bb063c1",
   "metadata": {},
   "outputs": [],
   "source": [
    "import numpy as np\n",
    "import torch\n",
    "\n",
    "# 动作数。\n",
    "ACTIONS = 6\n",
    "\n",
    "# 探索次数。\n",
    "episode = 100\n",
    "\n",
    "# 目标状态，即：移动到 5 号房间。\n",
    "target_state = 5\n",
    "\n",
    "# γ，折损率，取值是 0 到 1 之间。\n",
    "gamma = 0.8\n",
    "\n",
    "# 经验矩阵。\n",
    "q = np.zeros((6, 6))\n",
    "\n",
    "\n",
    "def create_r():\n",
    "    r = np.array([[-1, -1, -1, -1, 0, -1],\n",
    "                  [-1, -1, -1, 0, -1, 100.0],\n",
    "                  [-1, -1, -1, 0, -1, -1],\n",
    "                  [-1, 0, 0, -1, 0, -1],\n",
    "                  [0, -1, -1, 1, -1, 100],\n",
    "                  [-1, 0, -1, -1, 0, 100],\n",
    "                  ])\n",
    "    return r"
   ]
  },
  {
   "cell_type": "code",
   "execution_count": 2,
   "id": "dcd1acdf",
   "metadata": {},
   "outputs": [
    {
     "name": "stdout",
     "output_type": "stream",
     "text": [
      "状态与动作的得分矩阵:\n",
      "[[ -1.  -1.  -1.  -1.   0.  -1.]\n",
      " [ -1.  -1.  -1.   0.  -1. 100.]\n",
      " [ -1.  -1.  -1.   0.  -1.  -1.]\n",
      " [ -1.   0.   0.  -1.   0.  -1.]\n",
      " [  0.  -1.  -1.   1.  -1. 100.]\n",
      " [ -1.   0.  -1.  -1.   0. 100.]]\n",
      "经验矩阵:\n",
      "[[ -1.   -1.   -1.   -1.   80.   -1. ]\n",
      " [ -1.   -1.   -1.   64.   -1.  100. ]\n",
      " [ -1.   -1.   -1.   64.   -1.   -1. ]\n",
      " [ -1.   80.   51.2  -1.   80.   -1. ]\n",
      " [ 64.   -1.   -1.   65.   -1.  100. ]\n",
      " [  0.    0.    0.    0.    0.    0. ]]\n",
      "Agent 由 0 号房间移动到了 4 号房间\n",
      "Agent 由 4 号房间移动到了 5 号房间\n",
      "Agent 在 0 号房间开始移动了 2 步到达了目标房间 5\n"
     ]
    }
   ],
   "source": [
    "if __name__ == '__main__':\n",
    "    r = create_r()\n",
    "    print(\"状态与动作的得分矩阵:\")\n",
    "    print(r)\n",
    "\n",
    "    # 搜索次数。\n",
    "    for index in range(episode):\n",
    "\n",
    "        # Agent 的初始位置的状态。\n",
    "        start_room = np.random.randint(0, 5)\n",
    "\n",
    "        # 当前状态。\n",
    "        current_state = start_room\n",
    "\n",
    "        while current_state != target_state:\n",
    "            # 当前状态中的随机选取下一个可执行的动作。\n",
    "            current_action = np.random.randint(0, ACTIONS)\n",
    "\n",
    "            # 执行该动作后的得分。\n",
    "            current_action_point = r[current_state][current_action]\n",
    "\n",
    "            if current_action_point < 0:\n",
    "                q[current_state][current_action] = current_action_point\n",
    "            else:\n",
    "                # 得到下一个状态。\n",
    "                next_state = current_action\n",
    "\n",
    "                # 获得下一个状态中，在自我经验中，也就是 Q 矩阵的最有价值的动作的经验得分。\n",
    "                next_state_max_q = q[next_state].max()\n",
    "\n",
    "                # 当前动作的经验总得分 = 当前动作得分 + γ X 执行该动作后的下一个状态的最大的经验得分\n",
    "                # 即：积累经验 = 动作执行后的即时奖励 + 下一状态根据现有学习经验中最有价值的选择 X 折扣率\n",
    "                q[current_state][current_action] = current_action_point + gamma * next_state_max_q\n",
    "\n",
    "                current_state = next_state\n",
    "\n",
    "    print(\"经验矩阵:\")\n",
    "    print(q)\n",
    "\n",
    "    start_room = np.random.randint(0, 5)\n",
    "    current_state = start_room\n",
    "\n",
    "    step = 0\n",
    "\n",
    "    while current_state != target_state:\n",
    "        next_state = np.argmax(q[current_state])\n",
    "        print(\"Agent 由\", current_state, \"号房间移动到了\", next_state, \"号房间\")\n",
    "        current_state = next_state\n",
    "        step += 1\n",
    "\n",
    "    print(\"Agent 在\", start_room, \"号房间开始移动了\", step, \"步到达了目标房间 5\")"
   ]
  },
  {
   "cell_type": "code",
   "execution_count": 15,
   "id": "ab2fe59e",
   "metadata": {},
   "outputs": [],
   "source": []
  },
  {
   "cell_type": "code",
   "execution_count": 16,
   "id": "b8cae986",
   "metadata": {},
   "outputs": [
    {
     "ename": "RecursionError",
     "evalue": "maximum recursion depth exceeded in comparison",
     "output_type": "error",
     "traceback": [
      "\u001b[0;31m---------------------------------------------------------------------------\u001b[0m",
      "\u001b[0;31mRecursionError\u001b[0m                            Traceback (most recent call last)",
      "\u001b[0;32m/tmp/ipykernel_18614/2700042983.py\u001b[0m in \u001b[0;36m<module>\u001b[0;34m\u001b[0m\n\u001b[0;32m----> 1\u001b[0;31m \u001b[0mQLearning\u001b[0m\u001b[0;34m(\u001b[0m\u001b[0mR\u001b[0m\u001b[0;34m[\u001b[0m\u001b[0;36m0\u001b[0m\u001b[0;34m,\u001b[0m\u001b[0;36m3\u001b[0m\u001b[0;34m]\u001b[0m\u001b[0;34m)\u001b[0m\u001b[0;34m\u001b[0m\u001b[0m\n\u001b[0m",
      "\u001b[0;32m/tmp/ipykernel_18614/765348540.py\u001b[0m in \u001b[0;36mQLearning\u001b[0;34m(state)\u001b[0m\n\u001b[1;32m     17\u001b[0m     \u001b[0;32mwhile\u001b[0m \u001b[0mcount\u001b[0m\u001b[0;34m<\u001b[0m\u001b[0;36m1000\u001b[0m\u001b[0;34m:\u001b[0m\u001b[0;34m\u001b[0m\u001b[0m\n\u001b[1;32m     18\u001b[0m         \u001b[0;32mfor\u001b[0m \u001b[0mi\u001b[0m \u001b[0;32min\u001b[0m \u001b[0mrange\u001b[0m\u001b[0;34m(\u001b[0m\u001b[0;36m6\u001b[0m\u001b[0;34m)\u001b[0m\u001b[0;34m:\u001b[0m\u001b[0;34m\u001b[0m\u001b[0m\n\u001b[0;32m---> 19\u001b[0;31m             \u001b[0mQLearning\u001b[0m\u001b[0;34m(\u001b[0m\u001b[0mi\u001b[0m\u001b[0;34m)\u001b[0m\u001b[0;34m\u001b[0m\u001b[0m\n\u001b[0m\u001b[1;32m     20\u001b[0m \u001b[0;34m\u001b[0m\u001b[0m\n\u001b[1;32m     21\u001b[0m         \u001b[0mcount\u001b[0m\u001b[0;34m+=\u001b[0m\u001b[0;36m1\u001b[0m\u001b[0;34m\u001b[0m\u001b[0m\n",
      "... last 1 frames repeated, from the frame below ...\n",
      "\u001b[0;32m/tmp/ipykernel_18614/765348540.py\u001b[0m in \u001b[0;36mQLearning\u001b[0;34m(state)\u001b[0m\n\u001b[1;32m     17\u001b[0m     \u001b[0;32mwhile\u001b[0m \u001b[0mcount\u001b[0m\u001b[0;34m<\u001b[0m\u001b[0;36m1000\u001b[0m\u001b[0;34m:\u001b[0m\u001b[0;34m\u001b[0m\u001b[0m\n\u001b[1;32m     18\u001b[0m         \u001b[0;32mfor\u001b[0m \u001b[0mi\u001b[0m \u001b[0;32min\u001b[0m \u001b[0mrange\u001b[0m\u001b[0;34m(\u001b[0m\u001b[0;36m6\u001b[0m\u001b[0;34m)\u001b[0m\u001b[0;34m:\u001b[0m\u001b[0;34m\u001b[0m\u001b[0m\n\u001b[0;32m---> 19\u001b[0;31m             \u001b[0mQLearning\u001b[0m\u001b[0;34m(\u001b[0m\u001b[0mi\u001b[0m\u001b[0;34m)\u001b[0m\u001b[0;34m\u001b[0m\u001b[0m\n\u001b[0m\u001b[1;32m     20\u001b[0m \u001b[0;34m\u001b[0m\u001b[0m\n\u001b[1;32m     21\u001b[0m         \u001b[0mcount\u001b[0m\u001b[0;34m+=\u001b[0m\u001b[0;36m1\u001b[0m\u001b[0;34m\u001b[0m\u001b[0m\n",
      "\u001b[0;31mRecursionError\u001b[0m: maximum recursion depth exceeded in comparison"
     ]
    }
   ],
   "source": []
  },
  {
   "cell_type": "code",
   "execution_count": null,
   "id": "36774f43",
   "metadata": {},
   "outputs": [],
   "source": []
  }
 ],
 "metadata": {
  "kernelspec": {
   "display_name": "Python 3 (ipykernel)",
   "language": "python",
   "name": "python3"
  },
  "language_info": {
   "codemirror_mode": {
    "name": "ipython",
    "version": 3
   },
   "file_extension": ".py",
   "mimetype": "text/x-python",
   "name": "python",
   "nbconvert_exporter": "python",
   "pygments_lexer": "ipython3",
   "version": "3.7.0"
  }
 },
 "nbformat": 4,
 "nbformat_minor": 5
}

{
 "cells": [
  {
   "cell_type": "code",
   "execution_count": 1,
   "id": "b6ea0c6d",
   "metadata": {},
   "outputs": [
    {
     "ename": "ModuleNotFoundError",
     "evalue": "No module named 'RL_brain'",
     "output_type": "error",
     "traceback": [
      "\u001b[0;31m---------------------------------------------------------------------------\u001b[0m",
      "\u001b[0;31mModuleNotFoundError\u001b[0m                       Traceback (most recent call last)",
      "\u001b[0;32m/tmp/ipykernel_4382/2358067376.py\u001b[0m in \u001b[0;36m<module>\u001b[0;34m\u001b[0m\n\u001b[1;32m      1\u001b[0m \u001b[0;32mfrom\u001b[0m \u001b[0mmaze_env\u001b[0m \u001b[0;32mimport\u001b[0m \u001b[0mMaze\u001b[0m\u001b[0;34m\u001b[0m\u001b[0m\n\u001b[0;32m----> 2\u001b[0;31m \u001b[0;32mfrom\u001b[0m \u001b[0mRL_brain\u001b[0m \u001b[0;32mimport\u001b[0m \u001b[0mDeepQNetwork\u001b[0m\u001b[0;34m\u001b[0m\u001b[0m\n\u001b[0m",
      "\u001b[0;31mModuleNotFoundError\u001b[0m: No module named 'RL_brain'"
     ]
    }
   ],
   "source": [
    "from maze_env import Maze\n",
    "from RL_brain import DeepQNetwork"
   ]
  },
  {
   "cell_type": "code",
   "execution_count": 2,
   "id": "203bb07c",
   "metadata": {},
   "outputs": [],
   "source": [
    "def run_maze():\n",
    "    step = 0   # 控制什么时候学习\n",
    "    for episode in raneg(300):\n",
    "        # init the environment\n",
    "        observation = env.reset()\n",
    "        \n",
    "        while True:\n",
    "            # fresh environment\n",
    "            env.render()\n",
    "            \n",
    "            # DQN根据观测值选择行为\n",
    "            action = RL.choose_action(observation)\n",
    "            \n",
    "            # 环境根据行为给出下一个state，reward，是否终止\n",
    "            observation_, reward, done = env.step(action)\n",
    "            \n",
    "            # DQN 存储记忆\n",
    "            RL.store_transition(observation, action, reward, observation_)\n",
    "            \n",
    "            # 控制学习起始时间和频率(先累计一些记忆再开始学习)\n",
    "            if (step>200) and (step%5 == 0):\n",
    "                RL.learn()\n",
    "                \n",
    "            # 将下一个state_变为下次循环的state\n",
    "            observation = observation_\n",
    "            \n",
    "            # 如果终止，就跳出循环\n",
    "            if done:\n",
    "                break\n",
    "            step += 1\n",
    "            \n",
    "        # end of game\n",
    "        print(\"game over\")\n",
    "        env.destroy()"
   ]
  },
  {
   "cell_type": "code",
   "execution_count": null,
   "id": "7c61d33b",
   "metadata": {},
   "outputs": [],
   "source": [
    "if __name__ == '__main__':\n",
    "    env = Maze()\n",
    "    RL = DeepQNetwork(env.n_actions, env.n_features,\n",
    "                     learning_rate = 0.01,\n",
    "                     reward_decay = 0.9,\n",
    "                     e_greedy = 0.9,\n",
    "                     replace_target_iter = 200, # 每200步替换一次target_net参数\n",
    "                     memory_size = 2000, # 记忆上限\n",
    "                     # output_graph = True  # 是否输出tensorboard文件\n",
    "                     )\n",
    "    env.after(100, run_maze)\n",
    "    env.mainloop()\n",
    "    RL.plot_cost()  # 观看神经网络的误差曲线"
   ]
  }
 ],
 "metadata": {
  "kernelspec": {
   "display_name": "Python 3 (ipykernel)",
   "language": "python",
   "name": "python3"
  },
  "language_info": {
   "codemirror_mode": {
    "name": "ipython",
    "version": 3
   },
   "file_extension": ".py",
   "mimetype": "text/x-python",
   "name": "python",
   "nbconvert_exporter": "python",
   "pygments_lexer": "ipython3",
   "version": "3.7.0"
  }
 },
 "nbformat": 4,
 "nbformat_minor": 5
}
